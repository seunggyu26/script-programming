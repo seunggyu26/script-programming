{
 "cells": [
  {
   "cell_type": "markdown",
   "metadata": {},
   "source": [
    "#Assignment 1"
   ]
  },
  {
   "cell_type": "markdown",
   "metadata": {},
   "source": [
    "###1. a=\"Hello Python\" 문자열을 Slicing과 연결 연산자 (+)를 사용하여 \"Python Hello\"로 변경하시오.\n",
    "#### [주의] a 변수 자체에 \"Python Hello\" 문자열이 저장되어야 함"
   ]
  },
  {
   "cell_type": "code",
   "execution_count": 1,
   "metadata": {
    "collapsed": false
   },
   "outputs": [
    {
     "name": "stdout",
     "output_type": "stream",
     "text": [
      "Python Hello\n"
     ]
    }
   ],
   "source": [
    "a = \"Hello Python\"\n",
    "a = a[6:] + \" \" + a[:5]\n",
    "print a"
   ]
  },
  {
   "cell_type": "markdown",
   "metadata": {},
   "source": [
    "초기값으로 a변수에 \"Hello Python\"라는 문자열을 입력시켰다.<br />\n",
    "문제에서 원하는 문자열 \"Python Hello\"를 만들기 위하여, 새로 입력한 문자열 \"Python \"과 기존 변수 a에 입력되어 있는 \"Hello\"부분을<br />\n",
    "0부터 4까지 Slicing하여 이를 연결 연산자 (+)를 이용하여 연결시켜 a 변수 자체에 \"Python Hello\"문자열을 저장시켜 주었다."
   ]
  },
  {
   "cell_type": "markdown",
   "metadata": {},
   "source": [
    "### 2. b=\"Hello Python World\" 문자열을 Slicing과 연결 연산자 (+)를 사용하여 \"World Python Hello\"로 변경하시오.\n",
    "#### [주의] b 변수 자체에 \"Python Hello\" 문자열이 저장되어야 함"
   ]
  },
  {
   "cell_type": "code",
   "execution_count": 4,
   "metadata": {
    "collapsed": false
   },
   "outputs": [
    {
     "name": "stdout",
     "output_type": "stream",
     "text": [
      "World Python Hello\n"
     ]
    }
   ],
   "source": [
    "b = \"Hello Python World\"\n",
    "b = b[6:13] + b[:5]\n",
    "\n",
    "# print b : Python Hello\n",
    "print \"World \" + b"
   ]
  },
  {
   "cell_type": "markdown",
   "metadata": {},
   "source": [
    "초기값으로 b변수에 \"Hello Python World\"라는 문자열을 입력시켰다. <br />\n",
    "문제에서 원하는 \"World Python Hello\"를 만들기 위해 우선 [주의]를 만족시키는 변수 b를 새로 만들기로 하였다.<br />\n",
    "변수 b에 \"Python \"부분을 기본 변수 b에 입력된 문자열 6부터 12까지 Slicing하여 이를 연결 연산자 (+)를 이용하여 새로 입력한 \"Hello\"문자열과 연결시켜 값을 저장시켰다.<br />\n",
    "이후 print함수를 사용하여 \"World \"문자열과 b문자열을 연결 연산자 (+)를 사용하여 \"World Python Hello\"를 출력하였다."
   ]
  },
  {
   "cell_type": "markdown",
   "metadata": {},
   "source": [
    "### 3. c=\"Hello\"를 \"olleH\"로 변경하시오\n",
    "#### [주의] c 변수 자체에 \"olleH\" 문자열이 저장되어야 함"
   ]
  },
  {
   "cell_type": "code",
   "execution_count": 10,
   "metadata": {
    "collapsed": false
   },
   "outputs": [
    {
     "name": "stdout",
     "output_type": "stream",
     "text": [
      "olleH\n"
     ]
    }
   ],
   "source": [
    "c = \"Hello\"\n",
    "c = c[::-1]\n",
    "print c"
   ]
  },
  {
   "cell_type": "markdown",
   "metadata": {},
   "source": [
    "변수 c의 초기값으로 \"Hello\"문자열을 입력시켰다. <br />\n",
    "문제에서 문자열 \"olleH\"를 출력하기를 원했는데 이는 변수 c에 입력된 문자열의 역순인 것을 알 수 있다. <br />\n",
    "따라서 Slicing을 이용하여 문자열 전체 범위를 역순 순차적(-1)으로 하여 이를 c 변수에 할당시켜 주었다.<br />\n",
    "따라서 print 함수를 이용하여 c값을 출력하면 \"olleH\" 문자열이 나오는 것을 확인할 수 있다.<br />"
   ]
  },
  {
   "cell_type": "markdown",
   "metadata": {},
   "source": [
    "###4. s=\"python\"에 대해 다음 문제를 풀어보시오.\n",
    "- s[0], s[0][0], s[0][0][0]은 각각 어떤 값이 나오는지 확인하고 그 이유를 나름대로 설명해 보시오.\n",
    "- s[-100], s[100]은 값이 나오는지 에러가 나오는지 확인하고 그 결과에 대한 이유를 나름대로 설명해 보시오.\n",
    "- s[-100, 100]은 값이 나오는지 에러가 나오는지 확인하고 그 결과에 대한 이유를 나름대로 설명해 보시오.\n",
    "- s[1:-1]의 결과를 확인하고 그 결과에 대한 이유를 정확하게 설명하시오.\n",
    "- s[3:-3]의 결과를 확인하고 그 결과에 대한 이유를 정확하게 설명하시오."
   ]
  },
  {
   "cell_type": "code",
   "execution_count": 1,
   "metadata": {
    "collapsed": false
   },
   "outputs": [
    {
     "name": "stdout",
     "output_type": "stream",
     "text": [
      "p p p\n"
     ]
    }
   ],
   "source": [
    "#4_1\n",
    "s = \"python\"\n",
    "print s[0], s[0][0], s[0][0][0]"
   ]
  },
  {
   "cell_type": "markdown",
   "metadata": {},
   "source": [
    "위의 변수 s를 기준으로 보면, 파이썬에서 문자열은 s[]식으로 인덱싱이 된다. 따라서 s[0]은 문자열의 첫번째 문자 p를 가리킨다.<br />\n",
    "s[0][0]과 s[0][0][0] 또한 p라는 값이 출력된 것을 볼 수 있다. s[0][0]과 s[0][0][0] 구문에서 각각 앞자리의 수를 바꿔 s[1][0]과 s[1][0][0]을 하면 문자 y가 출력된 것을 확인할 수 있는데 이를 보고 뒤의 항목들이 모두 [0]이 되면 앞에서 가리키는 수에따라 문자열 s의 문자들이 출력되는 것이 아닌가 유추해 보았다."
   ]
  },
  {
   "cell_type": "code",
   "execution_count": 13,
   "metadata": {
    "collapsed": false
   },
   "outputs": [
    {
     "ename": "IndexError",
     "evalue": "string index out of range",
     "output_type": "error",
     "traceback": [
      "\u001b[1;31m---------------------------------------------------------------------------\u001b[0m",
      "\u001b[1;31mIndexError\u001b[0m                                Traceback (most recent call last)",
      "\u001b[1;32m<ipython-input-13-943b37a47338>\u001b[0m in \u001b[0;36m<module>\u001b[1;34m()\u001b[0m\n\u001b[0;32m      1\u001b[0m \u001b[1;31m#4_2\u001b[0m\u001b[1;33m\u001b[0m\u001b[1;33m\u001b[0m\u001b[0m\n\u001b[1;32m----> 2\u001b[1;33m \u001b[1;32mprint\u001b[0m \u001b[0ms\u001b[0m\u001b[1;33m[\u001b[0m\u001b[1;33m-\u001b[0m\u001b[1;36m100\u001b[0m\u001b[1;33m]\u001b[0m\u001b[1;33m,\u001b[0m \u001b[0ms\u001b[0m\u001b[1;33m[\u001b[0m\u001b[1;36m100\u001b[0m\u001b[1;33m]\u001b[0m\u001b[1;33m\u001b[0m\u001b[0m\n\u001b[0m",
      "\u001b[1;31mIndexError\u001b[0m: string index out of range"
     ]
    }
   ],
   "source": [
    "#4_2\n",
    "print s[-100], s[100]"
   ]
  },
  {
   "cell_type": "markdown",
   "metadata": {},
   "source": [
    "IndexError 부분을 보면 에러의 원인이 범위를 초과했다는 것을 알 수 있다. <br />\n",
    "변수 s의 문자열 \"python\"의 길이는 6이라 인덱싱의 범위는 s[0]부터 s[5]까지만 되어있다는 것을 유추할 수 있기 때문에 s[-100]과 s[100]의 출력은 오류가 생성된 것이다."
   ]
  },
  {
   "cell_type": "code",
   "execution_count": 29,
   "metadata": {
    "collapsed": false
   },
   "outputs": [
    {
     "ename": "TypeError",
     "evalue": "string indices must be integers, not tuple",
     "output_type": "error",
     "traceback": [
      "\u001b[1;31m---------------------------------------------------------------------------\u001b[0m",
      "\u001b[1;31mTypeError\u001b[0m                                 Traceback (most recent call last)",
      "\u001b[1;32m<ipython-input-29-f427f87a2283>\u001b[0m in \u001b[0;36m<module>\u001b[1;34m()\u001b[0m\n\u001b[0;32m      1\u001b[0m \u001b[1;31m#4_3\u001b[0m\u001b[1;33m\u001b[0m\u001b[1;33m\u001b[0m\u001b[0m\n\u001b[1;32m----> 2\u001b[1;33m \u001b[1;32mprint\u001b[0m \u001b[0ms\u001b[0m\u001b[1;33m[\u001b[0m\u001b[1;33m-\u001b[0m\u001b[1;36m100\u001b[0m\u001b[1;33m,\u001b[0m \u001b[1;36m100\u001b[0m\u001b[1;33m]\u001b[0m\u001b[1;33m\u001b[0m\u001b[0m\n\u001b[0m",
      "\u001b[1;31mTypeError\u001b[0m: string indices must be integers, not tuple"
     ]
    }
   ],
   "source": [
    "#4_3\n",
    "print s[-100, 100]"
   ]
  },
  {
   "cell_type": "markdown",
   "metadata": {},
   "source": [
    "원하는 문자를 선택하기 위해서 인덱스의 값은 정수가 들어야가 한다. 하지만 위에서는 튜플형식([-100, 100])으로 들어갔기 때문에 오류가 났다고 생각한다."
   ]
  },
  {
   "cell_type": "code",
   "execution_count": 15,
   "metadata": {
    "collapsed": false
   },
   "outputs": [
    {
     "name": "stdout",
     "output_type": "stream",
     "text": [
      "ytho\n"
     ]
    }
   ],
   "source": [
    "#4_4\n",
    "print s[1:-1]"
   ]
  },
  {
   "cell_type": "markdown",
   "metadata": {},
   "source": [
    "변수 s의 문자열은 \"python\"이다. Slicing된 내용을 살펴보면 시작점은 s[1]로 문자 'y'를 가리키고, 끝나는점은 s[-1]로 문자 'n'의 전 문자인 'o'에서 끝난다는 것을 확인할 수 있다. step은 따로 정의되어 있지 않기 때문에 기본값인 1로 값이 증가한다고 볼 수 있다. 따라서 s[1:-1]의 출력값은 \"ytho\"가 나오는 것을 확인할 수 있다."
   ]
  },
  {
   "cell_type": "code",
   "execution_count": 32,
   "metadata": {
    "collapsed": false
   },
   "outputs": [
    {
     "name": "stdout",
     "output_type": "stream",
     "text": [
      "\n"
     ]
    }
   ],
   "source": [
    "#4_5\n",
    "print s[3:-3]"
   ]
  },
  {
   "cell_type": "markdown",
   "metadata": {},
   "source": [
    "변수 s의 문자열은 \"python\"이다. Slicing된 내용을 살펴보면 시작점은 s[3]으로 문자 'h'를 가리키고, 끝나는점은 s[-2]로 문자 'o'이전에서 끝난다는 것을 확인할 수 있다. 여기서 문자 'o'이전이라고 하면 문자 'h'를 가리키는데, 시작점과 종료점이 같기 때문에 출력으로는 아무런 값이 나타나지 않는 것을 확인할 수 있다."
   ]
  },
  {
   "cell_type": "markdown",
   "metadata": {},
   "source": [
    "###5. for문을 활용하여 1부터 100사이의 홀수를 출력하시오."
   ]
  },
  {
   "cell_type": "code",
   "execution_count": 33,
   "metadata": {
    "collapsed": false
   },
   "outputs": [
    {
     "name": "stdout",
     "output_type": "stream",
     "text": [
      "1 3 5 7 9 11 13 15 17 19 21 23 25 27 29 31 33 35 37 39 41 43 45 47 49 51 53 55 57 59 61 63 65 67 69 71 73 75 77 79 81 83 85 87 89 91 93 95 97 99\n"
     ]
    }
   ],
   "source": [
    "for x in range(1,101):\n",
    "    if (x%2)==1:\n",
    "        print x,"
   ]
  },
  {
   "cell_type": "markdown",
   "metadata": {},
   "source": [
    "range()함수를 이용하여 1부터 100까지의 숫자 리스트를 반환하였다. <br />\n",
    "이를 for문을 이용하여 1부터 100까지 반복시켰고 이 때 조건문 if로 홀수의 조건인 x의 값을 2로 나누었을 경우 나머지가 1인 수들을 출력하게 하였다."
   ]
  },
  {
   "cell_type": "markdown",
   "metadata": {},
   "source": [
    "### 6. while문을 활용하여 1부터 100사이의 짝수의 합을 계산하여 출력하시오."
   ]
  },
  {
   "cell_type": "code",
   "execution_count": 8,
   "metadata": {
    "collapsed": false
   },
   "outputs": [
    {
     "name": "stdout",
     "output_type": "stream",
     "text": [
      "2550\n"
     ]
    }
   ],
   "source": [
    "e_sum = 0\n",
    "x = 1\n",
    "while x < 101 :\n",
    "    if(x%2)==0 :\n",
    "        e_sum+=x\n",
    "    x = x + 1\n",
    "\n",
    "print e_sum"
   ]
  },
  {
   "cell_type": "markdown",
   "metadata": {},
   "source": [
    "변수 x의 값을 1로 하고 while문을 활용하여 x의 범위가 100까지 되게 하였다.<br />\n",
    "x를 1부터 100까지 돌리는 동안 if문을 이용하여 짝수가 되는 수를 찾아 e_sum변수에 더하게 하였다."
   ]
  },
  {
   "cell_type": "markdown",
   "metadata": {},
   "source": [
    "### 7. 사용자로 부터 임의의 정수를 입력받고, 해당 숫자를 역순으로 출력하는 프로그램을 작성하시오.\n",
    "\n",
    "#### [실행 예]\n",
    "\n",
    "정수를 입력하세요: 3125 <br/ >\n",
    "숫자 역순은 5213 입니다."
   ]
  },
  {
   "cell_type": "code",
   "execution_count": 4,
   "metadata": {
    "collapsed": false
   },
   "outputs": [
    {
     "name": "stdout",
     "output_type": "stream",
     "text": [
      "Enter Integer: 654321\n",
      "숫자의 역순은 123456 입니다.\n"
     ]
    }
   ],
   "source": [
    "a = raw_input('Enter Integer: ')\n",
    "print \"숫자의 역순은 \" + a[::-1] + \" 입니다.\""
   ]
  },
  {
   "cell_type": "markdown",
   "metadata": {},
   "source": [
    "사용자에게 문자열을 입력받게 하는 raw_input()을 사용하여 정수를 입력받도록 하였다.<br />\n",
    "입력받은 변수 a를 Slicing을 이용하여 입력받은 정수를 역순으로 출력하게 하였다."
   ]
  },
  {
   "cell_type": "markdown",
   "metadata": {},
   "source": [
    "### 8. 사용자로 부터 정수를 입력받아서 1부터 그 사이에 존재하는 소수 (Prime number)를 출력하는 파이썬 프로그램을 작성하시오."
   ]
  },
  {
   "cell_type": "code",
   "execution_count": 7,
   "metadata": {
    "collapsed": false
   },
   "outputs": [
    {
     "name": "stdout",
     "output_type": "stream",
     "text": [
      "Entet Integer: 20\n",
      "2 3 5 7 11 13 17 19\n"
     ]
    }
   ],
   "source": [
    "usrnum = input('Entet Integer: ')\n",
    "\n",
    "if usrnum==1 :\n",
    "    print \" \"\n",
    "else :\n",
    "    for cnd in range(2, usrnum+1) :\n",
    "        num=0\n",
    "        for div in range(1, cnd+1) :\n",
    "            if (cnd%div)==0 :\n",
    "                num = num + 1\n",
    "        if num == 2 :\n",
    "            print cnd,\n"
   ]
  },
  {
   "cell_type": "markdown",
   "metadata": {},
   "source": [
    "사용자에게 정수를 입력받아 그 수를 변수 usrnum에 입력시켰다.<br />\n",
    "이 때, 1을 입력 받으면 소수가 없기 때문에 빈칸을 출력시키게 하였고 입력받은 수가 1이 아닌 수를 대상으로 소수들을 찾도록 만들었다.<br />\n",
    "변수 cnd는 소수가 될 수 있는 대상들을 나타내었고, 변수 div는 1부터 해당 cnd값까지 변수 cnd를 나누게 하여 나머지가 0이 되면 num값을 증가시키도록 하였다. 소수는 1과 자기 자신만을 인수로 가지기 때문에 해당 cnd가 소수라면 num의 값은 무조건 2가 된다.<br />\n",
    "따라서 num의 값이 2인 cnd를 찾아내어 이들을 출력시켜 주어 소수를 출력하게 하였다."
   ]
  },
  {
   "cell_type": "markdown",
   "metadata": {},
   "source": [
    "### 9. <BR /> 10보다 작은 자연수 중에서 3 또는 5의 배수는 3, 5, 6, 9 이고, 이것을 모두 더하면 23입니다. <BR />    1000보다 작은 자연수 중에서 3 또는 5의 배수를 모두 더하면 얼마일까요?"
   ]
  },
  {
   "cell_type": "code",
   "execution_count": 9,
   "metadata": {
    "collapsed": false
   },
   "outputs": [
    {
     "name": "stdout",
     "output_type": "stream",
     "text": [
      "233168\n"
     ]
    }
   ],
   "source": [
    "m_sum = 0\n",
    "\n",
    "for x in range(1, 1000) :\n",
    "    if (x%3)==0 or (x%5)==0 :\n",
    "        m_sum+=x\n",
    "print m_sum"
   ]
  },
  {
   "cell_type": "markdown",
   "metadata": {},
   "source": [
    "for()문을 사용하여 범위를 1부터 1000미만 까지 설정하였다. 이 때, 범위 안의 수가 3으로 나누었을 때 또는 5로 나누었을 때 나머지가 0이 되면 해당 값을 변수 m_sum에 합하여 3또는 5의 배수를 모두 더하게 하였다."
   ]
  },
  {
   "cell_type": "markdown",
   "metadata": {},
   "source": [
    "### 10. <BR /> 피보나치 수열의 각 항은 바로 앞의 항 두 개를 더한 것이 됩니다. 1과 2로 시작하는 경우 이 수열은 아래와 같습니다. <BR /> 1, 2, 3, 5, 8, 13, 21, 34, 55, 89, ... <BR /> 짝수이면서 4백만 이하인 모든 항을 더하면 얼마가 됩니까?"
   ]
  },
  {
   "cell_type": "code",
   "execution_count": 11,
   "metadata": {
    "collapsed": false
   },
   "outputs": [
    {
     "name": "stdout",
     "output_type": "stream",
     "text": [
      "4613732\n"
     ]
    }
   ],
   "source": [
    "a = 1; b = 2\n",
    "f_sum = 2\n",
    "\n",
    "for x in range(3, 4000001) :\n",
    "    if x%(a+b) == 0 :\n",
    "        \n",
    "        if x%2 == 0 :\n",
    "            f_sum += x\n",
    "        \n",
    "        a = b\n",
    "        b = x\n",
    "\n",
    "print f_sum"
   ]
  },
  {
   "cell_type": "markdown",
   "metadata": {},
   "source": [
    "변수 a와 b를 선언하여 피보나치 수열의 첫 번째 값인 1과 두 번째 값인 2를 입력시켰다.<br />\n",
    "for()문을 사용하여 범위를 3부터 40000까지 하였고, 첫번째 if()문을 이용하여 범위 안의 숫자 중 피보나치 수를 찾아내도록 하였다.<br />\n",
    "두번째 if()문에서는 찾아낸 피보나치 수가 짝수인가를 판별하도록 하였고, 이 때 짝수이면 해당 수를 f_sum의 값에 더하도록 하였다.<br />\n",
    "첫번째 if()문이 끝나기 전에 a의 변수 값과 b의 변수 값에 각각 다음번 피보나치 수를 입력 시켜 첫번째 if()문이 시작할 때 새로운 피보나치 수를 찾도록 하였다.\n",
    "이렇게 하여 f_sum 변수에 짝수이면서 4백만 이하인 피보나치 수열을 모두 더한 값이 입력됨을 알 수 있다."
   ]
  },
  {
   "cell_type": "markdown",
   "metadata": {},
   "source": [
    "### 11. <BR />어떤 수를 소수의 곱으로만 나타내는 것을 소인수분해라 하고, 이 소수들을 그 수의 소인수라고 합니다. <BR />예를 들면 13195의 소인수는 5, 7, 13, 29 입니다. <BR /> 600851475143의 소인수 중에서 가장 큰 수를 구하세요."
   ]
  },
  {
   "cell_type": "code",
   "execution_count": 12,
   "metadata": {
    "collapsed": false,
    "scrolled": true
   },
   "outputs": [
    {
     "name": "stdout",
     "output_type": "stream",
     "text": [
      "6857\n"
     ]
    }
   ],
   "source": [
    "num=600851475143\n",
    "x = 2\n",
    "\n",
    "while x < num :\n",
    "    if (num % x) == 0 :\n",
    "        \n",
    "        num = num / x\n",
    "        x = 2\n",
    "    else :\n",
    "        x = x + 1\n",
    "\n",
    "print x\n",
    "        \n"
   ]
  },
  {
   "cell_type": "markdown",
   "metadata": {},
   "source": [
    "8번 문제와 비슷한 문제라 처음에는 8번 문제에 사용한 코드를 바탕으로 문제를 풀어보기로 하였다. 그런데 8번 문제의 소스를 사용하려고 했는데 range()의 범위에 문제에서 주어진 6천억이 넘는 수를 넣으니 범위를 초과하였다는 오류가 나왔다. 다른 방법을 생각해보려고 했는데 range()함수를 쓰는 방법 이외에는 떠오르질 않아 새로운 방법을 찾아보기로 하였다. 그 중 어떤 수의 소인수들을 모두 곱하면 해당 수가 나온다는 글을 찾을 수 있었다.  이 개념을 바탕으로 변수 num의 수를 2부터 1씩 증가하며 나누면서 그 몫을 num으로 새로 할당시키는 코드가 나오게 되었다. 생각보다 짧고 간단한 코드가 나오게 되어서 신기했다"
   ]
  },
  {
   "cell_type": "markdown",
   "metadata": {},
   "source": [
    "## [소감]"
   ]
  },
  {
   "cell_type": "markdown",
   "metadata": {},
   "source": [
    "주변 지인들의 추천으로 파이썬 프로그래밍 강좌를 신청했습니다. 화요일마다 이러닝으로 수업을 한 후 목요일에 복습 및 이론 실습을 한다는 것을 들었을 땐 걱정이 있었습니다. 이러한 방법으로 저번 학기 때 수업을 들은 강좌가 있었는데 한 주에 공부해와야 되는 분량이 많아 매우 힘들었었습니다. 그런데 첫 이러닝을 들었는데 타 이러닝과는 달리 교수님이 강좌를 설명하시고 직접 바로 실습도 해주시는 형식으로 되어있어 강의실은 아니지만 교수님께 직접 수업을 듣는 것 같아 집중도 잘 되고 이해도 잘 되고 있습니다. 배운 것들을 바탕으로 문제를 통해 이론을 적용해 볼 수 있어서 좋았습니다. 생각보다 과제 양이 많긴 했습니다. 그래서 프로젝트 오일러 문제를 매주 2문제 정도로만 하면 어떨까 살짝 건의를 해봅니다. 교수님이 내주시는 이론 적용 문제와 프로젝트 오일러 2문제 정도면 1주일 과제로 충분하지 않을까라는 생각이 들었습니다. 학기가 끝날 때 까지 열심히 배우겠습니다. 감사합니다."
   ]
  }
 ],
 "metadata": {
  "kernelspec": {
   "display_name": "Python 2",
   "language": "python",
   "name": "python2"
  },
  "language_info": {
   "codemirror_mode": {
    "name": "ipython",
    "version": 2
   },
   "file_extension": ".py",
   "mimetype": "text/x-python",
   "name": "python",
   "nbconvert_exporter": "python",
   "pygments_lexer": "ipython2",
   "version": "2.7.9"
  }
 },
 "nbformat": 4,
 "nbformat_minor": 0
}
