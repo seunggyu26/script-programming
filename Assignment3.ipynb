{
 "cells": [
  {
   "cell_type": "markdown",
   "metadata": {},
   "source": [
    "###1. L=[1, 2, 3, 4, 5]일 때 다음 각 문장을 수행한 후의 결과를 보고 납득할 만한 이유를 설명하시오."
   ]
  },
  {
   "cell_type": "code",
   "execution_count": 2,
   "metadata": {
    "collapsed": true
   },
   "outputs": [],
   "source": [
    "L=[1, 2, 3, 4, 5]"
   ]
  },
  {
   "cell_type": "code",
   "execution_count": 3,
   "metadata": {
    "collapsed": false
   },
   "outputs": [
    {
     "name": "stdout",
     "output_type": "stream",
     "text": [
      "[1, 100, 4, 5]\n"
     ]
    }
   ],
   "source": [
    "# 1)\n",
    "\n",
    "L[1:3] = [100]\n",
    "print L"
   ]
  },
  {
   "cell_type": "markdown",
   "metadata": {},
   "source": [
    "리스트 L의 1번째부터 2번째 까지의 인덱스에 원소값 100을 삽입하였으므로, 삽입하는 원소의 갯수가 가리키는 인덱스의 갯수보다 적어도 해당 인덱스의 값들은 모두 사라지고 새로운 원소값이 추가된다."
   ]
  },
  {
   "cell_type": "code",
   "execution_count": 4,
   "metadata": {
    "collapsed": false
   },
   "outputs": [
    {
     "name": "stdout",
     "output_type": "stream",
     "text": [
      "[1, 100, 5]\n"
     ]
    }
   ],
   "source": [
    "# 2)\n",
    "\n",
    "L[1:3] = [(100)]\n",
    "print L"
   ]
  },
  {
   "cell_type": "markdown",
   "metadata": {},
   "source": [
    "1)과 동일하게 1번째부터 2번째까지의 인덱스에 새로운 원소값을 삽입하는 것이다. 이 때, (100)은 튜플로 인정되지 않고 int형이기 때문에 1)과 동일한 문장으로 볼 수 있다. 때문에 기존 리스트 L의 1번째와 2번째 인덱스가 가리키는 값은 사라지고 1번째 인덱스에 원소값 100이 삽입된 것을 볼 수 있다."
   ]
  },
  {
   "cell_type": "code",
   "execution_count": 5,
   "metadata": {
    "collapsed": false
   },
   "outputs": [
    {
     "ename": "TypeError",
     "evalue": "can only assign an iterable",
     "output_type": "error",
     "traceback": [
      "\u001b[1;31m---------------------------------------------------------------------------\u001b[0m",
      "\u001b[1;31mTypeError\u001b[0m                                 Traceback (most recent call last)",
      "\u001b[1;32m<ipython-input-5-2270065b1d90>\u001b[0m in \u001b[0;36m<module>\u001b[1;34m()\u001b[0m\n\u001b[0;32m      1\u001b[0m \u001b[1;31m# 3)\u001b[0m\u001b[1;33m\u001b[0m\u001b[1;33m\u001b[0m\u001b[0m\n\u001b[0;32m      2\u001b[0m \u001b[1;33m\u001b[0m\u001b[0m\n\u001b[1;32m----> 3\u001b[1;33m \u001b[0mL\u001b[0m\u001b[1;33m[\u001b[0m\u001b[1;36m1\u001b[0m\u001b[1;33m:\u001b[0m\u001b[1;36m3\u001b[0m\u001b[1;33m]\u001b[0m \u001b[1;33m=\u001b[0m \u001b[1;36m100\u001b[0m\u001b[1;33m\u001b[0m\u001b[0m\n\u001b[0m\u001b[0;32m      4\u001b[0m \u001b[1;32mprint\u001b[0m \u001b[0mL\u001b[0m\u001b[1;33m\u001b[0m\u001b[0m\n",
      "\u001b[1;31mTypeError\u001b[0m: can only assign an iterable"
     ]
    }
   ],
   "source": [
    "# 3)\n",
    "\n",
    "L[1:3] = 100\n",
    "print L"
   ]
  },
  {
   "cell_type": "markdown",
   "metadata": {},
   "source": [
    "L[1:3]와 같이 슬라이싱 형태로 값을 바꾸는 형식에는 int형은 들어갈 수 없다."
   ]
  },
  {
   "cell_type": "code",
   "execution_count": 6,
   "metadata": {
    "collapsed": false
   },
   "outputs": [
    {
     "ename": "TypeError",
     "evalue": "can only assign an iterable",
     "output_type": "error",
     "traceback": [
      "\u001b[1;31m---------------------------------------------------------------------------\u001b[0m",
      "\u001b[1;31mTypeError\u001b[0m                                 Traceback (most recent call last)",
      "\u001b[1;32m<ipython-input-6-7bf5dad3be7e>\u001b[0m in \u001b[0;36m<module>\u001b[1;34m()\u001b[0m\n\u001b[0;32m      1\u001b[0m \u001b[1;31m# 4)\u001b[0m\u001b[1;33m\u001b[0m\u001b[1;33m\u001b[0m\u001b[0m\n\u001b[0;32m      2\u001b[0m \u001b[1;33m\u001b[0m\u001b[0m\n\u001b[1;32m----> 3\u001b[1;33m \u001b[0mL\u001b[0m\u001b[1;33m[\u001b[0m\u001b[1;36m1\u001b[0m\u001b[1;33m:\u001b[0m\u001b[1;36m3\u001b[0m\u001b[1;33m]\u001b[0m \u001b[1;33m=\u001b[0m \u001b[1;33m(\u001b[0m\u001b[1;36m100\u001b[0m\u001b[1;33m)\u001b[0m\u001b[1;33m\u001b[0m\u001b[0m\n\u001b[0m\u001b[0;32m      4\u001b[0m \u001b[1;32mprint\u001b[0m \u001b[0mL\u001b[0m\u001b[1;33m\u001b[0m\u001b[0m\n",
      "\u001b[1;31mTypeError\u001b[0m: can only assign an iterable"
     ]
    }
   ],
   "source": [
    "# 4)\n",
    "\n",
    "L[1:3] = (100)\n",
    "print L"
   ]
  },
  {
   "cell_type": "markdown",
   "metadata": {},
   "source": [
    "(100)의 형태가 튜플처럼 보이지만 type을 살펴보면 int형 이므로 4번 문제와 같은 오류이다"
   ]
  },
  {
   "cell_type": "code",
   "execution_count": 7,
   "metadata": {
    "collapsed": false
   },
   "outputs": [
    {
     "name": "stdout",
     "output_type": "stream",
     "text": [
      "[1, 100, 101, 102]\n"
     ]
    }
   ],
   "source": [
    "# 5)\n",
    "\n",
    "L[1:3] = (100, 101, 102)\n",
    "print L"
   ]
  },
  {
   "cell_type": "markdown",
   "metadata": {},
   "source": [
    "L을 슬라이싱한 자리에 튜플로 된 원소 값들이 입력될 수 있다."
   ]
  },
  {
   "cell_type": "code",
   "execution_count": 8,
   "metadata": {
    "collapsed": false
   },
   "outputs": [
    {
     "name": "stdout",
     "output_type": "stream",
     "text": [
      "[1, 100, 101, 102, 102]\n"
     ]
    }
   ],
   "source": [
    "# 6)\n",
    "\n",
    "L[1:3] = [100, 101, 102]\n",
    "print L"
   ]
  },
  {
   "cell_type": "markdown",
   "metadata": {},
   "source": [
    "L[1:3]은 리스트 L의 1번째 인덱스와 2번째 인덱스가 가리키는 값을 리스트로 표현하고 있는데, 1번째 인덱스와 2번째 인덱스가 가리키는 값은 삭제되고 1번째 인덱스부터 시작하여 오른쪽에 입력된 [100, 101, 102]가 리스트 L에 삽입되었다."
   ]
  },
  {
   "cell_type": "code",
   "execution_count": 9,
   "metadata": {
    "collapsed": false
   },
   "outputs": [
    {
     "name": "stdout",
     "output_type": "stream",
     "text": [
      "[1, (100, 101, 102), 102, 102]\n"
     ]
    }
   ],
   "source": [
    "# 7)\n",
    "\n",
    "L[1:3] = [(100, 101, 102)]\n",
    "print L"
   ]
  },
  {
   "cell_type": "markdown",
   "metadata": {},
   "source": [
    "리스트의 원소로써 튜플인 (100, 101, 102)가 리스트 L의 1번째 인덱스의 값을 대체하여 들어갔고 2번째 인덱스 값은 삭제되었다."
   ]
  },
  {
   "cell_type": "code",
   "execution_count": 10,
   "metadata": {
    "collapsed": false
   },
   "outputs": [
    {
     "name": "stdout",
     "output_type": "stream",
     "text": [
      "[1, [100, 101, 102], 102]\n"
     ]
    }
   ],
   "source": [
    "# 8)\n",
    "\n",
    "L[1:3] = [[100, 101, 102]]\n",
    "print L"
   ]
  },
  {
   "cell_type": "markdown",
   "metadata": {},
   "source": [
    "리스트의 원소로써 리스트인 [100, 101, 102]가 리스트 L의 1번째 인덱스의 값을 대체하여 들어갔고 2번째 인덱스 값은 삭제되었다."
   ]
  },
  {
   "cell_type": "markdown",
   "metadata": {},
   "source": [
    "###2. 문자열 S = 'Hello World and Python'에 대해 다음 요구사항에 대한 Python 코드를 제시하시오.\n",
    "####1) 단어의 순서가 역순으로 되어진 문자열 ('Python and World Hello')을 만들고<br />2) 1)의 결과 문자열에 대해 메소드 split과 join을 이용하여 공백을 모두 없엔 문자열 'PythonandWorldHello'을 만드시오."
   ]
  },
  {
   "cell_type": "code",
   "execution_count": 1,
   "metadata": {
    "collapsed": false
   },
   "outputs": [],
   "source": [
    "S = 'Hello World and Python'"
   ]
  },
  {
   "cell_type": "code",
   "execution_count": 3,
   "metadata": {
    "collapsed": false
   },
   "outputs": [
    {
     "name": "stdout",
     "output_type": "stream",
     "text": [
      "Python and World Hello\n"
     ]
    }
   ],
   "source": [
    "R = S[16:22] + S[11:15] + S[5:12] + S[0:5]\n",
    "print R"
   ]
  },
  {
   "cell_type": "code",
   "execution_count": 4,
   "metadata": {
    "collapsed": false
   },
   "outputs": [
    {
     "name": "stdout",
     "output_type": "stream",
     "text": [
      "PythonandWorldHello\n"
     ]
    }
   ],
   "source": [
    "N = R.split()\n",
    "print ''.join(N)"
   ]
  },
  {
   "cell_type": "markdown",
   "metadata": {},
   "source": [
    "슬라이싱을 이용하여 S를 역순으로 되어진 문자열로 만든 후 변수 R에 입력하였다. 그리고 split()을 이용하여 공백으로 분리하여, 리스트 형태로 가진 결과값을 변수 N에 입력하였다. 그 후 ''을 기준으로 join()하여 문자열 S의 역순이면서 공백을 모두 제거한 문자열을 만들었다."
   ]
  },
  {
   "cell_type": "markdown",
   "metadata": {},
   "source": [
    "###3. 다음 코드를 보고 물음에 답하시오."
   ]
  },
  {
   "cell_type": "code",
   "execution_count": 14,
   "metadata": {
    "collapsed": false
   },
   "outputs": [
    {
     "name": "stdout",
     "output_type": "stream",
     "text": [
      "[1, 2, 3, 1, 2, 3, 1, 2, 3]\n",
      "[[1, 2, 3], [1, 2, 3], [1, 2, 3]]\n"
     ]
    }
   ],
   "source": [
    "a = [1, 2, 3]\n",
    "b = a * 3\n",
    "c = [a] * 3\n",
    "print b\n",
    "print c"
   ]
  },
  {
   "cell_type": "markdown",
   "metadata": {},
   "source": [
    "#### 3-1) 위 코드를 수행한 이후 다음 코드를 수행한 후 b와 c의 내용을 확인하시오."
   ]
  },
  {
   "cell_type": "code",
   "execution_count": 15,
   "metadata": {
    "collapsed": true
   },
   "outputs": [],
   "source": [
    "a[0]=0"
   ]
  },
  {
   "cell_type": "code",
   "execution_count": 16,
   "metadata": {
    "collapsed": false
   },
   "outputs": [
    {
     "name": "stdout",
     "output_type": "stream",
     "text": [
      "[1, 2, 3, 1, 2, 3, 1, 2, 3]\n",
      "[[0, 2, 3], [0, 2, 3], [0, 2, 3]]\n"
     ]
    }
   ],
   "source": [
    "print b\n",
    "print c"
   ]
  },
  {
   "cell_type": "markdown",
   "metadata": {},
   "source": [
    "####3-2) b와 c 객체의 차이는 무엇인가?"
   ]
  },
  {
   "cell_type": "markdown",
   "metadata": {},
   "source": [
    "b는 리스트 타입인 변수 a 자체를 3번 곱하는 것을 나타낸다. 따라서 원소가 1, 2, 3으로 3개인 a를 3번 반복한 값을 가지는 리스트를 가리키는 객체이다.\n",
    "c는 변수 a를 또 다른 비어있는 리스트의 한 원소로 받아 이를 3번 곱하는 것이다. 따라서 c는 하나의 원소인 [1,2,3]을 3번 반복하여 값을 가지는 리스트를 가리키는 객체이다."
   ]
  },
  {
   "cell_type": "markdown",
   "metadata": {},
   "source": [
    "###4. 다음 문자열을 ':'을 기준으로 분리하여 리스트로 만들고 각 문자열의 좌우 공백을 제거하시오 (즉, 문자열 S에서 l을 만들어라)"
   ]
  },
  {
   "cell_type": "code",
   "execution_count": 17,
   "metadata": {
    "collapsed": true
   },
   "outputs": [],
   "source": [
    "s = '  first star   :   second star   :    third star  '\n",
    "l = ['first star', 'second star', 'third star']"
   ]
  },
  {
   "cell_type": "markdown",
   "metadata": {},
   "source": [
    "####4-1) for ~ in 문을 이용한 코드를 작성하시오."
   ]
  },
  {
   "cell_type": "code",
   "execution_count": 18,
   "metadata": {
    "collapsed": false
   },
   "outputs": [
    {
     "name": "stdout",
     "output_type": "stream",
     "text": [
      "['first star', 'second star', 'third star']\n"
     ]
    }
   ],
   "source": [
    "str2 = []\n",
    "str1 = s.split(':')\n",
    "#print str1\n",
    "\n",
    "for x in str1 :\n",
    "    str2.append(x.strip())\n",
    "\n",
    "print str2"
   ]
  },
  {
   "cell_type": "markdown",
   "metadata": {
    "collapsed": true
   },
   "source": [
    "우선 문자열 s를 ':'을 기준으로 분리하기 위하여 split(':')을 이용하였다. 변수 str1에는 ':'을 기준으로 분리된 문자들이 리스트 형식으로 구분되어져 있다. for ~ in 구문으로 str1 원소들을 하나씩 선택하여 strip()을 이용하여 좌우 공백을 제거한 뒤 append()로 원소가 없는 리스트인 변수 str2에 하나씩 추가해준다."
   ]
  },
  {
   "cell_type": "markdown",
   "metadata": {},
   "source": [
    "####4-2) 리스트 내포(list comprehension)를 이용한 코드를 작성하시오."
   ]
  },
  {
   "cell_type": "code",
   "execution_count": 19,
   "metadata": {
    "collapsed": false
   },
   "outputs": [
    {
     "name": "stdout",
     "output_type": "stream",
     "text": [
      "['first star', 'second star', 'third star']\n"
     ]
    }
   ],
   "source": [
    "str2 = [x.strip() for x in str1]\n",
    "\n",
    "print str2"
   ]
  },
  {
   "cell_type": "markdown",
   "metadata": {},
   "source": [
    "리스트 내포란 리스트 안에 실제 포함되어야 할 원소가 식으로 들어가는 형식이므로, 4-1문제에서 사용한 식을 변수 str2의 리스트 내부에 적용시켜 주었다."
   ]
  },
  {
   "cell_type": "markdown",
   "metadata": {},
   "source": [
    "###5. 다음과 같이 0보다 큰 정수 리스트 변수 list를 인자로 받는 함수 addall(list)와 addallodd(list)를 for ~ in 리터널과 리스트 내포 방식으로 각각 제시하시오.\n",
    "####[참고]: 리스트 내포 방식으로 addall() 및 addallodd()함수를 만들 때엔 리스트 내포에 의해 생성된 리스트 결과에 대해 내장 함수를 사용하는 방식을 고려해보시오 (주의: 리스트 내포 방식의 addall() 및 addallodd() 함수의 몸체는 단 1줄로 작성되어야 한다.)"
   ]
  },
  {
   "cell_type": "markdown",
   "metadata": {},
   "source": [
    "####5-1) addall(list) 함수 (리스트 내의 모든 정수를 더하는 함수로서 해답으로는 for ~ in 리터럴과 리스트 내포 방식으로 각각 제시하시오.)"
   ]
  },
  {
   "cell_type": "code",
   "execution_count": 5,
   "metadata": {
    "collapsed": false
   },
   "outputs": [],
   "source": [
    "def addall(lists) :\n",
    "    sums = 0\n",
    "    for x in lists :\n",
    "        sums += x\n",
    "    return sums"
   ]
  },
  {
   "cell_type": "code",
   "execution_count": 6,
   "metadata": {
    "collapsed": false
   },
   "outputs": [
    {
     "name": "stdout",
     "output_type": "stream",
     "text": [
      "6\n"
     ]
    }
   ],
   "source": [
    "print addall([1,2,3])"
   ]
  },
  {
   "cell_type": "code",
   "execution_count": 11,
   "metadata": {
    "collapsed": true
   },
   "outputs": [],
   "source": [
    "def addall(lists):\n",
    "    return sum(x for x in lists)"
   ]
  },
  {
   "cell_type": "code",
   "execution_count": 12,
   "metadata": {
    "collapsed": false
   },
   "outputs": [
    {
     "name": "stdout",
     "output_type": "stream",
     "text": [
      "6\n"
     ]
    }
   ],
   "source": [
    "print addall([1,2,3])"
   ]
  },
  {
   "cell_type": "markdown",
   "metadata": {},
   "source": [
    "for~in 구문에서는 리스트의 각 원소를 sum에 더하여 최종 sum 값을 리턴시켜 주었고, 리스트 내포 방식에서는 sum()이라는 내장함수 안에 리스트 내포 방식을 사용하여 addall을 정의하였다."
   ]
  },
  {
   "cell_type": "markdown",
   "metadata": {},
   "source": [
    "####5-2) addallodd(list) 함수 (리스트내의 모든 홀수를 더하는 함수로서 해답으로는 for ~ in 리터럴과 리스트 내포 방식으로 각각 제시하시오.)"
   ]
  },
  {
   "cell_type": "code",
   "execution_count": 56,
   "metadata": {
    "collapsed": true
   },
   "outputs": [],
   "source": [
    "def addallodd(list) :\n",
    "    sum = 0\n",
    "    for x in list :\n",
    "        if x % 2 == 1 :\n",
    "            sum = sum + x\n",
    "    return sum"
   ]
  },
  {
   "cell_type": "code",
   "execution_count": 57,
   "metadata": {
    "collapsed": false
   },
   "outputs": [
    {
     "name": "stdout",
     "output_type": "stream",
     "text": [
      "4\n"
     ]
    }
   ],
   "source": [
    "print addallodd([1,2,3])"
   ]
  },
  {
   "cell_type": "code",
   "execution_count": 58,
   "metadata": {
    "collapsed": true
   },
   "outputs": [],
   "source": [
    "def addall(list):\n",
    "    return sum(x for x in list if x%2 == 1)"
   ]
  },
  {
   "cell_type": "code",
   "execution_count": 59,
   "metadata": {
    "collapsed": false
   },
   "outputs": [
    {
     "name": "stdout",
     "output_type": "stream",
     "text": [
      "4\n"
     ]
    }
   ],
   "source": [
    "print addallodd([1,2,3])"
   ]
  },
  {
   "cell_type": "markdown",
   "metadata": {},
   "source": [
    "5-1의 소스에서 홀수만을 취하는 조건을 설정하여 홀수들만 입력받게 하였다."
   ]
  },
  {
   "cell_type": "markdown",
   "metadata": {},
   "source": [
    "###6. 다음 코드를 보고 물음에 답하시오."
   ]
  },
  {
   "cell_type": "code",
   "execution_count": 32,
   "metadata": {
    "collapsed": false
   },
   "outputs": [
    {
     "name": "stdout",
     "output_type": "stream",
     "text": [
      "{'high': [4, 5, 6], 'low': [1, 2, 3]}\n",
      "{'high': [4, 5, 6], 'low': [1, 2, 3]}\n",
      "{'high': [4, 5, 6], 'low': [1, 2, 3]}\n",
      "\n",
      "{'high': [4, 500, 6], 'low': [10, 20, 30]}\n",
      "{'high': [4, 500, 6], 'low': [10, 20, 30]}\n",
      "{'high': [4, 500, 6], 'low': [1, 2, 3]}\n"
     ]
    }
   ],
   "source": [
    "L1 = [1, 2, 3]\n",
    "L2 = [4, 5, 6]\n",
    "d = {'low':L1, 'high':L2}\n",
    "e = d\n",
    "f = d.copy()\n",
    "print d\n",
    "print e\n",
    "print f\n",
    "print\n",
    "d['low'] = [10, 20, 30]\n",
    "d['high'][1] = 500\n",
    "print d\n",
    "print e\n",
    "print f"
   ]
  },
  {
   "cell_type": "markdown",
   "metadata": {},
   "source": [
    "####6-1) 위 코드의 수행 결과 d와 e는 항상 같은 결과를 출력한다. 그 이유는 무엇인가?"
   ]
  },
  {
   "cell_type": "markdown",
   "metadata": {},
   "source": [
    "d가 사전 객체를 가리키고 있는데 e=d로 선언함으로써 d가 가리키는 객체를 e 또한 가리키고 있기 때문에 d와 e의 결과 값은 항상 같다."
   ]
  },
  {
   "cell_type": "markdown",
   "metadata": {},
   "source": [
    "####6-2) 위 코드의 수행 결과 마지막 f의 내용은 다음과 같다. <br />{'high': [4, 500, 6], 'low': [1, 2, 3]}<br /><br />이 때 'high' 키의 값 내용 중 500이 출력된 이유와 'low' 키의 값 내용 중 [1, 2, 3]이 출력된 이유를 설명하시오<br />([hint]: shallow copy 관점에서 설명하시오.)"
   ]
  },
  {
   "cell_type": "markdown",
   "metadata": {},
   "source": [
    "f는 d를 복사한 값을 가리키고 있는데 copy()의 방식은 shallow copy이다. 때문에, d['low']를 했을 때 d의 low는 [10,20,30]을 가리키는 새로운 객체를 가리키지만 f는 d가 원래 가리키고 있던 [1,2,3]을 가리킨다. d['high'][1)일 때는 high가 가리키는 1번째 인덱스 값을 바꾸는 것이므로 이는 f의 high가 가리키는 1번째 인덱스 값에도 적용이 된다. 따라서 high의 1번째 인덱스 값이 변화되었다."
   ]
  },
  {
   "cell_type": "markdown",
   "metadata": {},
   "source": [
    "###7. 사전 d = {'one':1, 'two':2, 'three':3, 'four':4, 'five':5}가 주어졌을 때 다음 요구사항에 맞는 코드를 제시하시오\n",
    "####[참고]: d.keys(), d.values()를 통해 리스트를 얻어낸 후 리스트가 지니고 있는 sort(cmp=None, key=None, reverse=False)함수를 활용하시오."
   ]
  },
  {
   "cell_type": "code",
   "execution_count": 3,
   "metadata": {
    "collapsed": true
   },
   "outputs": [],
   "source": [
    "d = {'one':1, 'two':2, 'three':3, 'four':4, 'five':5}"
   ]
  },
  {
   "cell_type": "markdown",
   "metadata": {},
   "source": [
    "####7-1) 키의 알파벳 오름차순 순서대로 튜플 (키, 값)을 차례대로 출력하시오."
   ]
  },
  {
   "cell_type": "code",
   "execution_count": 4,
   "metadata": {
    "collapsed": false
   },
   "outputs": [
    {
     "name": "stdout",
     "output_type": "stream",
     "text": [
      "[('five', 5), ('four', 4), ('one', 1), ('three', 3), ('two', 2)]\n"
     ]
    }
   ],
   "source": [
    "items_1 = d.items()\n",
    "items_1.sort()\n",
    "\n",
    "print items_1"
   ]
  },
  {
   "cell_type": "markdown",
   "metadata": {},
   "source": [
    "d의 key값과 value값들을 튜플로 묶어 리스트의 형식으로 불렀다. 이를 sort()를 이용하면 d의 key값에 해당하는 문자들을 기준으로 오름차순 형식으로 정렬된다."
   ]
  },
  {
   "cell_type": "markdown",
   "metadata": {},
   "source": [
    "####7-2) 키의 알파벳 내림차순 순서대로 튜플 (키, 값)을 차례대로 출력하시오."
   ]
  },
  {
   "cell_type": "code",
   "execution_count": 5,
   "metadata": {
    "collapsed": false
   },
   "outputs": [
    {
     "name": "stdout",
     "output_type": "stream",
     "text": [
      "[('two', 2), ('three', 3), ('one', 1), ('four', 4), ('five', 5)]\n"
     ]
    }
   ],
   "source": [
    "items_2 = d.items()\n",
    "items_2.sort(reverse=True)\n",
    "\n",
    "print items_2"
   ]
  },
  {
   "cell_type": "markdown",
   "metadata": {},
   "source": [
    "7-1번 문제와 같은 방식이지만 sort()함수의 reverse=True를 추가해주어 역순(알파벳 내림차순)으로 출력시켰다."
   ]
  },
  {
   "cell_type": "markdown",
   "metadata": {},
   "source": [
    "####7-3) 값의 오름차순 순서대로 튜플 (키, 값)을 차례대로 출력하시오."
   ]
  },
  {
   "cell_type": "code",
   "execution_count": 6,
   "metadata": {
    "collapsed": true
   },
   "outputs": [],
   "source": [
    "def cmp_tuple(a1, a2) :\n",
    "    return cmp(a1[1], a2[1])"
   ]
  },
  {
   "cell_type": "code",
   "execution_count": 8,
   "metadata": {
    "collapsed": false
   },
   "outputs": [
    {
     "name": "stdout",
     "output_type": "stream",
     "text": [
      "[('one', 1), ('two', 2), ('three', 3), ('four', 4), ('five', 5)]\n"
     ]
    }
   ],
   "source": [
    "items_3 = d.items()\n",
    "items_3.sort(cmp_tuple)\n",
    "\n",
    "print items_3"
   ]
  },
  {
   "cell_type": "markdown",
   "metadata": {},
   "source": [
    "cmp_tuple()이라는 함수를 정의하여 튜플의 1번째 인덱스의 값을 비교하게 하였다. 이를 sort()메소드의 cmp에 적용시켜 값(숫자)의 오름차순 순서대로 튜플을 출력시켰다."
   ]
  },
  {
   "cell_type": "markdown",
   "metadata": {},
   "source": [
    "####7-4) 값의 내림차순 순서대로 튜플 (키, 값)을 차례대로 출력하시오."
   ]
  },
  {
   "cell_type": "code",
   "execution_count": 10,
   "metadata": {
    "collapsed": false
   },
   "outputs": [
    {
     "name": "stdout",
     "output_type": "stream",
     "text": [
      "[('five', 5), ('four', 4), ('three', 3), ('two', 2), ('one', 1)]\n"
     ]
    }
   ],
   "source": [
    "items_4 = d.items()\n",
    "items_4.sort(cmp=cmp_tuple, reverse=True)\n",
    "\n",
    "print items_4"
   ]
  },
  {
   "cell_type": "markdown",
   "metadata": {},
   "source": [
    "7-2번 문제와 같은 방식이지만 sort()함수의 reverse=True를 추가해주어 역순(숫자 내림차순)으로 출력시켰다."
   ]
  },
  {
   "cell_type": "markdown",
   "metadata": {},
   "source": [
    "###8. <br />소수를 크기 순으로 나열하면 2, 3, 5, 7, 11, 13, ... 과 같이 됩니다. <br />이 때 10,001번째의 소수를 구하세요."
   ]
  },
  {
   "cell_type": "code",
   "execution_count": 1,
   "metadata": {
    "collapsed": false
   },
   "outputs": [
    {
     "name": "stdout",
     "output_type": "stream",
     "text": [
      "104743\n"
     ]
    }
   ],
   "source": [
    "num = 2\n",
    "x = 1\n",
    "check = 0\n",
    "\n",
    "while True :\n",
    "    credit = 0\n",
    "    for x in range(1, num+1) :\n",
    "        if(num%x == 0) :\n",
    "            credit = credit + 1\n",
    "    if(credit == 2) :\n",
    "        check = check + 1\n",
    "        #print num,\n",
    "    if(check == 10001) :\n",
    "        print num\n",
    "        break\n",
    "    num = num + 1"
   ]
  },
  {
   "cell_type": "markdown",
   "metadata": {},
   "source": [
    "1부터 시작하여 credit이 2가 되면 소수로 판별하여 소수의 갯수를 판별하는 check 변수 값을 증가시켰다. 때문에 check의 값이 10001이 되면 해당 수를 출력시키고 break를 하여 while구문을 빠져나오게 하였다."
   ]
  },
  {
   "cell_type": "markdown",
   "metadata": {},
   "source": [
    "### 9. 다음은 연속된 1000자리 숫자입니다 (읽기 좋게 50자리씩 잘라놓음).\n",
    "<br />\n",
    "73167176531330624919225119674426574742355349194934 <br />\n",
    "96983520312774506326239578318016984801869478851843 <br />\n",
    "85861560789112949495459501737958331952853208805511 <br />\n",
    "12540698747158523863050715693290963295227443043557 <br />\n",
    "66896648950445244523161731856403098711121722383113 <br />\n",
    "62229893423380308135336276614282806444486645238749 <br />\n",
    "30358907296290491560440772390713810515859307960866 <br />\n",
    "70172427121883998797908792274921901699720888093776 <br />\n",
    "65727333001053367881220235421809751254540594752243 <br />\n",
    "52584907711670556013604839586446706324415722155397<br />\n",
    "53697817977846174064955149290862569321978468622482 <br />\n",
    "83972241375657056057490261407972968652414535100474 <br />\n",
    "82166370484403199890008895243450658541227588666881 <br />\n",
    "16427171479924442928230863465674813919123162824586 <br />\n",
    "17866458359124566529476545682848912883142607690042 <br />\n",
    "24219022671055626321111109370544217506941658960408 <br />\n",
    "07198403850962455444362981230987879927244284909188<br />\n",
    "84580156166097919133875499200524063689912560717606 <br />\n",
    "05886116467109405077541002256983155200055935729725<br />\n",
    "71636269561882670428252483600823257530420752963450<br /><br />\n",
    "\n",
    "###여기서 붉게 표시된 71112의 경우 7, 1, 1, 1, 2 각 숫자를 모두 곱하면 14가 됩니다.<br />이런 식으로 맨 처음 (7 × 3 × 1 × 6 × 7 = 882) 부터 맨 끝 (6 × 3 × 4 × 5 × 0 = 0) 까지 5자리 숫자들의 곱을 구할 수 있습니다. 이렇게 구할 수 있는 5자리 숫자의 곱 중에서 가장 큰 값은 얼마입니까?"
   ]
  },
  {
   "cell_type": "code",
   "execution_count": 2,
   "metadata": {
    "collapsed": true
   },
   "outputs": [],
   "source": [
    "c_num = '73167176531330624919225119674426574742355349194934' +\\\n",
    "'96983520312774506326239578318016984801869478851843' +\\\n",
    "'85861560789112949495459501737958331952853208805511' +\\\n",
    "'12540698747158523863050715693290963295227443043557' +\\\n",
    "'66896648950445244523161731856403098711121722383113' +\\\n",
    "'62229893423380308135336276614282806444486645238749' +\\\n",
    "'30358907296290491560440772390713810515859307960866' +\\\n",
    "'70172427121883998797908792274921901699720888093776' +\\\n",
    "'65727333001053367881220235421809751254540594752243' +\\\n",
    "'52584907711670556013604839586446706324415722155397' +\\\n",
    "'53697817977846174064955149290862569321978468622482' +\\\n",
    "'83972241375657056057490261407972968652414535100474' +\\\n",
    "'82166370484403199890008895243450658541227588666881' +\\\n",
    "'16427171479924442928230863465674813919123162824586' +\\\n",
    "'17866458359124566529476545682848912883142607690042' +\\\n",
    "'24219022671055626321111109370544217506941658960408' +\\\n",
    "'07198403850962455444362981230987879927244284909188' +\\\n",
    "'84580156166097919133875499200524063689912560717606' +\\\n",
    "'05886116467109405077541002256983155200055935729725' +\\\n",
    "'71636269561882670428252483600823257530420752963450'"
   ]
  },
  {
   "cell_type": "code",
   "execution_count": 3,
   "metadata": {
    "collapsed": false
   },
   "outputs": [
    {
     "name": "stdout",
     "output_type": "stream",
     "text": [
      "40824\n"
     ]
    }
   ],
   "source": [
    "k = 0\n",
    "loop = 1\n",
    "multi = 1\n",
    "max_multi = 1\n",
    "\n",
    "while loop < 996 :\n",
    "    for i in range(0,5) :\n",
    "        multi = multi * int(c_num[k+i])\n",
    "        \n",
    "    k = k + 1\n",
    "    loop += 1\n",
    "    \n",
    "    if multi > max_multi :\n",
    "        max_multi = multi\n",
    "        multi = 1\n",
    "    else :\n",
    "        multi = 1\n",
    "    \n",
    "print max_multi"
   ]
  },
  {
   "cell_type": "markdown",
   "metadata": {},
   "source": [
    "연속된 문장을 문자열 형태로 변수에 입력하였다. 처음부터 4개씩 끊어 각각의 곱들을 곱하여 가장 큰 값을 max_multi에 입력시켜주었다."
   ]
  },
  {
   "cell_type": "markdown",
   "metadata": {},
   "source": [
    "###10. 세 자연수 a, b, c 가 피타고라스 정리 a^2 + b^2 = c^2 를 만족하면 피타고라스 수라고 부릅니다 (여기서 a < b < c ). <br />예를 들면 3^2 + 4^2 = 9 + 16 = 25 = 5^2이므로 3, 4, 5는 피타고라스 수입니다.<br />a + b + c = 1000 인 피타고라스 수 a, b, c는 한 가지 뿐입니다. 이 때, a × b × c 는 얼마입니까?"
   ]
  },
  {
   "cell_type": "code",
   "execution_count": 4,
   "metadata": {
    "collapsed": false
   },
   "outputs": [
    {
     "name": "stdout",
     "output_type": "stream",
     "text": [
      "200 375 425\n",
      "31875000\n"
     ]
    }
   ],
   "source": [
    "import math\n",
    "\n",
    "a = 1; b = 1; c = 1;\n",
    "\n",
    "for a in range(1, 1000) :\n",
    "    for b in range(1, 1000) :\n",
    "        for c in range(1, 1000) :\n",
    "            if (a<b and pow(c,2) == pow(a,2) + pow(b,2) and (a + b + c == 1000)) :\n",
    "                print a, b, c\n",
    "                print a*b*c\n",
    "                break"
   ]
  },
  {
   "cell_type": "markdown",
   "metadata": {},
   "source": [
    "삼각형의 세 변수를 뜻하는 a, b, c 모두 1000이하의 자연수를 범위로 하여 3중 for를 이용하여 피타고라스의 수를 만족하며, a+b+c=1000를 만족하는 값을 찾아내었다."
   ]
  },
  {
   "cell_type": "markdown",
   "metadata": {},
   "source": [
    "###[Incremental Project]<br /> 이전 Assignment 2의 마지막 문제는 웹 URL로 지정된 웹페이지를 문자열로 가져와 모든 HTML 태그 및 CSS와 Javascript를 제외한 순수 텍스트를 얻어내고 그 안에 존재하는 단어를 추출하고 단어들의 총 개수를 출력하는 프로그램을 작성하는 것이었다. 이번에는 그 마지막 숙제를 그대로 확장하여 웹 URL로 지정된 웹페이지 내 순수 텍스트 안에 존재하는 각 단어들에 대해 다음 요구사항 대로 출력하는 프로그램을 작성하시오."
   ]
  },
  {
   "cell_type": "markdown",
   "metadata": {},
   "source": [
    "요구사항 1. 순수 텍스트 안에 존재하는 단어들에 대해 string 모듈을 활용하여 모든 punctuation (구두문자)를 완벽히 제거하시오.<br />\n",
    "예: ['world!', ':', '+hello+', '~python$$$', '=', 'world'] ---> ['world', 'hello', 'python', 'world']<br />\n",
    "모든 punctuation을 확인하는 방법은 아래와 같다.<br />\n",
    "import string<br />\n",
    "print string.punctuation<br />\n",
    "요구사항 2. 만약 punctuation (구두문자)를 제거한 이후 공백으로 판명되는 단어들은 해당 단어 리스트에서 제거하시오.<br />\n",
    "예: ['컴퓨터공학부!', '---?', '%지향~', '...'] ---> ['컴퓨터공학부', '지향']<br />\n",
    "요구사항 3. 각 단어들의 출현빈도를 사전형태로 저장하여 출력하시오.<br />\n",
    "예: ['world', 'hello', 'python', 'world', '컴퓨터공학부', '지향'] ---> {'world': 2, 'hello': 1, 'python': 1, '컴퓨터공학부': 1, '지향': 1}<br />\n",
    "요구사항 4. 다음 3개의 사이트에 대한 결과를 출력하시오.<br />\n",
    "http://www.naver.com<br />\n",
    "http://www.daum.net<br />\n",
    "http://www.nytimes.com<br />"
   ]
  },
  {
   "cell_type": "code",
   "execution_count": 8,
   "metadata": {
    "collapsed": false
   },
   "outputs": [],
   "source": [
    "import urllib2\n",
    "\n",
    "source = urllib2.urlopen(\"http://cse.kut.ac.kr/\").read()\n",
    "\n",
    "for i in range(0, source.count('<script')) :\n",
    "    if source.find('<script') != -1 :\n",
    "        source=source.replace(source[source.find('<script'):source.find('</script>')+9],\"\")\n",
    "        \n",
    "for i in range(0, source.count('<!--')):\n",
    "    if source.find(\"<!--\") != -1:\n",
    "        source = source.replace(source[source.find(\"<!--\"):source.find(\"-->\")+3:],\"\")\n",
    "        \n",
    "for i in range(0,source.count(\"<\")):\n",
    "    if source.find(\"<\") != -1:\n",
    "        source = source.replace(source[source.find(\"<\"):source.find(\">\")+1:],\"\")\n",
    "        \n",
    "words = source.split()\n"
   ]
  },
  {
   "cell_type": "code",
   "execution_count": 9,
   "metadata": {
    "collapsed": false
   },
   "outputs": [],
   "source": [
    "import string\n",
    "\n",
    "punc = string.punctuation"
   ]
  },
  {
   "cell_type": "code",
   "execution_count": 10,
   "metadata": {
    "collapsed": false,
    "scrolled": false
   },
   "outputs": [
    {
     "name": "stdout",
     "output_type": "stream",
     "text": [
      "컴퓨터공학부\n",
      "Schoolfun\n",
      "\n",
      "Study\n",
      "and\n",
      "Fun\n",
      "로그인\n",
      "로그인\n",
      "아이디\n",
      "비밀번호\n",
      "로그인\n",
      "유지\n",
      "브라우저를\n",
      "닫더라도\n",
      "로그인이\n",
      "계속\n",
      "유지될\n",
      "수\n",
      "있습니다\n",
      "로그인\n",
      "유지\n",
      "기능을\n",
      "사용할\n",
      "경우\n",
      "다음\n",
      "접속부터는\n",
      "로그인할\n",
      "필요가\n",
      "없습니다\n",
      "단\n",
      "게임방\n",
      "학교\n",
      "등\n",
      "공공장소에서\n",
      "이용\n",
      "시\n",
      "개인정보가\n",
      "유출될\n",
      "수\n",
      "있으니\n",
      "꼭\n",
      "로그아웃을\n",
      "해주세요\n",
      "회원가입\n",
      "IDPW\n",
      "찾기\n",
      "IT\n",
      "교육의\n",
      "글로벌\n",
      "메카한국기술교육대학교\n",
      "컴퓨터공학부\n",
      "Close\n",
      "소개\n",
      "구성원소개\n",
      "학사안내\n",
      "입학\n",
      "학부\n",
      "대학원\n",
      "학부광장\n",
      "자료실\n",
      "대학원\n",
      "공학교육인증\n",
      "Registration\n",
      "컴퓨터공학부\n",
      "School\n",
      "of\n",
      "Computer\n",
      "Science\n",
      "and\n",
      "Engineering\n",
      "IT\n",
      "융합소프트웨어\n",
      "인력양성사업\n",
      "CK\n",
      "Creative\n",
      "KoreaI\n",
      "교육역량강화사업\n",
      "온라인\n",
      "컨텐츠\n",
      "Online\n",
      "Contents\n",
      "for\n",
      "Education\n",
      "Capability\n",
      "Empowerment\n",
      "IT\n",
      "교육의\n",
      "글로벌\n",
      "메카\n",
      "한국기술교육대학교\n",
      "컴퓨터공학부\n",
      "홈페이지에\n",
      "오신\n",
      "것을환영합니다\n",
      "IT\n",
      "융합소프트웨어\n",
      "인력양성사업\n",
      "글로벌\n",
      "수준의\n",
      "IT전문인력\n",
      "양성\n",
      "IT융합분야에\n",
      "대한\n",
      "국제적인\n",
      "경쟁력\n",
      "고취\n",
      "바로가기\n",
      "교육역량강화사업\n",
      "컨텐츠\n",
      "교육역량강화사업\n",
      "온라인\n",
      "컨텐츠를\n",
      "소개합니다\n",
      "바로가기\n",
      "공지사항\n",
      "특성화\n",
      "지식재산권\n",
      "출원\n",
      "신청서\n",
      "접수\n",
      "공고\n",
      "20151015\n",
      "1553\n",
      "1553\n",
      "특성화\n",
      "IT사업단\n",
      "마일리지\n",
      "장학금\n",
      "안내수정\n",
      "20151014\n",
      "1331\n",
      "1331\n",
      "특성화\n",
      "사물인터넷\n",
      "국제전시회IoT\n",
      "Korea\n",
      "Exhibition\n",
      "20151013\n",
      "1638\n",
      "1638\n",
      "LG\n",
      "Wearable\n",
      "Big\n",
      "Bang\n",
      "Hackathon\n",
      "참여하세요\n",
      "20151013\n",
      "1203\n",
      "1203\n",
      "특성화\n",
      "제4차\n",
      "실무프로그래밍\n",
      "강좌\n",
      "신청\n",
      "안내\n",
      "20151008\n",
      "1537\n",
      "1537\n",
      "자유게시판\n",
      "앙클\n",
      "산업기능요원\n",
      "모집\n",
      "공고\n",
      "1019월까지\n",
      "20151016\n",
      "1625\n",
      "1625\n",
      "2015년\n",
      "홈커밍데이\n",
      "공지입니다\n",
      "\n",
      "20151016\n",
      "1549\n",
      "1549\n",
      "졸업작품\n",
      "전시회\n",
      "투표\n",
      "결과\n",
      "20151013\n",
      "1932\n",
      "1932\n",
      "【장학지원】보건복지심리재활분야\n",
      "자격증\n",
      "무료수강\n",
      "20151012\n",
      "1142\n",
      "1142\n",
      "주\n",
      "엔에스이\n",
      "에서\n",
      "개발자를\n",
      "모집합니다\n",
      "20150930\n",
      "1330\n",
      "1330\n",
      "취업게시판\n",
      "대한상공회의소\n",
      "교사직\n",
      "사무직\n",
      "연봉\n",
      "4천이상\n",
      "우편방\n",
      "20151019\n",
      "1605\n",
      "1605\n",
      "특성화\n",
      "주KMW\n",
      "인턴사원\n",
      "모집공고\n",
      "20150923\n",
      "1431\n",
      "1431\n",
      "㈜인젠트\n",
      "기술연구소\n",
      "전문연구요원\n",
      "모집\n",
      "20150914\n",
      "1154\n",
      "1154\n",
      "펜타인\n",
      "2015년도\n",
      "신입사원\n",
      "채용공고\n",
      "20150903\n",
      "1616\n",
      "1616\n",
      "LIG인베니아\n",
      "코스닥상장\n",
      "LIG그룹사\n",
      "디스플레이장비전\n",
      "20150903\n",
      "1401\n",
      "1401\n",
      "VENTURESQUARE\n",
      "팁스타운\n",
      "7일\n",
      "간\n",
      "투자유치\n",
      "IR\n",
      "릴레이\n",
      "열린다\n",
      "20151020\n",
      "1940\n",
      "1940\n",
      "Age\n",
      "of\n",
      "Startup\n",
      "닷\n",
      "김주윤\n",
      "대표\n",
      "“스타트업은\n",
      "실행력\n",
      "20151020\n",
      "1532\n",
      "1532\n",
      "신언론선언\n",
      "Manifesto\n",
      "of\n",
      "New\n",
      "Journalism\n",
      "20151020\n",
      "1412\n",
      "1412\n",
      "북부\n",
      "경기문화창조허브\n",
      "‘콘텐츠\n",
      "크리에이터\n",
      "프로그램’\n",
      "20151020\n",
      "1400\n",
      "1400\n",
      "많은\n",
      "조언들이\n",
      "경영\n",
      "측면에서\n",
      "위험할\n",
      "수\n",
      "있는\n",
      "이유\n",
      "20151020\n",
      "1356\n",
      "1356\n",
      "전자신문\n",
      "KT경기창조경제혁신센터\n",
      "“한국형\n",
      "히든\n",
      "챔피언\n",
      "산실로”\n",
      "20151020\n",
      "1800\n",
      "1800\n",
      "통신\n",
      "요금인가제\n",
      "25년만에\n",
      "폐지\n",
      "수순···공은\n",
      "국회로\n",
      "20151020\n",
      "1800\n",
      "1800\n",
      "국방\n",
      "광대역통합망\n",
      "5년간\n",
      "850번이나\n",
      "고장났다···군\n",
      "작\n",
      "20151020\n",
      "1700\n",
      "1700\n",
      "미래부\n",
      "‘2015\n",
      "국민행복\n",
      "IT경진대회’\n",
      "개최\n",
      "20151020\n",
      "1700\n",
      "1700\n",
      "코바코\n",
      "신입사원\n",
      "10명\n",
      "채용···불문\n",
      "채용으로\n",
      "지원자\n",
      "\n",
      "20151020\n",
      "1430\n",
      "1430\n",
      "RECODE\n",
      "Airbnb\n",
      "Hires\n",
      "Longtime\n",
      "Amazon\n",
      "Executive\n",
      "Who\n",
      "Ran\n",
      "20151020\n",
      "2100\n",
      "2100\n",
      "Verizon\n",
      "Adds\n",
      "13\n",
      "Million\n",
      "Wireless\n",
      "Customers\n",
      "N\n",
      "20151020\n",
      "2037\n",
      "2037\n",
      "Before\n",
      "Apple\n",
      "TV\n",
      "Gets\n",
      "a\n",
      "Refresh\n",
      "It\n",
      "Gets\n",
      "Video\n",
      "\n",
      "20151020\n",
      "1500\n",
      "1500\n",
      "Apple\n",
      "CEO\n",
      "Tim\n",
      "Cook\n",
      "‘Massive\n",
      "Change’\n",
      "Is\n",
      "Coming\n",
      "20151020\n",
      "1407\n",
      "1407\n",
      "Apple\n",
      "Music\n",
      "Has\n",
      "65\n",
      "Million\n",
      "Paying\n",
      "Subscribers\n",
      "20151020\n",
      "1253\n",
      "1253\n",
      "Quick\n",
      "Navigation\n",
      "한국기술교육대학교\n",
      "홈페이지\n",
      "한국기술교육대학교\n",
      "WEBMAIL\n",
      "한국기술교육대학교\n",
      "온라인\n",
      "평생교육원\n",
      "교육역량강화사업\n",
      "온라인\n",
      "컨텐츠\n",
      "IT\n",
      "융합소프트웨어\n",
      "인력양성사업\n",
      "Campus\n",
      "Location\n",
      "Contact\n",
      "CSE\n",
      "충청남도\n",
      "천안시\n",
      "동남구\n",
      "병천면\n",
      "충절로\n",
      "1600한국기술교육대학교\n",
      "컴퓨터공학부\n",
      "학과사무실\n",
      "TEL\n",
      "041\n",
      "560\n",
      "14601461\n",
      "FAX\n",
      "041\n",
      "560\n",
      "1462\n",
      "Facebook\n",
      "Twitter\n",
      "Google\n",
      "Plus\n",
      "Linkedin\n",
      "31253\n",
      "충청남도\n",
      "천안시\n",
      "동남구\n",
      "병천면\n",
      "충절로\n",
      "1600\n",
      "가전리\n",
      "한국기술교육대학교\n",
      "컴퓨터공학부\n",
      "Copyright\n",
      "©\n",
      "2015\n",
      "All\n",
      "rights\n",
      "reserved\n"
     ]
    }
   ],
   "source": [
    "delPuncList = []\n",
    "puncStr = ''\n",
    "\n",
    "# punctuation(구두문자) 제거\n",
    "\n",
    "for x in words:\n",
    "    puncStr = ''\n",
    "    for y in x:\n",
    "        if y in punc :\n",
    "            puncStr = puncStr + ''\n",
    "        else :\n",
    "            puncStr = puncStr + y\n",
    "    delPuncList.append(puncStr)\n",
    "    \n",
    "\n",
    "for x in delPuncList :\n",
    "    print x"
   ]
  },
  {
   "cell_type": "markdown",
   "metadata": {},
   "source": [
    "요구사항 1인 각각의 단어에 punctuation을 지우기 위해 단어가 들어있는 기존 리스트에서 각각의 원소들을 불러와 한 자리씩 punctuation이 있는지 확인하여 punctuation이 있는 곳에 공백처리('')를 하여 제거해 주었다."
   ]
  },
  {
   "cell_type": "code",
   "execution_count": 30,
   "metadata": {
    "collapsed": false,
    "scrolled": false
   },
   "outputs": [
    {
     "name": "stdout",
     "output_type": "stream",
     "text": [
      "컴퓨터공학부\n",
      "Schoolfun\n",
      "Study\n",
      "and\n",
      "Fun\n",
      "로그인\n",
      "로그인\n",
      "아이디\n",
      "비밀번호\n",
      "로그인\n",
      "유지\n",
      "브라우저를\n",
      "닫더라도\n",
      "로그인이\n",
      "계속\n",
      "유지될\n",
      "수\n",
      "있습니다\n",
      "로그인\n",
      "유지\n",
      "기능을\n",
      "사용할\n",
      "경우\n",
      "다음\n",
      "접속부터는\n",
      "로그인할\n",
      "필요가\n",
      "없습니다\n",
      "단\n",
      "게임방\n",
      "학교\n",
      "등\n",
      "공공장소에서\n",
      "이용\n",
      "시\n",
      "개인정보가\n",
      "유출될\n",
      "수\n",
      "있으니\n",
      "꼭\n",
      "로그아웃을\n",
      "해주세요\n",
      "회원가입\n",
      "IDPW\n",
      "찾기\n",
      "IT\n",
      "교육의\n",
      "글로벌\n",
      "메카한국기술교육대학교\n",
      "컴퓨터공학부\n",
      "Close\n",
      "소개\n",
      "구성원소개\n",
      "학사안내\n",
      "입학\n",
      "학부\n",
      "대학원\n",
      "학부광장\n",
      "자료실\n",
      "대학원\n",
      "공학교육인증\n",
      "Registration\n",
      "컴퓨터공학부\n",
      "School\n",
      "of\n",
      "Computer\n",
      "Science\n",
      "and\n",
      "Engineering\n",
      "IT\n",
      "융합소프트웨어\n",
      "인력양성사업\n",
      "CK\n",
      "Creative\n",
      "KoreaI\n",
      "교육역량강화사업\n",
      "온라인\n",
      "컨텐츠\n",
      "Online\n",
      "Contents\n",
      "for\n",
      "Education\n",
      "Capability\n",
      "Empowerment\n",
      "IT\n",
      "교육의\n",
      "글로벌\n",
      "메카\n",
      "한국기술교육대학교\n",
      "컴퓨터공학부\n",
      "홈페이지에\n",
      "오신\n",
      "것을환영합니다\n",
      "IT\n",
      "융합소프트웨어\n",
      "인력양성사업\n",
      "글로벌\n",
      "수준의\n",
      "IT전문인력\n",
      "양성\n",
      "IT융합분야에\n",
      "대한\n",
      "국제적인\n",
      "경쟁력\n",
      "고취\n",
      "바로가기\n",
      "교육역량강화사업\n",
      "컨텐츠\n",
      "교육역량강화사업\n",
      "온라인\n",
      "컨텐츠를\n",
      "소개합니다\n",
      "바로가기\n",
      "공지사항\n",
      "특성화\n",
      "지식재산권\n",
      "출원\n",
      "신청서\n",
      "접수\n",
      "공고\n",
      "20151015\n",
      "1553\n",
      "1553\n",
      "특성화\n",
      "IT사업단\n",
      "마일리지\n",
      "장학금\n",
      "안내수정\n",
      "20151014\n",
      "1331\n",
      "1331\n",
      "특성화\n",
      "사물인터넷\n",
      "국제전시회IoT\n",
      "Korea\n",
      "Exhibition\n",
      "20151013\n",
      "1638\n",
      "1638\n",
      "LG\n",
      "Wearable\n",
      "Big\n",
      "Bang\n",
      "Hackathon\n",
      "참여하세요\n",
      "20151013\n",
      "1203\n",
      "1203\n",
      "특성화\n",
      "제4차\n",
      "실무프로그래밍\n",
      "강좌\n",
      "신청\n",
      "안내\n",
      "20151008\n",
      "1537\n",
      "1537\n",
      "자유게시판\n",
      "앙클\n",
      "산업기능요원\n",
      "모집\n",
      "공고\n",
      "1019월까지\n",
      "20151016\n",
      "1625\n",
      "1625\n",
      "2015년\n",
      "홈커밍데이\n",
      "공지입니다\n",
      "20151016\n",
      "1549\n",
      "1549\n",
      "졸업작품\n",
      "전시회\n",
      "투표\n",
      "결과\n",
      "20151013\n",
      "1932\n",
      "1932\n",
      "【장학지원】보건복지심리재활분야\n",
      "자격증\n",
      "무료수강\n",
      "20151012\n",
      "1142\n",
      "1142\n",
      "주\n",
      "엔에스이\n",
      "에서\n",
      "개발자를\n",
      "모집합니다\n",
      "20150930\n",
      "1330\n",
      "1330\n",
      "취업게시판\n",
      "대한상공회의소\n",
      "교사직\n",
      "사무직\n",
      "연봉\n",
      "4천이상\n",
      "우편방\n",
      "20151019\n",
      "1605\n",
      "1605\n",
      "특성화\n",
      "주KMW\n",
      "인턴사원\n",
      "모집공고\n",
      "20150923\n",
      "1431\n",
      "1431\n",
      "㈜인젠트\n",
      "기술연구소\n",
      "전문연구요원\n",
      "모집\n",
      "20150914\n",
      "1154\n",
      "1154\n",
      "펜타인\n",
      "2015년도\n",
      "신입사원\n",
      "채용공고\n",
      "20150903\n",
      "1616\n",
      "1616\n",
      "LIG인베니아\n",
      "코스닥상장\n",
      "LIG그룹사\n",
      "디스플레이장비전\n",
      "20150903\n",
      "1401\n",
      "1401\n",
      "VENTURESQUARE\n",
      "팁스타운\n",
      "7일\n",
      "간\n",
      "투자유치\n",
      "IR\n",
      "릴레이\n",
      "열린다\n",
      "20151020\n",
      "1940\n",
      "1940\n",
      "Age\n",
      "of\n",
      "Startup\n",
      "닷\n",
      "김주윤\n",
      "대표\n",
      "“스타트업은\n",
      "실행력\n",
      "20151020\n",
      "1532\n",
      "1532\n",
      "신언론선언\n",
      "Manifesto\n",
      "of\n",
      "New\n",
      "Journalism\n",
      "20151020\n",
      "1412\n",
      "1412\n",
      "북부\n",
      "경기문화창조허브\n",
      "‘콘텐츠\n",
      "크리에이터\n",
      "프로그램’\n",
      "20151020\n",
      "1400\n",
      "1400\n",
      "많은\n",
      "조언들이\n",
      "경영\n",
      "측면에서\n",
      "위험할\n",
      "수\n",
      "있는\n",
      "이유\n",
      "20151020\n",
      "1356\n",
      "1356\n",
      "전자신문\n",
      "KT경기창조경제혁신센터\n",
      "“한국형\n",
      "히든\n",
      "챔피언\n",
      "산실로”\n",
      "20151020\n",
      "1800\n",
      "1800\n",
      "통신\n",
      "요금인가제\n",
      "25년만에\n",
      "폐지\n",
      "수순···공은\n",
      "국회로\n",
      "20151020\n",
      "1800\n",
      "1800\n",
      "국방\n",
      "광대역통합망\n",
      "5년간\n",
      "850번이나\n",
      "고장났다···군\n",
      "작\n",
      "20151020\n",
      "1700\n",
      "1700\n",
      "미래부\n",
      "‘2015\n",
      "국민행복\n",
      "IT경진대회’\n",
      "개최\n",
      "20151020\n",
      "1700\n",
      "1700\n",
      "코바코\n",
      "신입사원\n",
      "10명\n",
      "채용···불문\n",
      "채용으로\n",
      "지원자\n",
      "20151020\n",
      "1430\n",
      "1430\n",
      "RECODE\n",
      "Airbnb\n",
      "Hires\n",
      "Longtime\n",
      "Amazon\n",
      "Executive\n",
      "Who\n",
      "Ran\n",
      "20151020\n",
      "2100\n",
      "2100\n",
      "Verizon\n",
      "Adds\n",
      "13\n",
      "Million\n",
      "Wireless\n",
      "Customers\n",
      "N\n",
      "20151020\n",
      "2037\n",
      "2037\n",
      "Before\n",
      "Apple\n",
      "TV\n",
      "Gets\n",
      "a\n",
      "Refresh\n",
      "It\n",
      "Gets\n",
      "Video\n",
      "20151020\n",
      "1500\n",
      "1500\n",
      "Apple\n",
      "CEO\n",
      "Tim\n",
      "Cook\n",
      "‘Massive\n",
      "Change’\n",
      "Is\n",
      "Coming\n",
      "20151020\n",
      "1407\n",
      "1407\n",
      "Apple\n",
      "Music\n",
      "Has\n",
      "65\n",
      "Million\n",
      "Paying\n",
      "Subscribers\n",
      "20151020\n",
      "1253\n",
      "1253\n",
      "Quick\n",
      "Navigation\n",
      "한국기술교육대학교\n",
      "홈페이지\n",
      "한국기술교육대학교\n",
      "WEBMAIL\n",
      "한국기술교육대학교\n",
      "온라인\n",
      "평생교육원\n",
      "교육역량강화사업\n",
      "온라인\n",
      "컨텐츠\n",
      "IT\n",
      "융합소프트웨어\n",
      "인력양성사업\n",
      "Campus\n",
      "Location\n",
      "Contact\n",
      "CSE\n",
      "충청남도\n",
      "천안시\n",
      "동남구\n",
      "병천면\n",
      "충절로\n",
      "1600한국기술교육대학교\n",
      "컴퓨터공학부\n",
      "학과사무실\n",
      "TEL\n",
      "041\n",
      "560\n",
      "14601461\n",
      "FAX\n",
      "041\n",
      "560\n",
      "1462\n",
      "Facebook\n",
      "Twitter\n",
      "Google\n",
      "Plus\n",
      "Linkedin\n",
      "31253\n",
      "충청남도\n",
      "천안시\n",
      "동남구\n",
      "병천면\n",
      "충절로\n",
      "1600\n",
      "가전리\n",
      "한국기술교육대학교\n",
      "컴퓨터공학부\n",
      "Copyright\n",
      "©\n",
      "2015\n",
      "All\n",
      "rights\n",
      "reserved\n"
     ]
    }
   ],
   "source": [
    "NSpaceList = []\n",
    "\n",
    "#공백문자 제거\n",
    "for x in delPuncList :\n",
    "    if len(x) == 0 :\n",
    "        pass\n",
    "    else :\n",
    "        NSpaceList.append(x)\n",
    "        \n",
    "for x in NSpaceList :\n",
    "    print x"
   ]
  },
  {
   "cell_type": "markdown",
   "metadata": {},
   "source": [
    "요구사항 2를 만족시키기 위해 punctuation을 지운 단어들이 저장된 리스트에 각각의 단어들이 공백인지 확인한 후 새로운 배열에 삽입하였다."
   ]
  },
  {
   "cell_type": "code",
   "execution_count": 12,
   "metadata": {
    "collapsed": false
   },
   "outputs": [
    {
     "name": "stdout",
     "output_type": "stream",
     "text": [
      "{ 1142 : 2, 홈페이지에 : 1, 특성화 : 5, 인턴사원 : 1, 소개합니다 : 1, 수순···공은 : 1, 글로벌 : 3, 산실로” : 1, 1462 : 1, Journalism : 1, Million : 2, 온라인 : 4, 계속 : 1, 1019월까지 : 1, 사용할 : 1, 메카한국기술교육대학교 : 1, Adds : 1, 유지 : 2, 교육역량강화사업 : 4, 있으니 : 1, 공지사항 : 1, Gets : 2, 광대역통합망 : 1, 앙클 : 1, 소개 : 1, Plus : 1, 2037 : 2, 찾기 : 1, rights : 1, 게임방 : 1, Verizon : 1, 참여하세요 : 1, Big : 1, 1940 : 2, “스타트업은 : 1, 천안시 : 2, 것을환영합니다 : 1, 학사안내 : 1, 취업게시판 : 1, 있는 : 1, IDPW : 1, Hackathon : 1, LIG그룹사 : 1, 바로가기 : 2, 단 : 1, 동남구 : 2, 학부광장 : 1, 크리에이터 : 1, 1154 : 2, 2015 : 1, 프로그램’ : 1, 1553 : 2, Refresh : 1, ㈜인젠트 : 1, 대표 : 1, Apple : 3, 연봉 : 1, 히든 : 1, 20151020 : 15, Quick : 1, 브라우저를 : 1, Before : 1, 컨텐츠를 : 1, 많은 : 1, 1700 : 4, 측면에서 : 1, 접수 : 1, 자격증 : 1, 교사직 : 1, 2015년도 : 1, 1407 : 2, 7일 : 1, 이유 : 1, 5년간 : 1, 사무직 : 1, 경기문화창조허브 : 1, WEBMAIL : 1, 안내수정 : 1, 한국기술교육대학교 : 5, Copyright : 1, 릴레이 : 1, Registration : 1, Music : 1, 1412 : 2, Education : 1, 20150930 : 1, 전자신문 : 1, 채용으로 : 1, 수 : 3, 로그인할 : 1, 지원자 : 1, 졸업작품 : 1, 등 : 1, 통신 : 1, 14601461 : 1, Startup : 1, 2015년 : 1, School : 1, Linkedin : 1, 학과사무실 : 1, 병천면 : 2, Exhibition : 1, 학교 : 1, New : 1, KT경기창조경제혁신센터 : 1, Paying : 1, 유지될 : 1, Korea : 1, TEL : 1, for : 1, 모집 : 2, 꼭 : 1, 비밀번호 : 1, 닷 : 1, 무료수강 : 1, 산업기능요원 : 1, FAX : 1, Amazon : 1, Facebook : 1, 회원가입 : 1, 대한상공회의소 : 1, Cook : 1, 1401 : 2, 1400 : 2, 20150923 : 1, Age : 1, ‘Massive : 1, 신입사원 : 2, 펜타인 : 1, Empowerment : 1, 투표 : 1, 1500 : 2, 개최 : 1, CSE : 1, VENTURESQUARE : 1, Study : 1, 공학교육인증 : 1, 1331 : 2, 1330 : 2, 1600 : 1, 1932 : 2, Contact : 1, 조언들이 : 1, 엔에스이 : 1, “한국형 : 1, 다음 : 1, 041 : 2, 디스플레이장비전 : 1, 25년만에 : 1, 충청남도 : 2, 주KMW : 1, 1430 : 2, 1431 : 2, 전문연구요원 : 1, of : 3, Ran : 1, 기술연구소 : 1, 평생교육원 : 1, 1537 : 2, 출원 : 1, Computer : 1, 1532 : 2, 20150914 : 1, 850번이나 : 1, 고취 : 1, 필요가 : 1, Campus : 1, Contents : 1, 4천이상 : 1, Coming : 1, 10명 : 1, Schoolfun : 1, IT융합분야에 : 1, 충절로 : 2, Creative : 1, RECODE : 1, 코바코 : 1, Longtime : 1, 작 : 1, Online : 1, 국민행복 : 1, 1549 : 2, 홈페이지 : 1, 인력양성사업 : 3, Customers : 1, 코스닥상장 : 1, 수준의 : 1, 1638 : 2, © : 1, 유출될 : 1, 지식재산권 : 1, 【장학지원】보건복지심리재활분야 : 1, 북부 : 1, 경영 : 1, 시 : 1, 공지입니다 : 1, 20150903 : 2, 폐지 : 1, 팁스타운 : 1, 김주윤 : 1, KoreaI : 1, 제4차 : 1, CK : 1, 대학원 : 2, 기능을 : 1, Subscribers : 1, 560 : 2, Science : 1, 사물인터넷 : 1, 자유게시판 : 1, 구성원소개 : 1, 대한 : 1, N : 1, 로그아웃을 : 1, 개인정보가 : 1, 공고 : 2, 고장났다···군 : 1, 안내 : 1, 강좌 : 1, Fun : 1, 미래부 : 1, Navigation : 1, 마일리지 : 1, 13 : 1, 1625 : 2, 홈커밍데이 : 1, 실무프로그래밍 : 1, 채용공고 : 1, 우편방 : 1, 해주세요 : 1, 접속부터는 : 1, Engineering : 1, Manifesto : 1, Video : 1, LIG인베니아 : 1, 31253 : 1, 국방 : 1, Close : 1, Twitter : 1, 2100 : 2, Wearable : 1, 국회로 : 1, Location : 1, and : 2, 가전리 : 1, 개발자를 : 1, reserved : 1, 요금인가제 : 1, IT전문인력 : 1, 경쟁력 : 1, CEO : 1, 컴퓨터공학부 : 6, 1203 : 2, Tim : 1, 신청 : 1, 1253 : 2, 이용 : 1, 20151019 : 1, Has : 1, 에서 : 1, 20151014 : 1, 20151015 : 1, 20151016 : 2, 오신 : 1, 열린다 : 1, 20151012 : 1, 20151013 : 3, LG : 1, IT사업단 : 1, Hires : 1, 모집합니다 : 1, 1616 : 2, Who : 1, 간 : 1, ‘콘텐츠 : 1, Wireless : 1, 메카 : 1, Bang : 1, 위험할 : 1, 닫더라도 : 1, 없습니다 : 1, 교육의 : 2, 공공장소에서 : 1, 경우 : 1, 주 : 1, 컨텐츠 : 3, 아이디 : 1, 융합소프트웨어 : 3, 자료실 : 1, 챔피언 : 1, 신청서 : 1, 학부 : 1, IR : 1, 입학 : 1, IT : 5, Change’ : 1, 장학금 : 1, Capability : 1, IT경진대회’ : 1, 있습니다 : 1, 20151008 : 1, 양성 : 1, 전시회 : 1, a : 1, 로그인이 : 1, All : 1, Google : 1, 65 : 1, Airbnb : 1, 1800 : 4, 결과 : 1, Is : 1, Executive : 1, 1605 : 2, It : 1, 투자유치 : 1, 1600한국기술교육대학교 : 1, TV : 1, 국제적인 : 1, 모집공고 : 1, 1356 : 2, 실행력 : 1, 채용···불문 : 1, 국제전시회IoT : 1, 로그인 : 4, 신언론선언 : 1, ‘2015 : 1, }\n"
     ]
    }
   ],
   "source": [
    "cse_dic = {}\n",
    "\n",
    "for x in NSpaceList :\n",
    "    cse_dic[x] = NSpaceList.count(x)\n",
    "\n",
    "print '{',\n",
    "for x in cse_dic :\n",
    "    print \"%s : %d,\" % (x, cse_dic[x]), \n",
    "print '}'"
   ]
  },
  {
   "cell_type": "markdown",
   "metadata": {},
   "source": [
    "요구사항 3은 새로운 사전 객체를 만든 후 사전 객체에 단어를 key 값으로 하고 단어의 수를 value 값으로 입력시켜 주었다."
   ]
  },
  {
   "cell_type": "code",
   "execution_count": 15,
   "metadata": {
    "collapsed": false
   },
   "outputs": [
    {
     "name": "stdout",
     "output_type": "stream",
     "text": [
      "{ 소리 : 1, 그놈이다상승129 : 1, 등록txtdate삭제intxt : 1, 한글캠페인 : 1, copy : 1, none : 1, 위하여 : 1, 나눔글꼴이 : 2, gt : 1, 유지 : 1, 나눔글꼴을 : 1, 선호주제설정 : 1, 참여하세요 : 1, 촬영현장 : 1, 클릭하세요 : 1, 141℃ : 1, 186℃ : 1, 175℃ : 1, 상반기 : 1, 140℃ : 3, 일정 : 1, 기존 : 1, 홈 : 3, 체크 : 1, 오빠들이 : 1, 고객센터 : 1, 전국투어 : 1, 주제형캐스트 : 1, 작곡 : 1, 때는 : 1, 위로할 : 1, 제공되지 : 1, 스위프트 : 1, 라이브 : 3, 영국 : 1, 자주 : 2, 있습니다추가하시려면 : 1, 기사보기 : 1, 앱 : 3, 설치된 : 1, 초록달 : 1, 자동차 : 1, 전문보기 : 2, 국어사전 : 1, 주요언론사 : 2, Caps : 2, 설정된 : 1, 설치하세요 : 1, 허지영 : 1, 부동산 : 1, 39노래방 : 1, 닫기 : 7, 데뷔 : 1, 이용약관 : 1, 폰트를 : 1, 구름많음 : 3, 712 : 1, 켤 : 1, 풀벌레 : 1, 나도 : 1, 채상승171 : 1, 100 : 1, 카테고리 : 1, 대체로 : 1, 내일 : 1, 확인 : 1, 종합경제 : 1, 155℃ : 1, 삭제완료 : 1, 주요 : 1, 이용을 : 1, 않고 : 1, Pastel : 1, 29일 : 1, 경우에 : 1, 통합검색 : 1, 타임스퀘어 : 2, 새 : 1, 바람 : 1, 제작 : 1, 앱을 : 1, 정책 : 2, 뉴스 : 2, 이전캐스트다음캐스트 : 1, 가을 : 3, 수밖에 : 1, 라이프 : 1, 대한 : 1, 아이엠낫 : 1, 개인정보 : 1, 개인정보취급방침 : 1, 130℃ : 3, 인물 : 1, 검색어를 : 1, 영상으로 : 1, 다운로드URL : 2, 152℃ : 1, 대해 : 1, 건강 : 1, 열기 : 2, 8위 : 1, 추억을 : 1, 북스 : 1, 메뉴 : 2, TOP : 1, 저장되지 : 1, 뮤지션 : 3, 신청 : 1, 나눔글꼴로 : 1, 7위 : 1, 곡 : 1, 어렵지 : 1, 나만의 : 1, 글꼴설정 : 2, 삭제검색어저장 : 2, 카페 : 2, 위해서는플래시 : 1, 아이디 : 1, 반드시 : 1, 영자지 : 1, 기록 : 3, 가능합니다 : 2, 다시보기 : 1, 라이노 : 1, 않은 : 1, 선보이는 : 1, Lock이 : 2, 240℃ : 3, 39쇼팽 : 1, 230℃ : 1, 켜기 : 5, 구름조금 : 10, 검색어는 : 1, 생각한대로 : 1, 무대 : 1, 국민행복캠페인 : 1, 실시간 : 1, 연합뉴스 : 1, 개인 : 2, 보내기 : 1, 행사 : 1, 23 : 1, 칼국수 : 1, 2015 : 1, 단독 : 1, 아이디어 : 1, 이지성상승654 : 1, 시작페이지로 : 1, 질문형 : 1, 검색어로 : 1, 오늘의 : 1, 지식iN : 2, 윤디의 : 1, 게임 : 2, 노래 : 1, 춤 : 1, 증권 : 1, 문화콘텐츠공모전에 : 1, 192℃ : 1, 생활 : 1, 빠른 : 1, 전송은 : 1, 새마을금고 : 2, 버튼을 : 1, NAVER : 2, 사용하고 : 1, 입력 : 1, 최근검색어 : 1, 조희팔 : 1, 110℃ : 1, 160℃ : 1, 내PC : 1, 회원가입 : 1, 취소 : 2, 검색어를내 : 1, 자켓 : 1, NPay : 1, 지워주세요 : 1, 달롱마트 : 1, 무료입니다 : 1, 쇼핑 : 2, 웹문서 : 1, 유형 : 1, 경기 : 1, 않습니다자세히보기 : 1, 발생합니다 : 1, 선택 : 1, 아이디찾기비밀번호 : 1, 이 : 1, 지도 : 2, 지역설정 : 1, 않는 : 1, 보세요 : 2, txttxt : 1, 이지성 : 1, XIA준수 : 1, 테일러 : 1, 만들기 : 1, TV캐스트 : 1, 구독설정 : 1, 10개 : 1, 회사소개 : 1, 현재시스템글꼴 : 1, 투데이 : 1, 첫 : 1, 보호를 : 1, 로그아웃을 : 1, 고객님의 : 1, 웹툰 : 2, 선공개 : 1, 맑고…기온 : 1, 최대 : 1, 날씨 : 1, 유도 : 1, 뮤직 : 5, 도움말 : 7, 감상회 : 1, 번다 : 1, 하루 : 1, 대통령39의 : 1, PC에서는 : 1, 미리보기 : 1, 브아걸 : 1, 네이버를 : 1, 210℃ : 1, 모든 : 2, 무료로 : 2, 우쿨교실 : 1, 오류 : 1, 사전 : 2, 데일리메일 : 1, 등록를 : 1, 트와이스상승66 : 2, 기업을 : 2, 내일오후 : 12, 미세먼지 : 1, 목요일 : 1, 기억하시죠 : 1, 있습니다 : 5, 168℃ : 1, httpnv1adnavercomadshowunit002ANnrefreshx0 : 1, 1위 : 1, 4위 : 1, 채용 : 2, 맑음 : 22, 바지락 : 1, 번호는 : 1, 마이다스아이티 : 1, 행복시간표 : 1, 단체상봉 : 1, 오픈캐스트 : 1, 메인을 : 2, 일회용 : 1, 올라 : 1, 3위 : 1, 상태 : 1, 초대권 : 1, 어쿠스틱 : 1, 공모전 : 1, 지역 : 2, 이주의 : 1, 찾기 : 1, N드라이브 : 1, 당신을 : 1, 사용 : 2, 현재 : 15, 위엄 : 1, 당신의 : 1, 다시 : 2, 검색등록 : 1, 검색 : 2, 자동완성 : 10, 네이버뉴스연예스포츠경제랭킹뉴스 : 1, 구독목록 : 1, 용어사전 : 1, 재보궐선거 : 1, 서울 : 1, 영상 : 2, 신규 : 1, 코끝에 : 1, 전체보기 : 1, 되나요 : 1, 수 : 1, JYP에서 : 1, 한판승이란 : 1, 광고 : 3, 전체 : 2, 차테크 : 1, 공지사항 : 1, 9위 : 1, 영어사전 : 1, 심근경색 : 1, 이대은 : 1, 해피빈쥬니버한게임 : 1, 공익나눔 : 1, 검색해 : 1, 주제별캐스트 : 1, 설치해야 : 1, 공용 : 1, 강의 : 1, 메일 : 1, 2위 : 1, 주세요 : 1, 다음 : 1, PC에서 : 1, 선거일까지 : 1, 합니다나눔글꼴을 : 1, 백과사전 : 1, 선택하여 : 1, 끝나…눈물 : 1, 나눔글꼴 : 7, 앱스토어new : 1, 100℃ : 2, 신과함께상승390 : 1, 전체언론사 : 2, 해 : 1, 이전페이지다음페이지 : 2, 검색어 : 10, 8시 : 1, 이러니 : 1, 변경에 : 1, 매거진전문지 : 1, 최근검색어내 : 1, 스포츠연예 : 1, 카페명 : 1, 활성화되었습니다 : 1, Beta : 1, 설정 : 1, 한자사전 : 1, 작곡하기 : 1, 180℃ : 3, 계십니다 : 1, 신인 : 1, 내일오전 : 12, 생활위젯 : 1, 음악 : 4, 신고검색어저장 : 4, 보기 : 1, 흐림 : 1, 삭제한 : 1, 뉴스스탠드 : 2, 걸그룹 : 1, 이유는 : 1, 상영 : 1, 차유람 : 1, 이채언루트10월 : 1, 설치해주세요설치방법 : 1, 5년 : 1, 10월 : 1, 쓰는 : 1, 조희팔상승48 : 1, 만들어드려요 : 1, 보기위해서는나눔글꼴 : 1, 여전한 : 1, 제휴제안 : 1, 서비스 : 2, 까지 : 1, 반할 : 1, 내역이 : 1, 필요합니다 : 1, 다운로드 : 2, 경우 : 1, 리그 : 3, 문자받기 : 2, 위해서는nbsp나눔글꼴을 : 1, IT : 1, 귀에 : 1, 펼치기 : 1, 전문자료 : 1, 보도 : 1, 더보기 : 2, 11억씩 : 1, 영화 : 5, 확인되지 : 2, 네이버me : 1, 최초설치가 : 1, 179℃ : 1, 위치 : 1, 재설치가 : 1, 방송통신 : 1, 이산가족 : 1, 동영상 : 1, 미세먼지상승54 : 1, 본문 : 1, 쏙쏙 : 1, 159℃ : 1, 트와이스 : 2, TV동영상 : 1, 스페셜리스트39 : 1, 패밀리 : 1, 공개 : 1, 250℃ : 4, 바로가기 : 6, 200℃ : 1, 국내 : 1, 초기증상 : 1, 토닥 : 1, 없습니다 : 1, 6위 : 1, 검색어가 : 1, 카페글 : 1, 찾는 : 1, 2단계 : 1, 약관 : 1, 라인 : 1, IP보안 : 2, httpnv2adnavercomadshowunit002APnrefreshx0 : 1, 해제txt : 1, 가볍고 : 1, 마이다스아이티상승372 : 1, 않아요 : 1, 온 : 1, 주제별 : 1, 그놈이다 : 1, 5위 : 1, 책 : 3, ‘개인정보취급방침’ : 1, 차유람상승672 : 1, 너도나도 : 1, 일본어사전 : 1, 끄기 : 7, 설치 : 3, 임의로 : 1, 10위 : 1, 이대은상승597 : 1, 120℃ : 1, 포함 : 2, 주간예보 : 1, 않습니다나눔글꼴로 : 1, 네이버SE : 1, 및 : 3, 보안로그인 : 1, 네이버캐스트 : 1, 한번 : 1, 입력하신 : 1, 라이센스 : 2, 내 : 6, 블로그 : 2, 검색홈 : 1, MY뉴스 : 1, 만에 : 2, 긍정부정검색 : 1, 켜져 : 2, 해볼까 : 1, 낙엽 : 1, Corp : 1, 네이버 : 14, 아이유 : 1, 기능을 : 2, 1020화 : 1, 영영사전 : 1, 레이어 : 5, 플레이어를 : 1, 저장 : 2, 후보에 : 1, 안내 : 3, 설치하시겠습니까 : 2, 포토 : 1, 스포츠 : 2, 쇼핑캐스트 : 2, 사이트 : 3, 역대춤 : 1, 기능이 : 5, 초대 : 1, 청소년보호정책 : 1, 공연 : 1, 앨범 : 1, 급상승 : 1, 260℃ : 2, 신과함께 : 1, 39심쿵39하게 : 1, 해도 : 1, 184℃ : 1, 제대로완료되지 : 1, 사용자가 : 2, 4월29일 : 1, 브아걸의 : 1, 저장할 : 1, 바다 : 1, 이미지 : 1, 휴대폰번호 : 1, 저장해 : 1, 같은 : 1, 꺼져 : 3, 매체보기 : 1, 없습니다최근검색어에서 : 1, 9년 : 1, 렐레의 : 1, 이전다음 : 1, 버즈의 : 1, 로그인 : 5, 온스테이지 : 2, 들어오는 : 1, 비밀번호 : 1, 이전 : 1, 이렇게 : 1, }\n"
     ]
    }
   ],
   "source": [
    "import urllib2\n",
    "\n",
    "source2 = urllib2.urlopen(\"http://naver.com/\").read()\n",
    "\n",
    "for i in range(0, source2.count('<script')) :\n",
    "    if source2.find('<script') != -1 :\n",
    "        source2=source2.replace(source2[source2.find('<script'):source2.find('</script>')+9],\"\")\n",
    "        \n",
    "for i in range(0, source2.count('<!--')):\n",
    "    if source2.find(\"<!--\") != -1:\n",
    "        source2 = source2.replace(source2[source2.find(\"<!--\"):source2.find(\"-->\")+3:],\"\")\n",
    "        \n",
    "for i in range(0,source2.count(\"<\")):\n",
    "    if source2.find(\"<\") != -1:\n",
    "        source2 = source2.replace(source2[source2.find(\"<\"):source2.find(\">\")+1:],\"\")\n",
    "        \n",
    "words2 = source2.split()\n",
    "\n",
    "\n",
    "delPuncList2 = []\n",
    "puncStr2 = ''\n",
    "\n",
    "# punctuation(구두문자) 제거\n",
    "\n",
    "for x in words2:\n",
    "    puncStr2 = ''\n",
    "    for y in x:\n",
    "        if y in punc :\n",
    "            puncStr2 = puncStr2 + ''\n",
    "        else :\n",
    "            puncStr2 = puncStr2 + y\n",
    "    delPuncList2.append(puncStr2)\n",
    "    \n",
    "# 구두문자 제거 후 출력\n",
    "#for x in delPuncList2 :\n",
    "#    print x\n",
    "\n",
    "NSpaceList2 = []\n",
    "\n",
    "#공백문자 제거\n",
    "for x in delPuncList2 :\n",
    "    if len(x) == 0 :\n",
    "        pass\n",
    "    else :\n",
    "        NSpaceList2.append(x)\n",
    "\n",
    "#공백문자 제거 후 출력        \n",
    "#for x in NSpaceList2 :\n",
    "#    print x\n",
    "    \n",
    "#단어 빈도수 확인\n",
    "naver_dic = {}\n",
    "\n",
    "for x in NSpaceList2 :\n",
    "    naver_dic[x] = NSpaceList2.count(x)\n",
    "\n",
    "print '{',\n",
    "for x in naver_dic :\n",
    "    print \"%s : %d,\" % (x, naver_dic[x]), \n",
    "print '}'"
   ]
  },
  {
   "cell_type": "code",
   "execution_count": 28,
   "metadata": {
    "collapsed": false
   },
   "outputs": [
    {
     "name": "stdout",
     "output_type": "stream",
     "text": [
      "{ 오늘만 : 1, 2년 : 1, 유지 : 1, 황PD : 1, 뿐인데 : 1, GS샵 : 1, 브런치홈 : 1, 본 : 1, 잇다 : 1, 상승130 : 2, 키덜트 : 1, 186℃ : 1, 관련 : 2, 요새 : 1, 영화음악 : 1, 닫은 : 1, 공중그네 : 1, 셔츠만입었을 : 1, 팁 : 3, 고객센터 : 1, 지 : 1, 쇼핑기획전 : 1, 강소라 : 1, 영국 : 1, 체험학습 : 1, 베스트100 : 1, 문화가 : 1, 44억39 : 1, Kakao : 1, 여수 : 1, CJ몰 : 1, 자동차 : 1, 부산 : 1, 와디럼 : 1, 제로 : 1, 회사를 : 1, 떨려 : 1, 캔자스시티 : 1, 소개 : 1, 하프클럽 : 2, 유아동 : 1, 안 : 1, 전일대비 : 2, 부동산 : 2, 닫기 : 2, 데뷔 : 1, 40대 : 1, 사라진마지막 : 1, 146℃ : 1, 가정사 : 1, 100 : 1, 골다공증의 : 1, 주요 : 2, 203℃ : 1, 는 : 1, 사랑의비너스5000원무배 : 1, Daum : 2, 추천 : 2, 172℃ : 1, 피지는줄이고수분은올리고 : 1, 표기 : 1, 다음앱 : 3, 편성 : 1, 책 : 2, 사랑한 : 1, 충분quot : 1, 195℃ : 2, 때 : 2, 뉴스 : 2, 광고안내 : 1, 발표할 : 1, 연예 : 2, 가을 : 1, 1등 : 1, 회사들이 : 1, 때리게 : 1, 대학 : 1, 라이프 : 2, 상승96 : 2, 상승133 : 2, 634429 : 1, 입니다 : 22, 개인정보 : 1, 종료 : 2, 열정樂서 : 1, 목록 : 1, 정준오 : 1, 교육부 : 1, 한국학교독도를 : 1, 서 : 1, 최근 : 1, 백종원 : 1, 8위 : 2, 상승108 : 2, 멍 : 1, 제휴문의 : 1, 세 : 1, 폰번호 : 1, 검색등록 : 1, ㅋㅎ : 1, 계주에 : 1, 위해개인 : 1, 고급진예쁨백화점퀄리티 : 1, 재밌는 : 2, 7위 : 2, 없어요 : 1, 이태화 : 1, 1051 : 1, 시도 : 1, 카페 : 4, 제목 : 22, 신소연 : 2, 아이디 : 2, 사람들 : 1, 백령도 : 1, 카메라로 : 1, 인기기획전 : 1, 39마션39 : 1, 준비하기 : 1, tv팟홈 : 1, ··· : 1, 시달리다 : 1, 캐시미어100머플러 : 1, 없어국민께 : 1, 도움말보기 : 1, 정보 : 8, 181℃ : 1, 스페셜 : 3, 따뜻한 : 1, 몰랐던 : 1, 것은 : 1, 모으기 : 1, 490원 : 1, 현위치 : 1, 실시간 : 2, 공지사항 : 1, 9위 : 2, 운세 : 1, 쓰려고 : 1, 큰 : 1, 연재하던 : 1, 팀별 : 1, 전주 : 1, 상품 : 3, 칼국수 : 1, 쇼핑몰 : 1, 더 : 1, 좋은 : 2, ndash : 1, 로드뷰 : 1, 통합 : 1, 동조 : 1, 신의진 : 2, 책··· : 1, 오늘의 : 3, 있는가 : 1, 피핀 : 1, 대 : 2, 6위 : 2, 게임 : 3, 작업이나 : 1, ㄱㄹ : 1, 루리웹 : 1, quot모자로도 : 1, 전성기 : 1, 링크를 : 22, 총학 : 1, 내역 : 1, 증권 : 3, 한국에서 : 1, 독일 : 1, 디테일대박배송비공짜 : 1, 39데이터 : 1, 알고도 : 1, FUN : 1, G마켓 : 1, 점수 : 1, 193℃ : 1, 비밀 : 1, 비밀번호 : 2, 160℃ : 1, 강아 : 1, 지나치게 : 1, 회원가입 : 1, 나답게 : 1, 다른 : 2, 미즈넷 : 2, 개발자들을 : 1, 소설이 : 1, 발목 : 1, 모을 : 1, 막는다 : 1, 3560원 : 1, 삶을 : 1, 이메일 : 1, 쇼핑 : 4, 내또래 : 1, 눈을 : 1, 물리쳤지만 : 1, 일 : 1, 날짜 : 1, 물들여 : 1, 지도 : 3, 실 : 1, 내용을 : 22, 무기로 : 1, iST24 : 1, 이지성 : 2, 정경 : 1, 화소 : 1, 회사소개 : 1, 많은 : 1, 영화 : 4, 지식공간 : 1, 보호를 : 1, 체 : 1, 웹툰 : 2, copy : 1, 날씨 : 3, 이동통신업체 : 1, 외국인 : 1, 메세··· : 1, 하루 : 1, 페이지13 : 1, 징역 : 1, 아무도 : 1, 연무 : 1, 상승86 : 2, 표한 : 1, 되는 : 1, 위해 : 1, 인기 : 1, 광주 : 1, 조혜정 : 2, 사전 : 3, 확인하시려면 : 22, 각 : 1, 전 : 22, 적 : 1, 회사가 : 1, 학부모 : 1, 미세먼지 : 2, 상승119 : 2, 경기시간 : 1, 감 : 1, 만드 : 1, 11번가 : 1, MLB : 1, 아름다운 : 1, 인재채용 : 1, 202℃ : 1, 남달라 : 1, 롯데i몰 : 1, 1위 : 3, 4위 : 2, 145도 : 1, 페이지7 : 2, 고통스런하나 : 1, 천안시 : 1, 오늘 : 1, 발롱도르 : 1, 프로세스 : 1, 뉴스홈 : 1, 페이지4 : 1, 개인 : 1, 무한 : 1, tv팟 : 3, ㅁㅂ : 1, 입 : 1, 3위 : 3, 앞에서 : 1, 나에게 : 1, 지역 : 2, BEST : 1, 네일아트 : 1, 찾기 : 2, 서안지구서 : 1, 발표 : 1, 현재 : 9, 44억원 : 1, 숨기는우리 : 1, 수원 : 1, 모바일 : 1, 만에국정교과서 : 1, 문화는 : 1, 티스토리 : 1, quot대통령에게 : 1, 동남구 : 1, 검색 : 3, 촬영지 : 1, 서유리 : 1, 나의 : 2, 앞서간 : 1, 국사 : 1, 변신 : 1, 동영상 : 7, 서울 : 1, 영상 : 1, 눌러주세요 : 22, 바리톤 : 1, 미술로 : 1, 춘천 : 1, 의상부터 : 1, FIFA : 1, 환율 : 1, 수지 : 1, 중계센터 : 1, 이산가족상봉 : 2, 광고 : 1, 불 : 1, 전체 : 1, 살해한 : 1, 서비스약관 : 1, 생각하고 : 1, 아이들은 : 1, 뉴스펀딩 : 1, 경기영상 : 1, 위한 : 1, 의식할 : 1, 살아간다는 : 1, 울릉도 : 1, 새로운 : 1, 사의 : 1, 브런치 : 3, 메일 : 1, 2위 : 3, 얻어 : 1, 주세요 : 1, 다음 : 9, 울산 : 1, 백과사전 : 1, 유일호 : 1, 174℃ : 1, 점점 : 1, 흰 : 1, 어때 : 1, 사막을 : 1, 무배 : 1, 손톱의 : 1, 어학사전 : 1, 시대를 : 1, 39예비비 : 1, 힘 : 1, 달리다 : 1, 마음달 : 1, 청소년보호정책 : 1, 주는 : 1, 상승60 : 2, 방법 : 1, 상승66 : 2, 교과서 : 2, 마마무 : 1, 스토리볼 : 1, 설정 : 3, 해적은 : 1, 일전상품15darr : 1, 17개 : 1, 꿀 : 1, 명반 : 1, 끌어 : 1, 청주 : 1, 개발 : 2, 모습 : 1, 마일리지 : 1, 백제 : 1, 前남편 : 1, 8대11 : 1, 파 : 1, 만드는가 : 1, 봤더니 : 1, 차유람 : 2, 위메프 : 2, 손끝마저 : 1, 조철현 : 1, 롯데닷컴 : 2, 유익한 : 2, 클릭상품 : 1, 강릉 : 1, 가져오기 : 22, 서비스 : 7, 실력 : 1, PPT : 1, Corp : 1, 남장 : 1, 대전 : 1, IS : 1, 바로 : 22, 펼치기 : 1, 사망가해자 : 1, 블랙야크미친파격가 : 1, 더보기 : 1, 클라우드 : 1, 178℃ : 1, 돈에는 : 1, 이슈 : 2, 요금 : 1, 김두혁 : 1, 페이지11 : 1, 1015380 : 1, 지쳐가는 : 1, 폰토그래퍼 : 1, 페이지9 : 2, 페이지8 : 2, 신세계몰 : 1, 페이지3 : 1, 페이지2 : 1, 페이지1 : 3, 179℃ : 1, 804 : 1, 사용해 : 1, 아고라 : 2, 알고 : 1, 찔려 : 1, 격 : 1, 190℃ : 1, 전체보기 : 2, ㅅㅇ : 1, 웹접근성안내 : 1, quot국정화 : 1, 300만 : 1, 5명 : 1, 트와이스 : 3, 놀라운 : 1, 기획전홈 : 2, 39다케시마39 : 1, 매력적인 : 1, 폭탄39 : 1, 바로가기 : 7, 국내 : 1, 검색어 : 1, 칼에 : 1, 패션플러스 : 1, 링크모음 : 3, 필요 : 1, 쇼핑홈 : 1, 약관 : 1, 깨우는 : 1, 공감 : 1, IP보안 : 2, PC에서만 : 1, 미시룩지금날씨딱 : 1, 상승50 : 2, 상승53 : 2, 예술상인 : 1, 심리학자 : 1, 자동실행 : 1, 연예인 : 1, 군인 : 1, 제주 : 2, 패션 : 1, 화두이자 : 1, 상상고양이 : 2, 5위 : 2, 만화속세상 : 1, 포근하고따뜻요즘입기예뻐 : 1, 어디에 : 1, 탭 : 10, 적이 : 1, 10위 : 2, 토론토 : 1, 작가로 : 1, 내의인기폭발6천 : 1, 일본내 : 1, 레깅스 : 1, 3900원 : 1, 총 : 7, EBS지식 : 1, 저지위해 : 1, 손 : 1, 금융 : 1, 및 : 2, 흔들다 : 1, 날 : 1, 매거진 : 1, 잡혔다 : 1, 사살 : 1, 것quot : 1, 접근성 : 1, or : 1, 내 : 2, 사람의 : 1, mumu : 1, 블로그 : 3, 이스라엘 : 1, 쇼핑도움 : 1, 블로그에 : 1, 현대H몰 : 1, 직장생활에 : 1, 잠자는 : 1, 청춘의 : 1, 화려한 : 1, 이마트몰 : 1, 그녀의 : 1, 소호 : 2, 신규앱 : 1, 하락 : 2, 가우아한 : 1, 찍은 : 1, 부천fc : 2, 난리난신상특가1만원대 : 1, 안내 : 2, 분단 : 1, 포토 : 3, 스포츠 : 3, 1020 : 1, 웹 : 1, 진짜 : 1, 내가 : 1, 공연 : 1, 희망해 : 3, 모으다 : 1, 포착 : 1, 이야기 : 1, 인터파크 : 1, 발표시··· : 1, 184℃ : 1, 밀수입 : 1, 특가 : 1, TV : 2, 적발quot : 1, quot폭탄원료 : 1, 송구quot : 1, ㅈㅊ : 1, 세부 : 1, 가정폭력 : 1, 논란 : 1, 컬러풀하게 : 1, 인기를 : 1, 로그인 : 5, 개인정보취급방침 : 1, 미디어 : 2, 대구 : 1, 선글라스 : 1, 옥션 : 1, 이전 : 7, }\n"
     ]
    }
   ],
   "source": [
    "import urllib2\n",
    "\n",
    "source3 = urllib2.urlopen(\"http://daum.net/\").read()\n",
    "\n",
    "#print source3\n",
    "\n",
    "for i in range(0, source3.count('<script')) :\n",
    "    if source3.find('<script') != -1 :\n",
    "        source3=source3.replace(source3[source3.find('<script'):source3.find('</script>')+9],\"\")\n",
    "        \n",
    "for i in range(0, source3.count('<style')) :\n",
    "    if source3.find('<style') != -1 :\n",
    "        source3=source3.replace(source3[source3.find('<style'):source3.find('</style>')+8],\"\")\n",
    "\n",
    "for i in range(0, source3.count('<!--')):\n",
    "    if source3.find(\"<!--\") != -1:\n",
    "        source3 = source3.replace(source3[source3.find(\"<!--\"):source3.find(\"-->\")+3:],\"\")\n",
    "        \n",
    "for i in range(0,source3.count(\"<\")):\n",
    "    if source3.find(\"<\") != -1:\n",
    "        source3 = source3.replace(source3[source3.find(\"<\"):source3.find(\">\")+1:],\"\")\n",
    "        \n",
    "words3 = source3.split()\n",
    "\n",
    "delPuncList3 = []\n",
    "puncStr3 = ''\n",
    "\n",
    "# punctuation(구두문자) 제거\n",
    "\n",
    "for x in words3:\n",
    "    puncStr3 = ''\n",
    "    for y in x:\n",
    "        if y in punc :\n",
    "            puncStr3 = puncStr3 + ''\n",
    "        else :\n",
    "            puncStr3 = puncStr3 + y\n",
    "    delPuncList3.append(puncStr3)\n",
    "    \n",
    "# 구두문자 제거 후 출력\n",
    "#for x in delPuncList3 :\n",
    "#    print x\n",
    "\n",
    "NSpaceList3 = []\n",
    "\n",
    "#공백문자 제거\n",
    "for x in delPuncList3 :\n",
    "    if len(x) == 0 :\n",
    "        pass\n",
    "    else :\n",
    "        NSpaceList3.append(x)\n",
    "\n",
    "#공백문자 제거 후 출력        \n",
    "#for x in NSpaceList3 :\n",
    "#    print x\n",
    "    \n",
    "#단어 빈도수 확인\n",
    "daum_dic = {}\n",
    "\n",
    "for x in NSpaceList3 :\n",
    "    daum_dic[x] = NSpaceList3.count(x)\n",
    "\n",
    "print '{',\n",
    "for x in daum_dic :\n",
    "    print \"%s : %d,\" % (x, daum_dic[x]), \n",
    "print '}'"
   ]
  },
  {
   "cell_type": "code",
   "execution_count": 29,
   "metadata": {
    "collapsed": false
   },
   "outputs": [
    {
     "name": "stdout",
     "output_type": "stream",
     "text": [
      "{ Canada : 1, Sell : 1, all : 3, code : 1, Based : 1, Harper : 2, Rout : 1, Time : 1, alternatives : 1, NYT : 2, month : 1, Take : 1, NYC : 3, creative : 1, Corporate : 1, Today : 2, Maddon : 2, offenses : 1, Attacking : 1, violate : 1, Business : 4, Watch : 5, CASEY : 1, 0 : 1, Violence : 1, Nytimescom : 1, Words : 1, under : 1, Not : 2, Believe : 1, Tourism : 1, Yaphank : 1, League : 1, risk : 1, far : 2, Weddings : 1, Region : 1, nationalize : 1, Getaway : 1, VICTORIA : 1, Don’t : 2, Yotam : 1, Tech : 2, AUSTEN : 2, Todays : 3, fullest : 1, ‘Jason : 1, encounter : 1, timesvideo : 1, False : 1, InBev : 1, Just : 1, cause : 1, Journeys : 1, standards : 1, Madness’ : 1, Stemming : 1, Go : 5, Breakfast : 1, Debate : 3, Kevin : 1, Differently : 3, Index : 1, ‘Perfect : 1, leaders : 1, be : 1, Frank : 1, Ease : 2, Terms : 2, Suffocations : 1, School : 1, Mismanaging : 1, Should : 1, ‘Broil’ : 1, Conjures : 1, Endorse : 1, candidate’s : 1, Rice : 1, Sections : 3, Giants : 3, established : 1, what : 2, Lonely : 1, Understand : 1, Subscriptions : 5, Heal : 2, Public : 2, Campaigns : 3, Game : 2, Balkans : 1, Conflict : 2, Survived : 1, Alone : 2, new : 2, seeks : 1, Pricing : 1, BreastFeeding : 1, Militia’ : 2, Rhetoric : 1, 5000 : 1, Gift : 1, Arrangement’ : 1, Age : 1, ThickRimmed : 1, Greene : 1, explore : 1, protection : 1, Events : 3, Supposed : 1, Mr : 1, Briefing : 1, David : 1, Footsteps : 2, Drama : 1, search : 2, ArtsBeat : 1, Chinese : 1, GlutenFree : 2, Tuesday : 2, Sidestep : 1, Back : 1, Supers : 1, JONAH : 1, Online : 1, Itself : 2, Regulated : 2, Issues : 1, RollsRoyce : 1, Owner : 1, Home : 4, Flashback : 1, Racial : 1, navigation : 1, Photography : 1, Style : 4, Closeted : 1, extra : 1, South : 1, father : 1, Top : 2, Multimedia : 2, Visit : 1, 330 : 1, Smugglers : 2, Contributing : 2, Kirk : 1, snowboard : 1, Health : 9, Too : 1, ET : 10, Police : 2, Jeh : 1, Specimens : 1, Europe : 1, Sanders : 4, from : 3, Explorer : 1, working : 1, to : 45, Drugs : 2, Dies : 4, Sold : 1, two : 1, next : 2, The : 33, Houses : 2, Craft : 1, Baseball : 1, Want : 1, Rowling’s : 2, minor : 1, October : 1, Ben : 1, Fear : 2, Denmark : 1, Editorials : 1, Gun : 1, Rule : 1, Racism : 1, Claire : 1, Roger : 1, 8 : 1, Editorial : 2, Homelessness : 1, Barriers : 1, Found : 2, Reality : 1, 97 : 2, migrants : 1, anything : 1, Guide : 3, this : 1, Company : 1, clients : 1, Hamlet : 1, impasse : 1, remain : 1, Bruni : 1, Video : 7, can : 1, Testify : 1, Candidates : 1, Your : 3, citizens : 1, 559 : 1, IBM : 1, give : 1, Federal : 1, Buy : 1, in : 25, Struggles : 2, Virtual : 1, DAVID : 1, Blogs : 1, Resort : 1, his : 1, want : 1, Digital : 1, Party : 2, Several : 2, Prize : 1, Rips : 1, Film : 1, recovery : 1, desperation : 1, Therapy : 1, Specimen : 1, six : 1, Advertisers : 1, revisit : 1, Alabama : 1, unseated : 1, Paper : 1, Gore : 1, Cultural : 1, Americans : 1, SABMiller : 1, Why : 1, copy : 1, A : 15, product : 1, Migrants : 1, sciencefiction : 1, plans : 1, 140 : 1, after : 3, Accepts : 1, treatments : 1, Sale : 2, Matter : 1, Quarter : 1, Setting : 1, blood : 1, Help : 1, suing : 1, Podcast : 2, Comic : 1, View : 2, a : 34, All : 1, Subscribe : 3, Soft : 1, Jokes : 1, Bats : 1, ‘Deterrence’ : 1, Watching : 1, While : 1, or : 5, Player : 1, jail : 1, Another : 1, keeps : 1, every : 1, talk : 1, AntiBling : 1, Blue : 2, Lamb : 1, What : 4, Who : 10, Jay : 1, Ruthless : 1, Housing : 1, Breaking : 1, displayed : 1, years : 1, symbols : 1, BROMWICH : 1, My : 1, nbsp : 1, Forces : 1, White : 1, galaxy : 1, Logjam : 1, His : 2, 20 : 2, Views : 1, PaperVideo : 1, 624 : 1, Rail : 1, Rain : 1, actually : 1, late : 1, Contact : 1, Glimpses : 1, 2015 : 1, World : 4, hidden : 1, NICHOLAS : 1, After : 1, 2013 : 1, damages : 1, Exhibit : 1, Alerts : 1, Tactics : 2, greater : 1, Rowling : 1, Mobile : 2, Socialist : 2, Fragile : 2, Awakens’ : 3, Two : 2, Trump’s : 1, Trudeau : 5, therapy : 1, Can : 2, Capitalist : 2, Offenders : 2, sweeping : 1, Balmain : 1, now : 1, provision : 1, day : 1, group : 1, applicants : 1, Respond : 1, Liberal : 2, meat : 1, Insider : 3, Skip : 2, Pro : 1, Danes : 1, Misses : 1, HampM : 1, Safeguards : 1, You’re : 1, Deadline : 1, victory : 1, shortage : 1, Ready : 1, found : 2, Glasses : 1, Poll : 1, side : 1, trailer : 1, Floor’ : 1, Billion : 1, Arts : 6, From : 5, Glass : 1, Homes : 1, ‘Kill : 1, Museum : 1, reduce : 1, About : 1, Sports : 4, 619 : 1, Expensive : 1, Thunderous : 1, our : 2, Ad : 1, insurance : 1, More : 6, Lives : 1, Disabled : 1, Mistrial : 2, ‘Saturday : 1, candlelight : 1, space : 1, since : 1, Wars : 3, AnheuserBusch : 1, content : 1, ‘Shear : 1, Joe : 1, Drums : 1, Report : 2, Hold : 1, supports : 1, Ride : 1, Dropped : 1, Town : 1, Reveal : 2, Stone : 2, earlier : 1, Theater : 2, Oven : 1, Rights : 2, This : 1, University : 1, Work : 2, Dog : 1, Museums : 1, Manage : 1, W : 1, One : 2, CAMPBELL : 1, Opinion : 13, Studies : 1, generate : 1, Block : 2, Break : 1, Evil’ : 3, Congress : 1, Contributors : 2, People : 2, Money : 4, Topics : 1, Celebrations : 1, George : 4, Past : 1, Expect : 1, Human : 2, Hungary : 1, nonprofit : 1, 458 : 1, Store : 1, rooted : 1, revenue : 1, Friends : 1, FiveAlarm : 1, Review : 9, Please : 1, Asia : 1, Fight : 2, Start : 1, done : 1, Collection : 1, 1871 : 2, millions : 1, Concedes : 1, city : 2, story : 2, Relic : 1, Monday : 1, start : 1, Becomes : 3, Volkswagen : 1, their : 1, Larry : 1, Master : 1, Comeback : 1, Iraq : 1, Baltimores : 1, Search : 5, Justin : 3, Success : 1, that : 5, Enact : 1, Companies : 1, Jail : 2, Long : 1, Letters : 1, Democratic : 2, herself : 1, than : 1, Road : 1, steel : 1, Repair : 1, Table : 1, Love : 1, 14 : 1, Upshot : 1, Art8221 : 1, 19 : 1, Puzzle : 2, politics : 1, Ear : 2, Strange : 1, Series : 1, Appetite : 1, Click : 1, browser : 1, and : 24, Fronts : 1, Ceiling : 1, Pat : 1, Pay : 2, Grisly : 2, Offensive : 1, Writers : 1, Inquiry : 1, Demczuk : 1, need : 1, Put : 3, It’s : 2, 8216Petticoat8217 : 1, Do : 6, Flight : 1, Stubblefield : 1, Food : 5, Murphy : 1, mills : 1, officers : 1, Graduates : 1, emphasis : 1, edge : 1, online : 1, truck : 1, With : 7, Dewey : 1, Stuyvesant : 1, 2016 : 1, Name : 1, An : 1, Attacks : 1, ‘Well : 2, Collective : 1, who : 4, Head : 1, paid : 1, Ghost : 1, Need : 2, Chief : 1, Good : 1, sponsored : 1, Detroit : 1, 71 : 3, Politics : 5, drugfocused : 1, payment : 1, Bernie : 3, SHAW : 1, Declared : 2, Google : 1, Account : 1, Hackers : 1, 8220Artists : 1, considered : 1, Tools : 1, NRA : 2, Actress : 1, face : 1, Relative : 1, raquo : 34, Donald : 1, Cost : 1, Can8217t : 1, Election : 1, Father’s : 2, Gabriella : 1, doesn’t : 1, Its : 3, came : 1, Emissions : 1, saying : 1, shot : 1, Profit : 1, text : 2, Sunday : 2, Agency : 1, Twain : 1, Uniting : 1, Junction8217 : 1, Barney : 1, Spend : 3, JK : 3, Stephen : 1, longer : 2, Television : 2, Anna : 1, Takes : 2, Bin : 1, We : 1, upgrade : 1, Extend : 1, Consumer : 1, Bid : 1, Republicans : 1, Continuing : 1, fans : 1, French : 1, Todayrsquos : 2, only : 1, going : 1, black : 1, York : 10, Services : 1, Mob : 1, Strong : 2, 11 : 1, Masters : 1, IAN : 2, Cooker : 1, Pampered : 1, Amid : 1, Heist : 1, Stranded : 1, Keep : 1, DealBook : 1, Magazine : 6, Stories : 1, THE : 1, Crime : 3, Italian : 1, prime : 2, Right : 1, Leaders : 1, Ice : 1, Jabs : 1, Bell : 1, Fans : 1, Than : 1, Assess : 1, SHERYL : 1, ViewedRecommended : 1, Presidential : 3, RoseColored : 2, x : 1, Education : 4, When : 1, art : 1, human : 1, For : 2, imposing : 1, Tracy : 1, culture : 1, Anderson : 1, are : 4, Frank’s : 1, Butler : 1, jobs : 1, Beating : 2, EmailedMost : 1, Arrives : 1, Run : 1, That : 2, review : 1, Rise : 1, dormitory : 1, Parini : 1, 3 : 1, Part : 1, Pint : 1, approach : 1, Runway : 1, Cycle : 1, affordable : 1, recently : 1, Path : 1, Johnson : 1, Settings : 1, Could : 2, Sales : 1, Buyers’ : 1, strides : 1, job : 1, 27 : 1, Against : 2, OpEd : 7, Catalogs : 1, police : 2, Ottolenghi’s : 1, Refugees : 2, Advertise : 1, Privacy : 1, Era : 1, last : 1, Give : 1, Dance : 1, Phones : 1, Hard : 1, Osama : 1, Supplements : 1, Through : 1, Backfire : 1, Unicode : 1, senator : 1, Engineer : 2, Syrian : 1, Makers : 1, Cookbook : 1, regulates : 1, Log : 1, Her : 1, Analogies : 1, Gas : 2, Travel : 3, Consortium : 1, community : 1, Note : 1, Returns : 1, Music : 1, Brooks : 1, Way : 1, citys : 1, MICHELLE : 1, Play : 2, ‘Empire : 1, Pain : 1, asks : 1, Students : 2, Changes : 1, KIRKPATRICK : 1, political : 2, Royals : 1, Cheaper : 1, twoandahalfminute : 1, Most : 1, Brooklyn : 1, Obituaries : 2, Corrections : 1, Articles : 1, 500 : 2, Care : 2, Writer : 1, 634 : 1, Curry : 1, with : 3, Cry : 1, cruelty : 1, Graduation : 1, else : 1, Credit : 1, Listings : 2, lives : 1, minister : 2, Map : 1, input : 1, Alarms : 1, instructor : 1, Essential : 1, Laws : 1, Night : 1, guarantees : 1, Force : 3, How : 6, Cybersecurity : 1, socialist : 1, Deaths : 1, batch : 1, NYU : 2, Schizophrenia : 2, fines : 1, Church : 1, Open : 2, study : 1, Market : 2, MORE : 1, Detoured : 1, City : 1, Joint : 1, Dividing : 1, is : 4, It8217s : 1, it : 1, in Dewey : 1, Dude : 1, Better : 1, Bush : 1, bias : 1, Here’s : 1, LEARN : 1, Eagles : 2, You : 5, Sworn : 1, Outsiders : 1, Conservation : 1, Cosby : 1, 300aNight : 2, Reserve : 1, GAY : 1, author : 1, seek : 1, Novel : 5, Freddie : 1, the Volkswagen : 1, Admissions : 1, NYTimescom : 2, Blood : 2, Bloomberg : 1, 9 : 1, Design : 2, Matters : 1, Taking : 2, Live’ : 1, Unlikely : 1, Digitized : 1, Vermont : 1, Debut : 1, Room : 3, Third : 1, Mueller : 2, I : 1, Clear : 1, Aims : 1, Brother : 1, Movies : 2, Stunning : 1, Truck : 1, Can’t : 1, Choices : 1, opportunity : 1, aka : 1, Diesel : 1, BOARD : 1, Tale : 1, Classifieds : 1, Says : 2, Technology : 1, Is : 9, Cubs’ : 2, 2015Today’s : 1, It : 1, Son : 2, TV : 1, Rate : 1, practices : 1, Rent : 1, Have : 2, In : 5, landmark : 1, organization : 1, the : 55, Jerusalem : 2, Nazi : 2, away : 1, know : 1, Living : 3, Loading : 2, EDITORIAL : 1, Service : 1, Lennart : 1, being : 1, amp : 1, Mother : 2, Nuts : 1, Pine : 1, Conservative : 1, not : 1, Carson’s : 1, Death : 1, So : 1, questions : 1, Internet : 1, ‘Night : 2, Surprise : 1, Pesto : 1, Emojis : 1, yet : 2, previous : 1, Itineraries : 1, Be : 3, death : 1, Jobs : 1, Campus : 1, Behind : 3, Reform : 1, had : 1, smugglers : 1, killed : 1, Applications : 1, 321 : 3, Leading : 3, 7 : 1, News : 6, east : 1, By : 14, Delivery : 1, Building : 1, On : 2, 700 : 1, D : 1, Did : 1, Die : 2, couple : 1, discriminatory : 1, Drug : 1, Three : 1, Project : 1, Offices : 1, T : 3, judge : 1, ROBERTSON : 1, bit : 1, Or : 1, Talk : 1, Jamaica : 1, Fashion : 2, Art : 1, ‘Homeland’ : 1, Tries : 1, schools : 1, confront : 1, Cohen : 2, Newsletters : 1, Fort : 1, Day : 1, 53 : 1, Biden : 1, Are : 1, have : 1, offenders : 1, Safety : 1, 中文 : 1, Las : 1, Find : 2, SHANNON : 1, Happens : 2, WEHNER : 1, deal : 1, apartments : 1, Divided : 1, Shirley’ : 1, Fears : 1, CAREY : 1, Quiz : 1, Crossword : 4, Offers : 1, Nocera : 1, Editor : 2, New : 15, Email : 1, Amanda : 1, Firm : 1, Life : 4, LeBoeuf : 2, for : 23, Feedback : 1, Fire : 1, Overselling : 1, conservative : 1, Nostalgic : 1, Replica : 1, Handsome : 1, Games : 1, Helped : 2, Celebration : 1, Gray : 1, Carbs : 2, patient : 1, Look : 3, Landmark : 1, Inside : 1, Columnists : 2, Rapper : 1, Us : 2, Times : 15, Near : 1, leadership : 1, ‘Career : 3, Behavior : 1, Davis : 1, Efforts : 1, by : 7, Attack : 1, First : 7, on : 15, about : 1, would : 1, Fair : 1, Trial : 1, of : 44, Transit : 1, months : 1, Laden’s : 1, US : 7, Evidence : 1, Benchley : 1, Austria : 1, UN : 1, ensure : 1, Feature : 1, Japan : 1, efforts : 1, Weekly : 1, Iraqi : 1, Mayor : 1, Bags : 1, raised : 1, Away : 3, Enter : 1, STOLBERG : 1, Woodell : 1, Their : 1, beings : 1, Point : 1, Draft : 3, Provides : 1, lieu : 1, Survive : 1, Approach : 3, your : 2, Empty : 1, Edition : 1, Driven : 1, ISIS : 2, Beef : 1, Automobiles : 2, Self : 1, housing : 1, Hotel : 3, Bill : 1, Visits : 1, Hand : 1, Chiefs : 1, NY : 4, Illuminates : 1, Vegas : 1, Every : 1, User : 1, Characters : 1, Artwork : 1, Clockmaker : 1, rhetorical : 1, was : 3, Painter : 1, Ending : 1, himself : 1, Version : 1, QA : 1, HIGGINS : 1, offer : 1, Column : 2, Science : 5, Vidal’ : 1, Vale’ : 2, but : 4, Fights : 1, TaxTrimming : 1, Following : 2, Opinionator : 1, Next : 1, Chelsea : 1, Moon : 2, Trailer : 3, he : 2, Awkwafina : 1, made : 1, calls : 1, rage : 1, House : 1, Africa : 1, Twist : 1, Legalization : 1, Eddie : 1, Books : 6, Close : 2, Jays : 2, Ivy : 1, » : 1, Chauffeur : 1, Birthplace : 1, Modern : 2, ordered : 1, videos : 1, deaths : 1, Personal : 1, universal : 1, Six : 1, Faced : 1, Airlines : 1, Wordplay : 1, an : 2, To : 2, as : 3, Potential : 1, at : 9, International : 2, families : 1, recklessness : 1, ‘Star : 3, Real : 4, Bumble : 2, no : 2, May : 1, trials : 1, DAN : 1, As : 1, 87 : 1, Fats : 2, Lufthansa : 1, Running : 1, other : 1, Five : 1, Student : 1, Isolation : 1, Football : 1, you : 2, PETER : 1, Pages : 1, Man : 2, Case : 2, Like : 1, Lost : 1, Skills : 1, Recipes : 1, AM : 12, includes : 1, April : 1, Morgan : 1, Act : 1, vigil : 1, Making : 2, Documentary : 2, Page : 3, Baltimore : 5, — : 2, Estate : 4, BENEDICT : 1, Reimagines : 1, nbspComments : 6, Reduce : 1, Site : 3, Migrant : 2, loyal : 1, time : 1, Chronicles : 1, }\n"
     ]
    }
   ],
   "source": [
    "import urllib2\n",
    "\n",
    "source4 = urllib2.urlopen(\"http://nytimes.com/\").read()\n",
    "\n",
    "#print source3\n",
    "\n",
    "for i in range(0, source4.count('<script')) :\n",
    "    if source4.find('<script') != -1 :\n",
    "        source4=source4.replace(source4[source4.find('<script'):source4.find('</script>')+9],\"\")\n",
    "        \n",
    "for i in range(0, source4.count('<style')) :\n",
    "    if source4.find('<style') != -1 :\n",
    "        source4=source4.replace(source4[source4.find('<style'):source4.find('</style>')+8],\"\")\n",
    "\n",
    "for i in range(0, source4.count('<!--')):\n",
    "    if source4.find(\"<!--\") != -1:\n",
    "        source4 = source4.replace(source4[source4.find(\"<!--\"):source4.find(\"-->\")+3:],\"\")\n",
    "        \n",
    "for i in range(0,source4.count(\"<\")):\n",
    "    if source4.find(\"<\") != -1:\n",
    "        source4 = source4.replace(source4[source4.find(\"<\"):source4.find(\">\")+1:],\"\")\n",
    "        \n",
    "words4 = source4.split()\n",
    "\n",
    "delPuncList4 = []\n",
    "puncStr4 = ''\n",
    "\n",
    "# punctuation(구두문자) 제거\n",
    "\n",
    "for x in words4:\n",
    "    puncStr4 = ''\n",
    "    for y in x:\n",
    "        if y in punc :\n",
    "            puncStr4 = puncStr4 + ''\n",
    "        else :\n",
    "            puncStr4 = puncStr4 + y\n",
    "    delPuncList4.append(puncStr4)\n",
    "    \n",
    "# 구두문자 제거 후 출력\n",
    "#for x in delPuncList4 :\n",
    "#    print x\n",
    "\n",
    "NSpaceList4 = []\n",
    "\n",
    "#공백문자 제거\n",
    "for x in delPuncList4 :\n",
    "    if len(x) == 0 :\n",
    "        pass\n",
    "    else :\n",
    "        NSpaceList4.append(x)\n",
    "\n",
    "#공백문자 제거 후 출력        \n",
    "#for x in NSpaceList4 :\n",
    "#    print x\n",
    "    \n",
    "#단어 빈도수 확인\n",
    "nytimes_dic = {}\n",
    "\n",
    "for x in NSpaceList4 :\n",
    "    nytimes_dic[x] = NSpaceList4.count(x)\n",
    "\n",
    "print '{',\n",
    "for x in nytimes_dic :\n",
    "    print \"%s : %d,\" % (x, nytimes_dic[x]), \n",
    "print '}'"
   ]
  },
  {
   "cell_type": "markdown",
   "metadata": {},
   "source": [
    "요구사항 4를 하면서 각 사이트마다 적용된 Javascript 종류들을 찾아내어 조건문에 추가해 준 후 순수 단어들을 골라 내었다. 이 후 방법은 학교 홈페이지에 적용한 방식과 동일하다."
   ]
  },
  {
   "cell_type": "markdown",
   "metadata": {},
   "source": [
    "##[소감]"
   ]
  },
  {
   "cell_type": "markdown",
   "metadata": {},
   "source": [
    "문제들을 통하여 리스트, 튜플들을 활용하여 내장함수들을 적용시킬 수 있었다. 특히나 리스트 내포, 튜플로 이루어진 리스트에서 1번째 값이 아닌 n 번째 값으로 리스트 sort하기, shallow copy의 개념에 대해 실질적으로 체감할 수 있었다. 아직 손에 익숙해지지 않았지만 반복 연습하면서 자연스럽게 사용할 수 있게 연습해야 할 것이다. Incremental Project를 하면서 길게 되어있는 문자열에 내가 원하는 조건들의 문자만 뽑아오는 방법에 대해 알게 되었다. HTML 태그, Javascript에 잘 몰라 헤메었지만 이것들을 제외시키고 문자들을 가져오는 방식은 같았다."
   ]
  }
 ],
 "metadata": {
  "kernelspec": {
   "display_name": "Python 2",
   "language": "python",
   "name": "python2"
  },
  "language_info": {
   "codemirror_mode": {
    "name": "ipython",
    "version": 2
   },
   "file_extension": ".py",
   "mimetype": "text/x-python",
   "name": "python",
   "nbconvert_exporter": "python",
   "pygments_lexer": "ipython2",
   "version": "2.7.9"
  }
 },
 "nbformat": 4,
 "nbformat_minor": 0
}
