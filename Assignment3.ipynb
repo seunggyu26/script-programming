{
 "cells": [
  {
   "cell_type": "markdown",
   "metadata": {},
   "source": [
    "###1. L=[1, 2, 3, 4, 5]일 때 다음 각 문장을 수행한 후의 결과를 보고 납득할 만한 이유를 설명하시오."
   ]
  },
  {
   "cell_type": "code",
   "execution_count": 2,
   "metadata": {
    "collapsed": true
   },
   "outputs": [],
   "source": [
    "L=[1, 2, 3, 4, 5]"
   ]
  },
  {
   "cell_type": "code",
   "execution_count": 3,
   "metadata": {
    "collapsed": false
   },
   "outputs": [
    {
     "name": "stdout",
     "output_type": "stream",
     "text": [
      "[1, 100, 4, 5]\n"
     ]
    }
   ],
   "source": [
    "# 1)\n",
    "\n",
    "L[1:3] = [100]\n",
    "print L"
   ]
  },
  {
   "cell_type": "markdown",
   "metadata": {},
   "source": [
    "리스트 L의 1번째부터 2번째 까지의 인덱스에 원소값 100을 삽입하였으므로, 삽입하는 원소의 갯수가 가리키는 인덱스의 갯수보다 적어도 해당 인덱스의 값들은 모두 사라지고 새로운 원소값이 추가된다."
   ]
  },
  {
   "cell_type": "code",
   "execution_count": 4,
   "metadata": {
    "collapsed": false
   },
   "outputs": [
    {
     "name": "stdout",
     "output_type": "stream",
     "text": [
      "[1, 100, 5]\n"
     ]
    }
   ],
   "source": [
    "# 2)\n",
    "\n",
    "L[1:3] = [(100)]\n",
    "print L"
   ]
  },
  {
   "cell_type": "markdown",
   "metadata": {},
   "source": [
    "1)과 동일하게 1번째부터 2번째까지의 인덱스에 새로운 원소값을 삽입하는 것이다. 이 때, (100)은 튜플로 인정되지 않고 int형이기 때문에 1)과 동일한 문장으로 볼 수 있다. 때문에 기존 리스트 L의 1번째와 2번째 인덱스가 가리키는 값은 사라지고 1번째 인덱스에 원소값 100이 삽입된 것을 볼 수 있다."
   ]
  },
  {
   "cell_type": "code",
   "execution_count": 5,
   "metadata": {
    "collapsed": false
   },
   "outputs": [
    {
     "ename": "TypeError",
     "evalue": "can only assign an iterable",
     "output_type": "error",
     "traceback": [
      "\u001b[1;31m---------------------------------------------------------------------------\u001b[0m",
      "\u001b[1;31mTypeError\u001b[0m                                 Traceback (most recent call last)",
      "\u001b[1;32m<ipython-input-5-2270065b1d90>\u001b[0m in \u001b[0;36m<module>\u001b[1;34m()\u001b[0m\n\u001b[0;32m      1\u001b[0m \u001b[1;31m# 3)\u001b[0m\u001b[1;33m\u001b[0m\u001b[1;33m\u001b[0m\u001b[0m\n\u001b[0;32m      2\u001b[0m \u001b[1;33m\u001b[0m\u001b[0m\n\u001b[1;32m----> 3\u001b[1;33m \u001b[0mL\u001b[0m\u001b[1;33m[\u001b[0m\u001b[1;36m1\u001b[0m\u001b[1;33m:\u001b[0m\u001b[1;36m3\u001b[0m\u001b[1;33m]\u001b[0m \u001b[1;33m=\u001b[0m \u001b[1;36m100\u001b[0m\u001b[1;33m\u001b[0m\u001b[0m\n\u001b[0m\u001b[0;32m      4\u001b[0m \u001b[1;32mprint\u001b[0m \u001b[0mL\u001b[0m\u001b[1;33m\u001b[0m\u001b[0m\n",
      "\u001b[1;31mTypeError\u001b[0m: can only assign an iterable"
     ]
    }
   ],
   "source": [
    "# 3)\n",
    "\n",
    "L[1:3] = 100\n",
    "print L"
   ]
  },
  {
   "cell_type": "markdown",
   "metadata": {},
   "source": [
    "L[1:3]와 같이 슬라이싱 형태로 값을 바꾸는 형식에는 int형은 들어갈 수 없다."
   ]
  },
  {
   "cell_type": "code",
   "execution_count": 6,
   "metadata": {
    "collapsed": false
   },
   "outputs": [
    {
     "ename": "TypeError",
     "evalue": "can only assign an iterable",
     "output_type": "error",
     "traceback": [
      "\u001b[1;31m---------------------------------------------------------------------------\u001b[0m",
      "\u001b[1;31mTypeError\u001b[0m                                 Traceback (most recent call last)",
      "\u001b[1;32m<ipython-input-6-7bf5dad3be7e>\u001b[0m in \u001b[0;36m<module>\u001b[1;34m()\u001b[0m\n\u001b[0;32m      1\u001b[0m \u001b[1;31m# 4)\u001b[0m\u001b[1;33m\u001b[0m\u001b[1;33m\u001b[0m\u001b[0m\n\u001b[0;32m      2\u001b[0m \u001b[1;33m\u001b[0m\u001b[0m\n\u001b[1;32m----> 3\u001b[1;33m \u001b[0mL\u001b[0m\u001b[1;33m[\u001b[0m\u001b[1;36m1\u001b[0m\u001b[1;33m:\u001b[0m\u001b[1;36m3\u001b[0m\u001b[1;33m]\u001b[0m \u001b[1;33m=\u001b[0m \u001b[1;33m(\u001b[0m\u001b[1;36m100\u001b[0m\u001b[1;33m)\u001b[0m\u001b[1;33m\u001b[0m\u001b[0m\n\u001b[0m\u001b[0;32m      4\u001b[0m \u001b[1;32mprint\u001b[0m \u001b[0mL\u001b[0m\u001b[1;33m\u001b[0m\u001b[0m\n",
      "\u001b[1;31mTypeError\u001b[0m: can only assign an iterable"
     ]
    }
   ],
   "source": [
    "# 4)\n",
    "\n",
    "L[1:3] = (100)\n",
    "print L"
   ]
  },
  {
   "cell_type": "markdown",
   "metadata": {},
   "source": [
    "(100)의 형태가 튜플처럼 보이지만 type을 살펴보면 int형 이므로 4번 문제와 같은 오류이다"
   ]
  },
  {
   "cell_type": "code",
   "execution_count": 7,
   "metadata": {
    "collapsed": false
   },
   "outputs": [
    {
     "name": "stdout",
     "output_type": "stream",
     "text": [
      "[1, 100, 101, 102]\n"
     ]
    }
   ],
   "source": [
    "# 5)\n",
    "\n",
    "L[1:3] = (100, 101, 102)\n",
    "print L"
   ]
  },
  {
   "cell_type": "markdown",
   "metadata": {},
   "source": [
    "L을 슬라이싱한 자리에 튜플로 된 원소 값들이 입력될 수 있다."
   ]
  },
  {
   "cell_type": "code",
   "execution_count": 8,
   "metadata": {
    "collapsed": false
   },
   "outputs": [
    {
     "name": "stdout",
     "output_type": "stream",
     "text": [
      "[1, 100, 101, 102, 102]\n"
     ]
    }
   ],
   "source": [
    "# 6)\n",
    "\n",
    "L[1:3] = [100, 101, 102]\n",
    "print L"
   ]
  },
  {
   "cell_type": "markdown",
   "metadata": {},
   "source": [
    "L[1:3]은 리스트 L의 1번째 인덱스와 2번째 인덱스가 가리키는 값을 리스트로 표현하고 있는데, 1번째 인덱스와 2번째 인덱스가 가리키는 값은 삭제되고 1번째 인덱스부터 시작하여 오른쪽에 입력된 [100, 101, 102]가 리스트 L에 삽입되었다."
   ]
  },
  {
   "cell_type": "code",
   "execution_count": 9,
   "metadata": {
    "collapsed": false
   },
   "outputs": [
    {
     "name": "stdout",
     "output_type": "stream",
     "text": [
      "[1, (100, 101, 102), 102, 102]\n"
     ]
    }
   ],
   "source": [
    "# 7)\n",
    "\n",
    "L[1:3] = [(100, 101, 102)]\n",
    "print L"
   ]
  },
  {
   "cell_type": "markdown",
   "metadata": {},
   "source": [
    "리스트의 원소로써 튜플인 (100, 101, 102)가 리스트 L의 1번째 인덱스의 값을 대체하여 들어갔고 2번째 인덱스 값은 삭제되었다."
   ]
  },
  {
   "cell_type": "code",
   "execution_count": 10,
   "metadata": {
    "collapsed": false
   },
   "outputs": [
    {
     "name": "stdout",
     "output_type": "stream",
     "text": [
      "[1, [100, 101, 102], 102]\n"
     ]
    }
   ],
   "source": [
    "# 8)\n",
    "\n",
    "L[1:3] = [[100, 101, 102]]\n",
    "print L"
   ]
  },
  {
   "cell_type": "markdown",
   "metadata": {},
   "source": [
    "리스트의 원소로써 리스트인 [100, 101, 102]가 리스트 L의 1번째 인덱스의 값을 대체하여 들어갔고 2번째 인덱스 값은 삭제되었다."
   ]
  },
  {
   "cell_type": "markdown",
   "metadata": {},
   "source": [
    "###2. 문자열 S = 'Hello World and Python'에 대해 다음 요구사항에 대한 Python 코드를 제시하시오.\n",
    "####1) 단어의 순서가 역순으로 되어진 문자열 ('Python and World Hello')을 만들고<br />2) 1)의 결과 문자열에 대해 메소드 split과 join을 이용하여 공백을 모두 없엔 문자열 'PythonandWorldHello'을 만드시오."
   ]
  },
  {
   "cell_type": "code",
   "execution_count": 1,
   "metadata": {
    "collapsed": false
   },
   "outputs": [],
   "source": [
    "S = 'Hello World and Python'"
   ]
  },
  {
   "cell_type": "code",
   "execution_count": 3,
   "metadata": {
    "collapsed": false
   },
   "outputs": [
    {
     "name": "stdout",
     "output_type": "stream",
     "text": [
      "Python and World Hello\n"
     ]
    }
   ],
   "source": [
    "R = S[16:22] + S[11:15] + S[5:12] + S[0:5]\n",
    "print R"
   ]
  },
  {
   "cell_type": "code",
   "execution_count": 4,
   "metadata": {
    "collapsed": false
   },
   "outputs": [
    {
     "name": "stdout",
     "output_type": "stream",
     "text": [
      "PythonandWorldHello\n"
     ]
    }
   ],
   "source": [
    "N = R.split()\n",
    "print ''.join(N)"
   ]
  },
  {
   "cell_type": "markdown",
   "metadata": {},
   "source": [
    "슬라이싱을 이용하여 S를 역순으로 되어진 문자열로 만든 후 변수 R에 입력하였다. 그리고 split()을 이용하여 공백으로 분리하여, 리스트 형태로 가진 결과값을 변수 N에 입력하였다. 그 후 ''을 기준으로 join()하여 문자열 S의 역순이면서 공백을 모두 제거한 문자열을 만들었다."
   ]
  },
  {
   "cell_type": "markdown",
   "metadata": {},
   "source": [
    "###3. 다음 코드를 보고 물음에 답하시오."
   ]
  },
  {
   "cell_type": "code",
   "execution_count": 14,
   "metadata": {
    "collapsed": false
   },
   "outputs": [
    {
     "name": "stdout",
     "output_type": "stream",
     "text": [
      "[1, 2, 3, 1, 2, 3, 1, 2, 3]\n",
      "[[1, 2, 3], [1, 2, 3], [1, 2, 3]]\n"
     ]
    }
   ],
   "source": [
    "a = [1, 2, 3]\n",
    "b = a * 3\n",
    "c = [a] * 3\n",
    "print b\n",
    "print c"
   ]
  },
  {
   "cell_type": "markdown",
   "metadata": {},
   "source": [
    "#### 3-1) 위 코드를 수행한 이후 다음 코드를 수행한 후 b와 c의 내용을 확인하시오."
   ]
  },
  {
   "cell_type": "code",
   "execution_count": 15,
   "metadata": {
    "collapsed": true
   },
   "outputs": [],
   "source": [
    "a[0]=0"
   ]
  },
  {
   "cell_type": "code",
   "execution_count": 16,
   "metadata": {
    "collapsed": false
   },
   "outputs": [
    {
     "name": "stdout",
     "output_type": "stream",
     "text": [
      "[1, 2, 3, 1, 2, 3, 1, 2, 3]\n",
      "[[0, 2, 3], [0, 2, 3], [0, 2, 3]]\n"
     ]
    }
   ],
   "source": [
    "print b\n",
    "print c"
   ]
  },
  {
   "cell_type": "markdown",
   "metadata": {},
   "source": [
    "####3-2) b와 c 객체의 차이는 무엇인가?"
   ]
  },
  {
   "cell_type": "markdown",
   "metadata": {},
   "source": [
    "b는 리스트 타입인 변수 a 자체를 3번 곱하는 것을 나타낸다. 따라서 원소가 1, 2, 3으로 3개인 a를 3번 반복한 값을 가지는 리스트를 가리키는 객체이다.\n",
    "c는 변수 a를 또 다른 비어있는 리스트의 한 원소로 받아 이를 3번 곱하는 것이다. 따라서 c는 하나의 원소인 [1,2,3]을 3번 반복하여 값을 가지는 리스트를 가리키는 객체이다."
   ]
  },
  {
   "cell_type": "markdown",
   "metadata": {},
   "source": [
    "###4. 다음 문자열을 ':'을 기준으로 분리하여 리스트로 만들고 각 문자열의 좌우 공백을 제거하시오 (즉, 문자열 S에서 l을 만들어라)"
   ]
  },
  {
   "cell_type": "code",
   "execution_count": 17,
   "metadata": {
    "collapsed": true
   },
   "outputs": [],
   "source": [
    "s = '  first star   :   second star   :    third star  '\n",
    "l = ['first star', 'second star', 'third star']"
   ]
  },
  {
   "cell_type": "markdown",
   "metadata": {},
   "source": [
    "####4-1) for ~ in 문을 이용한 코드를 작성하시오."
   ]
  },
  {
   "cell_type": "code",
   "execution_count": 18,
   "metadata": {
    "collapsed": false
   },
   "outputs": [
    {
     "name": "stdout",
     "output_type": "stream",
     "text": [
      "['first star', 'second star', 'third star']\n"
     ]
    }
   ],
   "source": [
    "str2 = []\n",
    "str1 = s.split(':')\n",
    "#print str1\n",
    "\n",
    "for x in str1 :\n",
    "    str2.append(x.strip())\n",
    "\n",
    "print str2"
   ]
  },
  {
   "cell_type": "markdown",
   "metadata": {
    "collapsed": true
   },
   "source": [
    "우선 문자열 s를 ':'을 기준으로 분리하기 위하여 split(':')을 이용하였다. 변수 str1에는 ':'을 기준으로 분리된 문자들이 리스트 형식으로 구분되어져 있다. for ~ in 구문으로 str1 원소들을 하나씩 선택하여 strip()을 이용하여 좌우 공백을 제거한 뒤 append()로 원소가 없는 리스트인 변수 str2에 하나씩 추가해준다."
   ]
  },
  {
   "cell_type": "markdown",
   "metadata": {},
   "source": [
    "####4-2) 리스트 내포(list comprehension)를 이용한 코드를 작성하시오."
   ]
  },
  {
   "cell_type": "code",
   "execution_count": 19,
   "metadata": {
    "collapsed": false
   },
   "outputs": [
    {
     "name": "stdout",
     "output_type": "stream",
     "text": [
      "['first star', 'second star', 'third star']\n"
     ]
    }
   ],
   "source": [
    "str2 = [x.strip() for x in str1]\n",
    "\n",
    "print str2"
   ]
  },
  {
   "cell_type": "markdown",
   "metadata": {},
   "source": [
    "리스트 내포란 리스트 안에 실제 포함되어야 할 원소가 식으로 들어가는 형식이므로, 4-1문제에서 사용한 식을 변수 str2의 리스트 내부에 적용시켜 주었다."
   ]
  },
  {
   "cell_type": "markdown",
   "metadata": {},
   "source": [
    "###5. 다음과 같이 0보다 큰 정수 리스트 변수 list를 인자로 받는 함수 addall(list)와 addallodd(list)를 for ~ in 리터널과 리스트 내포 방식으로 각각 제시하시오.\n",
    "####[참고]: 리스트 내포 방식으로 addall() 및 addallodd()함수를 만들 때엔 리스트 내포에 의해 생성된 리스트 결과에 대해 내장 함수를 사용하는 방식을 고려해보시오 (주의: 리스트 내포 방식의 addall() 및 addallodd() 함수의 몸체는 단 1줄로 작성되어야 한다.)"
   ]
  },
  {
   "cell_type": "markdown",
   "metadata": {},
   "source": [
    "####5-1) addall(list) 함수 (리스트 내의 모든 정수를 더하는 함수로서 해답으로는 for ~ in 리터럴과 리스트 내포 방식으로 각각 제시하시오.)"
   ]
  },
  {
   "cell_type": "code",
   "execution_count": 5,
   "metadata": {
    "collapsed": false
   },
   "outputs": [],
   "source": [
    "def addall(lists) :\n",
    "    sums = 0\n",
    "    for x in lists :\n",
    "        sums += x\n",
    "    return sums"
   ]
  },
  {
   "cell_type": "code",
   "execution_count": 6,
   "metadata": {
    "collapsed": false
   },
   "outputs": [
    {
     "name": "stdout",
     "output_type": "stream",
     "text": [
      "6\n"
     ]
    }
   ],
   "source": [
    "print addall([1,2,3])"
   ]
  },
  {
   "cell_type": "code",
   "execution_count": 11,
   "metadata": {
    "collapsed": true
   },
   "outputs": [],
   "source": [
    "def addall(lists):\n",
    "    return sum(x for x in lists)"
   ]
  },
  {
   "cell_type": "code",
   "execution_count": 12,
   "metadata": {
    "collapsed": false
   },
   "outputs": [
    {
     "name": "stdout",
     "output_type": "stream",
     "text": [
      "6\n"
     ]
    }
   ],
   "source": [
    "print addall([1,2,3])"
   ]
  },
  {
   "cell_type": "markdown",
   "metadata": {},
   "source": [
    "for~in 구문에서는 리스트의 각 원소를 sum에 더하여 최종 sum 값을 리턴시켜 주었고, 리스트 내포 방식에서는 sum()이라는 내장함수 안에 리스트 내포 방식을 사용하여 addall을 정의하였다."
   ]
  },
  {
   "cell_type": "markdown",
   "metadata": {},
   "source": [
    "####5-2) addallodd(list) 함수 (리스트내의 모든 홀수를 더하는 함수로서 해답으로는 for ~ in 리터럴과 리스트 내포 방식으로 각각 제시하시오.)"
   ]
  },
  {
   "cell_type": "code",
   "execution_count": 56,
   "metadata": {
    "collapsed": true
   },
   "outputs": [],
   "source": [
    "def addallodd(list) :\n",
    "    sum = 0\n",
    "    for x in list :\n",
    "        if x % 2 == 1 :\n",
    "            sum = sum + x\n",
    "    return sum"
   ]
  },
  {
   "cell_type": "code",
   "execution_count": 57,
   "metadata": {
    "collapsed": false
   },
   "outputs": [
    {
     "name": "stdout",
     "output_type": "stream",
     "text": [
      "4\n"
     ]
    }
   ],
   "source": [
    "print addallodd([1,2,3])"
   ]
  },
  {
   "cell_type": "code",
   "execution_count": 58,
   "metadata": {
    "collapsed": true
   },
   "outputs": [],
   "source": [
    "def addall(list):\n",
    "    return sum(x for x in list if x%2 == 1)"
   ]
  },
  {
   "cell_type": "code",
   "execution_count": 59,
   "metadata": {
    "collapsed": false
   },
   "outputs": [
    {
     "name": "stdout",
     "output_type": "stream",
     "text": [
      "4\n"
     ]
    }
   ],
   "source": [
    "print addallodd([1,2,3])"
   ]
  },
  {
   "cell_type": "markdown",
   "metadata": {},
   "source": [
    "5-1의 소스에서 홀수만을 취하는 조건을 설정하여 홀수들만 입력받게 하였다."
   ]
  },
  {
   "cell_type": "markdown",
   "metadata": {},
   "source": [
    "###6. 다음 코드를 보고 물음에 답하시오."
   ]
  },
  {
   "cell_type": "code",
   "execution_count": 32,
   "metadata": {
    "collapsed": false
   },
   "outputs": [
    {
     "name": "stdout",
     "output_type": "stream",
     "text": [
      "{'high': [4, 5, 6], 'low': [1, 2, 3]}\n",
      "{'high': [4, 5, 6], 'low': [1, 2, 3]}\n",
      "{'high': [4, 5, 6], 'low': [1, 2, 3]}\n",
      "\n",
      "{'high': [4, 500, 6], 'low': [10, 20, 30]}\n",
      "{'high': [4, 500, 6], 'low': [10, 20, 30]}\n",
      "{'high': [4, 500, 6], 'low': [1, 2, 3]}\n"
     ]
    }
   ],
   "source": [
    "L1 = [1, 2, 3]\n",
    "L2 = [4, 5, 6]\n",
    "d = {'low':L1, 'high':L2}\n",
    "e = d\n",
    "f = d.copy()\n",
    "print d\n",
    "print e\n",
    "print f\n",
    "print\n",
    "d['low'] = [10, 20, 30]\n",
    "d['high'][1] = 500\n",
    "print d\n",
    "print e\n",
    "print f"
   ]
  },
  {
   "cell_type": "markdown",
   "metadata": {},
   "source": [
    "####6-1) 위 코드의 수행 결과 d와 e는 항상 같은 결과를 출력한다. 그 이유는 무엇인가?"
   ]
  },
  {
   "cell_type": "markdown",
   "metadata": {},
   "source": [
    "d가 사전 객체를 가리키고 있는데 e=d로 선언함으로써 d가 가리키는 객체를 e 또한 가리키고 있기 때문에 d와 e의 결과 값은 항상 같다."
   ]
  },
  {
   "cell_type": "markdown",
   "metadata": {},
   "source": [
    "####6-2) 위 코드의 수행 결과 마지막 f의 내용은 다음과 같다. <br />{'high': [4, 500, 6], 'low': [1, 2, 3]}<br /><br />이 때 'high' 키의 값 내용 중 500이 출력된 이유와 'low' 키의 값 내용 중 [1, 2, 3]이 출력된 이유를 설명하시오<br />([hint]: shallow copy 관점에서 설명하시오.)"
   ]
  },
  {
   "cell_type": "markdown",
   "metadata": {},
   "source": [
    "f는 d를 복사한 값을 가리키고 있는데 copy()의 방식은 shallow copy이다. 때문에, d['low']를 했을 때 d의 low는 [10,20,30]을 가리키는 새로운 객체를 가리키지만 f는 d가 원래 가리키고 있던 [1,2,3]을 가리킨다. d['high'][1)일 때는 high가 가리키는 1번째 인덱스 값을 바꾸는 것이므로 이는 f의 high가 가리키는 1번째 인덱스 값에도 적용이 된다. 따라서 high의 1번째 인덱스 값이 변화되었다."
   ]
  },
  {
   "cell_type": "markdown",
   "metadata": {},
   "source": [
    "###7. 사전 d = {'one':1, 'two':2, 'three':3, 'four':4, 'five':5}가 주어졌을 때 다음 요구사항에 맞는 코드를 제시하시오\n",
    "####[참고]: d.keys(), d.values()를 통해 리스트를 얻어낸 후 리스트가 지니고 있는 sort(cmp=None, key=None, reverse=False)함수를 활용하시오."
   ]
  },
  {
   "cell_type": "code",
   "execution_count": 3,
   "metadata": {
    "collapsed": true
   },
   "outputs": [],
   "source": [
    "d = {'one':1, 'two':2, 'three':3, 'four':4, 'five':5}"
   ]
  },
  {
   "cell_type": "markdown",
   "metadata": {},
   "source": [
    "####7-1) 키의 알파벳 오름차순 순서대로 튜플 (키, 값)을 차례대로 출력하시오."
   ]
  },
  {
   "cell_type": "code",
   "execution_count": 4,
   "metadata": {
    "collapsed": false
   },
   "outputs": [
    {
     "name": "stdout",
     "output_type": "stream",
     "text": [
      "[('five', 5), ('four', 4), ('one', 1), ('three', 3), ('two', 2)]\n"
     ]
    }
   ],
   "source": [
    "items_1 = d.items()\n",
    "items_1.sort()\n",
    "\n",
    "print items_1"
   ]
  },
  {
   "cell_type": "markdown",
   "metadata": {},
   "source": [
    "d의 key값과 value값들을 튜플로 묶어 리스트의 형식으로 불렀다. 이를 sort()를 이용하면 d의 key값에 해당하는 문자들을 기준으로 오름차순 형식으로 정렬된다."
   ]
  },
  {
   "cell_type": "markdown",
   "metadata": {},
   "source": [
    "####7-2) 키의 알파벳 내림차순 순서대로 튜플 (키, 값)을 차례대로 출력하시오."
   ]
  },
  {
   "cell_type": "code",
   "execution_count": 5,
   "metadata": {
    "collapsed": false
   },
   "outputs": [
    {
     "name": "stdout",
     "output_type": "stream",
     "text": [
      "[('two', 2), ('three', 3), ('one', 1), ('four', 4), ('five', 5)]\n"
     ]
    }
   ],
   "source": [
    "items_2 = d.items()\n",
    "items_2.sort(reverse=True)\n",
    "\n",
    "print items_2"
   ]
  },
  {
   "cell_type": "markdown",
   "metadata": {},
   "source": [
    "7-1번 문제와 같은 방식이지만 sort()함수의 reverse=True를 추가해주어 역순(알파벳 내림차순)으로 출력시켰다."
   ]
  },
  {
   "cell_type": "markdown",
   "metadata": {},
   "source": [
    "####7-3) 값의 오름차순 순서대로 튜플 (키, 값)을 차례대로 출력하시오."
   ]
  },
  {
   "cell_type": "code",
   "execution_count": 6,
   "metadata": {
    "collapsed": true
   },
   "outputs": [],
   "source": [
    "def cmp_tuple(a1, a2) :\n",
    "    return cmp(a1[1], a2[1])"
   ]
  },
  {
   "cell_type": "code",
   "execution_count": 8,
   "metadata": {
    "collapsed": false
   },
   "outputs": [
    {
     "name": "stdout",
     "output_type": "stream",
     "text": [
      "[('one', 1), ('two', 2), ('three', 3), ('four', 4), ('five', 5)]\n"
     ]
    }
   ],
   "source": [
    "items_3 = d.items()\n",
    "items_3.sort(cmp_tuple)\n",
    "\n",
    "print items_3"
   ]
  },
  {
   "cell_type": "markdown",
   "metadata": {},
   "source": [
    "cmp_tuple()이라는 함수를 정의하여 튜플의 1번째 인덱스의 값을 비교하게 하였다. 이를 sort()메소드의 cmp에 적용시켜 값(숫자)의 오름차순 순서대로 튜플을 출력시켰다."
   ]
  },
  {
   "cell_type": "markdown",
   "metadata": {},
   "source": [
    "####7-4) 값의 내림차순 순서대로 튜플 (키, 값)을 차례대로 출력하시오."
   ]
  },
  {
   "cell_type": "code",
   "execution_count": 10,
   "metadata": {
    "collapsed": false
   },
   "outputs": [
    {
     "name": "stdout",
     "output_type": "stream",
     "text": [
      "[('five', 5), ('four', 4), ('three', 3), ('two', 2), ('one', 1)]\n"
     ]
    }
   ],
   "source": [
    "items_4 = d.items()\n",
    "items_4.sort(cmp=cmp_tuple, reverse=True)\n",
    "\n",
    "print items_4"
   ]
  },
  {
   "cell_type": "markdown",
   "metadata": {},
   "source": [
    "7-2번 문제와 같은 방식이지만 sort()함수의 reverse=True를 추가해주어 역순(숫자 내림차순)으로 출력시켰다."
   ]
  },
  {
   "cell_type": "markdown",
   "metadata": {},
   "source": [
    "###8. <br />소수를 크기 순으로 나열하면 2, 3, 5, 7, 11, 13, ... 과 같이 됩니다. <br />이 때 10,001번째의 소수를 구하세요."
   ]
  },
  {
   "cell_type": "code",
   "execution_count": 1,
   "metadata": {
    "collapsed": false
   },
   "outputs": [
    {
     "name": "stdout",
     "output_type": "stream",
     "text": [
      "104743\n"
     ]
    }
   ],
   "source": [
    "num = 2\n",
    "x = 1\n",
    "check = 0\n",
    "\n",
    "while True :\n",
    "    credit = 0\n",
    "    for x in range(1, num+1) :\n",
    "        if(num%x == 0) :\n",
    "            credit = credit + 1\n",
    "    if(credit == 2) :\n",
    "        check = check + 1\n",
    "        #print num,\n",
    "    if(check == 10001) :\n",
    "        print num\n",
    "        break\n",
    "    num = num + 1"
   ]
  },
  {
   "cell_type": "markdown",
   "metadata": {},
   "source": [
    "1부터 시작하여 credit이 2가 되면 소수로 판별하여 소수의 갯수를 판별하는 check 변수 값을 증가시켰다. 때문에 check의 값이 10001이 되면 해당 수를 출력시키고 break를 하여 while구문을 빠져나오게 하였다."
   ]
  },
  {
   "cell_type": "markdown",
   "metadata": {},
   "source": [
    "### 9. 다음은 연속된 1000자리 숫자입니다 (읽기 좋게 50자리씩 잘라놓음).\n",
    "<br />\n",
    "73167176531330624919225119674426574742355349194934 <br />\n",
    "96983520312774506326239578318016984801869478851843 <br />\n",
    "85861560789112949495459501737958331952853208805511 <br />\n",
    "12540698747158523863050715693290963295227443043557 <br />\n",
    "66896648950445244523161731856403098711121722383113 <br />\n",
    "62229893423380308135336276614282806444486645238749 <br />\n",
    "30358907296290491560440772390713810515859307960866 <br />\n",
    "70172427121883998797908792274921901699720888093776 <br />\n",
    "65727333001053367881220235421809751254540594752243 <br />\n",
    "52584907711670556013604839586446706324415722155397<br />\n",
    "53697817977846174064955149290862569321978468622482 <br />\n",
    "83972241375657056057490261407972968652414535100474 <br />\n",
    "82166370484403199890008895243450658541227588666881 <br />\n",
    "16427171479924442928230863465674813919123162824586 <br />\n",
    "17866458359124566529476545682848912883142607690042 <br />\n",
    "24219022671055626321111109370544217506941658960408 <br />\n",
    "07198403850962455444362981230987879927244284909188<br />\n",
    "84580156166097919133875499200524063689912560717606 <br />\n",
    "05886116467109405077541002256983155200055935729725<br />\n",
    "71636269561882670428252483600823257530420752963450<br /><br />\n",
    "\n",
    "###여기서 붉게 표시된 71112의 경우 7, 1, 1, 1, 2 각 숫자를 모두 곱하면 14가 됩니다.<br />이런 식으로 맨 처음 (7 × 3 × 1 × 6 × 7 = 882) 부터 맨 끝 (6 × 3 × 4 × 5 × 0 = 0) 까지 5자리 숫자들의 곱을 구할 수 있습니다. 이렇게 구할 수 있는 5자리 숫자의 곱 중에서 가장 큰 값은 얼마입니까?"
   ]
  },
  {
   "cell_type": "code",
   "execution_count": 2,
   "metadata": {
    "collapsed": true
   },
   "outputs": [],
   "source": [
    "c_num = '73167176531330624919225119674426574742355349194934' +\\\n",
    "'96983520312774506326239578318016984801869478851843' +\\\n",
    "'85861560789112949495459501737958331952853208805511' +\\\n",
    "'12540698747158523863050715693290963295227443043557' +\\\n",
    "'66896648950445244523161731856403098711121722383113' +\\\n",
    "'62229893423380308135336276614282806444486645238749' +\\\n",
    "'30358907296290491560440772390713810515859307960866' +\\\n",
    "'70172427121883998797908792274921901699720888093776' +\\\n",
    "'65727333001053367881220235421809751254540594752243' +\\\n",
    "'52584907711670556013604839586446706324415722155397' +\\\n",
    "'53697817977846174064955149290862569321978468622482' +\\\n",
    "'83972241375657056057490261407972968652414535100474' +\\\n",
    "'82166370484403199890008895243450658541227588666881' +\\\n",
    "'16427171479924442928230863465674813919123162824586' +\\\n",
    "'17866458359124566529476545682848912883142607690042' +\\\n",
    "'24219022671055626321111109370544217506941658960408' +\\\n",
    "'07198403850962455444362981230987879927244284909188' +\\\n",
    "'84580156166097919133875499200524063689912560717606' +\\\n",
    "'05886116467109405077541002256983155200055935729725' +\\\n",
    "'71636269561882670428252483600823257530420752963450'"
   ]
  },
  {
   "cell_type": "code",
   "execution_count": 3,
   "metadata": {
    "collapsed": false
   },
   "outputs": [
    {
     "name": "stdout",
     "output_type": "stream",
     "text": [
      "40824\n"
     ]
    }
   ],
   "source": [
    "k = 0\n",
    "loop = 1\n",
    "multi = 1\n",
    "max_multi = 1\n",
    "\n",
    "while loop < 996 :\n",
    "    for i in range(0,5) :\n",
    "        multi = multi * int(c_num[k+i])\n",
    "        \n",
    "    k = k + 1\n",
    "    loop += 1\n",
    "    \n",
    "    if multi > max_multi :\n",
    "        max_multi = multi\n",
    "        multi = 1\n",
    "    else :\n",
    "        multi = 1\n",
    "    \n",
    "print max_multi"
   ]
  },
  {
   "cell_type": "markdown",
   "metadata": {},
   "source": [
    "연속된 문장을 문자열 형태로 변수에 입력하였다. 처음부터 4개씩 끊어 각각의 곱들을 곱하여 가장 큰 값을 max_multi에 입력시켜주었다."
   ]
  },
  {
   "cell_type": "markdown",
   "metadata": {},
   "source": [
    "###10. 세 자연수 a, b, c 가 피타고라스 정리 a^2 + b^2 = c^2 를 만족하면 피타고라스 수라고 부릅니다 (여기서 a < b < c ). <br />예를 들면 3^2 + 4^2 = 9 + 16 = 25 = 5^2이므로 3, 4, 5는 피타고라스 수입니다.<br />a + b + c = 1000 인 피타고라스 수 a, b, c는 한 가지 뿐입니다. 이 때, a × b × c 는 얼마입니까?"
   ]
  },
  {
   "cell_type": "code",
   "execution_count": 4,
   "metadata": {
    "collapsed": false
   },
   "outputs": [
    {
     "name": "stdout",
     "output_type": "stream",
     "text": [
      "200 375 425\n",
      "31875000\n"
     ]
    }
   ],
   "source": [
    "import math\n",
    "\n",
    "a = 1; b = 1; c = 1;\n",
    "\n",
    "for a in range(1, 1000) :\n",
    "    for b in range(1, 1000) :\n",
    "        for c in range(1, 1000) :\n",
    "            if (a<b and pow(c,2) == pow(a,2) + pow(b,2) and (a + b + c == 1000)) :\n",
    "                print a, b, c\n",
    "                print a*b*c\n",
    "                break"
   ]
  },
  {
   "cell_type": "markdown",
   "metadata": {},
   "source": [
    "삼각형의 세 변수를 뜻하는 a, b, c 모두 1000이하의 자연수를 범위로 하여 3중 for를 이용하여 피타고라스의 수를 만족하며, a+b+c=1000를 만족하는 값을 찾아내었다."
   ]
  },
  {
   "cell_type": "markdown",
   "metadata": {},
   "source": [
    "###[Incremental Project]<br /> 이전 Assignment 2의 마지막 문제는 웹 URL로 지정된 웹페이지를 문자열로 가져와 모든 HTML 태그 및 CSS와 Javascript를 제외한 순수 텍스트를 얻어내고 그 안에 존재하는 단어를 추출하고 단어들의 총 개수를 출력하는 프로그램을 작성하는 것이었다. 이번에는 그 마지막 숙제를 그대로 확장하여 웹 URL로 지정된 웹페이지 내 순수 텍스트 안에 존재하는 각 단어들에 대해 다음 요구사항 대로 출력하는 프로그램을 작성하시오."
   ]
  },
  {
   "cell_type": "markdown",
   "metadata": {},
   "source": [
    "요구사항 1. 순수 텍스트 안에 존재하는 단어들에 대해 string 모듈을 활용하여 모든 punctuation (구두문자)를 완벽히 제거하시오.<br />\n",
    "예: ['world!', ':', '+hello+', '~python$$$', '=', 'world'] ---> ['world', 'hello', 'python', 'world']<br />\n",
    "모든 punctuation을 확인하는 방법은 아래와 같다.<br />\n",
    "import string<br />\n",
    "print string.punctuation<br />\n",
    "요구사항 2. 만약 punctuation (구두문자)를 제거한 이후 공백으로 판명되는 단어들은 해당 단어 리스트에서 제거하시오.<br />\n",
    "예: ['컴퓨터공학부!', '---?', '%지향~', '...'] ---> ['컴퓨터공학부', '지향']<br />\n",
    "요구사항 3. 각 단어들의 출현빈도를 사전형태로 저장하여 출력하시오.<br />\n",
    "예: ['world', 'hello', 'python', 'world', '컴퓨터공학부', '지향'] ---> {'world': 2, 'hello': 1, 'python': 1, '컴퓨터공학부': 1, '지향': 1}<br />\n",
    "요구사항 4. 다음 3개의 사이트에 대한 결과를 출력하시오.<br />\n",
    "http://www.naver.com<br />\n",
    "http://www.daum.net<br />\n",
    "http://www.nytimes.com<br />"
   ]
  },
  {
   "cell_type": "code",
   "execution_count": 14,
   "metadata": {
    "collapsed": false
   },
   "outputs": [],
   "source": [
    "import urllib2\n",
    "\n",
    "source = urllib2.urlopen(\"http://cse.kut.ac.kr/\").read()\n",
    "\n",
    "#print source # 추후 숙제 답안 제출 때엔 왼쪽 라인은 주석처리할 것"
   ]
  },
  {
   "cell_type": "code",
   "execution_count": 16,
   "metadata": {
    "collapsed": false
   },
   "outputs": [
    {
     "name": "stdout",
     "output_type": "stream",
     "text": [
      "\n",
      "\n",
      "\n",
      "\n",
      "\n",
      "\n",
      "\n",
      "\n",
      "컴퓨터공학부\n",
      "\n",
      "\n",
      "\n",
      "\n",
      "\n",
      "\n",
      "\n",
      "\n",
      "\n",
      "\n",
      "\n",
      "\n",
      "\n",
      "\n",
      "\n",
      "\n",
      "\n",
      "\n",
      "\n",
      "\n",
      "\n",
      "\n",
      "\n",
      "\n",
      "\n",
      "\n",
      "\n",
      "\n",
      "\n",
      "//\n",
      "\n",
      "\n",
      "\n",
      "\n",
      "\n",
      "\n",
      "\t\n",
      "\tSchoolfun - Study and Fun\n",
      "\t\n",
      "\t\n",
      "\t\n",
      "\t\t\n",
      "\t\n",
      "\t\n",
      "\t\t\n",
      "\t\t\t\n",
      "\n",
      "\n",
      "\n",
      "\t\n",
      "\t\t\n",
      "\t\t\t\n",
      "\t\t\t\t\n",
      "\t\t\t\t\n",
      "\t\t\t\t\n",
      "\t\t\t\n",
      "\t\t\t\n",
      "\t\t\t\n",
      "\t\t\t\t\n",
      "\t\t\t\t\t\t\t\t\t\t\n",
      "\t\t\t\t\n",
      "\t\t\t\t-->\n",
      "\t\t\t\t<ul id=\"nav-header\" style=\"\">\t\t\t\t\t\n",
      "\t\t\t\t\t<li><div class=\"xe-widget-wrapper \" style=\"\"><div style=\"*zoom:1;padding:0px 0px 0px 0px !important;\"><form id=\"fo_login_widget\" action=\"https://cse.koreatech.ac.kr/index.php?act=procMemberLogin\" method=\"post\"  class=\"account\"><input type=\"hidden\" name=\"ruleset\" value=\"@login\" />\n",
      "\t<a href=\"#acField\">로그인\n",
      "\t<fieldset id=\"acField\">\n",
      "\t\t<h2>로그인</h2>\n",
      "\t\t<input type=\"hidden\" name=\"act\" value=\"procMemberLogin\" />\n",
      "\t\t<input type=\"hidden\" name=\"success_return_url\" value=\"/\" />\n",
      "\t\t<input type=\"hidden\" name=\"xe_validator_id\" value=\"widgets/login_info/skins/default/login_form/1\" />\n",
      "\t\t\t\t<div class=\"idpw\">\n",
      "\t\t\t<label for=\"user_id\">아이디</label>\t\t\t<input name=\"user_id\" id=\"user_id\" type=\"text\" required />\t\t\t\t\t\t\t\t\t<label for=\"user_pw\">비밀번호</label>\n",
      "\t\t\t<input name=\"password\" id=\"user_pw\" type=\"password\" required />\n",
      "\t\t\t<p class=\"keep\">\n",
      "\t\t\t\t<input type=\"checkbox\" name=\"keep_signed\" id=\"keep_signed\" value=\"Y\" />\n",
      "\t\t\t\t<label for=\"keep_signed\">로그인 유지</label>\n",
      "\t\t\t</p>\n",
      "\t\t\t<p class=\"warning\">브라우저를 닫더라도 로그인이 계속 유지될 수 있습니다. 로그인 유지 기능을 사용할 경우 다음 접속부터는 로그인할 필요가 없습니다. 단, 게임방, 학교 등 공공장소에서 이용 시 개인정보가 유출될 수 있으니 꼭 로그아웃을 해주세요.</p>\n",
      "\t\t\n",
      "\t\t<input type=\"submit\" value=\"로그인\" />\n",
      "\t\t<ul class=\"help\">\n",
      "\t\t\t<li><a href=\"https://cse.koreatech.ac.kr/index.php?mid=home_2015&amp;act=dispMemberSignUpForm\">회원가입</li>\n",
      "\t\t\t<li><a href=\"https://cse.koreatech.ac.kr/index.php?mid=home_2015&amp;act=dispMemberFindAccount\">ID/PW 찾기</li>\n",
      "\t\t</ul>\n",
      "\t</fieldset>\n",
      "\n",
      "</li>\n",
      "\t\t\t\t</ul>\n",
      "\t\t\t\t<h3 id=\"slogan\" style=\"font-family:'Nanum Gothic', serif\">IT 교육의 글로벌 메카!<br/>한국기술교육대학교 컴퓨터공학부</h3>\n",
      "\t\t\t</aside>\n",
      "\t\t\n",
      "\t\n",
      "\t<nav id=\"nav\" class=\"clearfix\">\n",
      "\t\t<a href=\"#\" class=\"close-menu-big\">Close\n",
      "\t\t<div id=\"nav-container\">\n",
      "\t\t\t<a href=\"#\" class=\"close-menu\">\n",
      "\t\t\t\t\n",
      "\t\t\t\t\n",
      "\t\t\t\t\n",
      "\t\t\t\n",
      "\t\t\t<ul id=\"nav-main\">\n",
      "\t\t\t\t\t\t\t\t<li>\n",
      "\t\t\t\t\t\t\t\t\t\t<a href=\"https://cse.koreatech.ac.kr/intro_home_2015\" >소개\n",
      "\t\t\t\t\t\t\t\t\t\t\n",
      "\t\t\t\t</li>\n",
      "\t\t\t\t\t\t\t\t\t\t\t\t\t<li>\n",
      "\t\t\t\t\t\t\t\t\t\t<a href=\"https://cse.koreatech.ac.kr/page_KbyV58\" >구성원소개\n",
      "\t\t\t\t\t\t\t\t\t\t\n",
      "\t\t\t\t</li>\n",
      "\t\t\t\t\t\t\t\t\t\t\t\t\t<li>\n",
      "\t\t\t\t\t\t\t\t\t\t<a href=\"https://cse.koreatech.ac.kr/page_izgw21\" >학사안내\n",
      "\t\t\t\t\t\t\t\t\t\t\n",
      "\t\t\t\t</li>\n",
      "\t\t\t\t\t\t\t\t\t\t\t\t\t<li>\n",
      "\t\t\t\t\t\t\t\t\t\t<a href=\"#\">입학\n",
      "\t\t\t\t\t<ul>\n",
      "                        <li><a href=\"http://www.koreatech.ac.kr/admission.do\" target=\"_blank\">학부</li>\n",
      "                        <li><a href=\"http://www.koreatech.ac.kr/grd/sub02_01_01_01.do\" target=\"_blank\">대학원</li>\n",
      "                    </ul>\n",
      "\t\t\t\t\t\t\t\t\t\t\n",
      "\t\t\t\t</li>\n",
      "\t\t\t\t\t\t\t\t\t\t\t\t\t<li>\n",
      "\t\t\t\t\t\t\t\t\t\t<a href=\"https://cse.koreatech.ac.kr/notice\" >학부광장\n",
      "\t\t\t\t\t\t\t\t\t\t\n",
      "\t\t\t\t</li>\n",
      "\t\t\t\t\t\t\t\t\t\t\t\t\t<li>\n",
      "\t\t\t\t\t\t\t\t\t\t<a href=\"https://cse.koreatech.ac.kr/pds\" >자료실\n",
      "\t\t\t\t\t\t\t\t\t\t\n",
      "\t\t\t\t</li>\n",
      "\t\t\t\t\t\t\t\t\t\t\t\t\t<li>\n",
      "\t\t\t\t\t\t\t\t\t\t<a href=\"https://cse.koreatech.ac.kr/page_birW64\" >대학원\n",
      "\t\t\t\t\t\t\t\t\t\t\n",
      "\t\t\t\t</li>\n",
      "\t\t\t\t\t\t\t\t\t\t\t\t\t<li>\n",
      "\t\t\t\t\t\t\t\t\t\t<a href=\"https://cse.koreatech.ac.kr/page_vBGH80\" >공학교육인증\n",
      "\t\t\t\t\t\t\t\t\t\t\n",
      "\t\t\t\t</li>\n",
      "\t\t\t\t\t\t\t\t\t\t\t\t\t<li>\n",
      "\t\t\t\t\t\t\t\t\t\t<a href=\"\" >\n",
      "\t\t\t\t\t\t\t\t\t\t\n",
      "\t\t\t\t</li>\n",
      "\t\t\t\t\t\t\t\t\t\t\t\t\t\n",
      "\t\t\t</ul>\n",
      "                        \t\t\t<a href=\"https://cse.koreatech.ac.kr/index.php?mid=home_2015&amp;act=dispMemberSignUpForm\" id=\"button-registration\">Registration\n",
      "                        \t\t\n",
      "\t</nav>\n",
      "</header>      \n",
      "\t        \t        \n",
      "<!-- main image tab start -->\n",
      "<div id=\"slideshow-tabs\" class=\"ui-tabs ui-widget ui-widget-content ui-corner-all\">\n",
      "    <div id=\"panel-tabs\" class=\"clearfix\">\n",
      "        <ul class=\"nav-tabs-slideshow ui-tabs-nav ui-helper-reset ui-helper-clearfix ui-widget-header ui-corner-all\" role=\"tablist\">\n",
      "            <li class=\"ui-state-default ui-corner-top ui-tabs-active ui-state-active\" role=\"tab\" tabindex=\"0\" aria-controls=\"panel-1\" aria-labelledby=\"ui-id-1\" aria-selected=\"true\"><a href=\"#panel-1\" class=\"ui-tabs-anchor\" role=\"presentation\" tabindex=\"-1\" id=\"ui-id-1\"><strong>컴퓨터공학부</strong><br>\n",
      "                <span>School of Computer Science and Engineering\n",
      "                \n",
      "            </li>\n",
      "            <li class=\"ui-state-default ui-corner-top\" role=\"tab\" tabindex=\"-1\" aria-controls=\"panel-2\" aria-labelledby=\"ui-id-2\" aria-selected=\"false\">\n",
      "                <a href=\"#panel-2\" class=\"ui-tabs-anchor\" role=\"presentation\" tabindex=\"-1\" id=\"ui-id-2\"><strong>IT 융합소프트웨어 인력양성사업</strong><br>\n",
      "                <span>CK (Creative Korea)-I\n",
      "                \n",
      "            </li>\n",
      "            <li class=\"ui-state-default ui-corner-top\" role=\"tab\" tabindex=\"-1\" aria-controls=\"panel-3\" aria-labelledby=\"ui-id-3\" aria-selected=\"false\">\n",
      "                <a href=\"#panel-3\" class=\"ui-tabs-anchor\" role=\"presentation\" tabindex=\"-1\" id=\"ui-id-3\"><strong>교육역량강화사업 온라인 컨텐츠</strong><br>\n",
      "                <span>Online Contents for Education Capability Empowerment\n",
      "                \n",
      "            </li>\n",
      "        </ul>\n",
      "    \n",
      "\t<div class=\"ui-tabs-panel ui-widget-content ui-corner-bottom\" id=\"panel-1\" style=\"background-image: url(layouts/cse/images/kut1.png); display: block; background-position: 50% 0px; background-repeat: no-repeat no-repeat;\" aria-labelledby=\"ui-id-1\" role=\"tabpanel\" aria-expanded=\"true\" aria-hidden=\"false\">\n",
      "        <div class=\"tabs-blur no-blur\" style=\"background:url(http://placehold.it/2000x620) no-repeat 50% 0\">\n",
      "        \n",
      "        <div class=\"tabs-container\">\n",
      "            <article>\n",
      "                <h2>IT 교육의 글로벌 메카</h2>\n",
      "                <p>한국기술교육대학교 컴퓨터공학부 홈페이지에 오신 것을<br/>환영합니다!</p>\n",
      "            </article>\n",
      "        \n",
      "    \n",
      "    <div class=\"ui-tabs-panel ui-widget-content ui-corner-bottom\" id=\"panel-2\" style=\"background-image: url(layouts/cse/images/kut2.png); display: none; background-position: 50% 0px; background-repeat: no-repeat no-repeat;\" aria-labelledby=\"ui-id-2\" role=\"tabpanel\" aria-expanded=\"false\" aria-hidden=\"true\">\n",
      "        <div class=\"tabs-blur no-blur\" style=\"background:url(http://placehold.it/2000x620) no-repeat 50% 0\">\n",
      "        \n",
      "\t<div class=\"tabs-container\">\n",
      "            <article>\n",
      "                <h2>IT 융합소프트웨어 인력양성사업</h2>\n",
      "                <p>글로벌 수준의 IT전문인력 양성<br/>\n",
      "IT융합분야에 대한 국제적인 경쟁력 고취</p>\n",
      "                <a href=\"http://itcsw.koreatech.ac.kr\" target=\"_blank\" class=\"button-more-slide\">바로가기\n",
      "            </article>\n",
      "        \n",
      "    \n",
      "    <div class=\"ui-tabs-panel ui-widget-content ui-corner-bottom\" id=\"panel-3\" style=\"background-image: url(layouts/cse/images/kut3.png); display: none; background-position: 50% 0px; background-repeat: no-repeat no-repeat;\" aria-labelledby=\"ui-id-3\" role=\"tabpanel\" aria-expanded=\"false\" aria-hidden=\"true\">\n",
      "        <div class=\"tabs-blur no-blur\" style=\"background:url(http://placehold.it/2000x620) no-repeat 50% 0\">\n",
      "        \n",
      "\t<div class=\"tabs-container\">\n",
      "            <article>\n",
      "                <h2>교육역량강화사업 컨텐츠</h2>\n",
      "                <p>교육역량강화사업 온라인 컨텐츠를 소개합니다.</p>\n",
      "                <a href=\"http://218.150.181.55\" target=\"_blank\" class=\"button-more-slide\">바로가기\n",
      "            </article>\n",
      "        \n",
      "    \n",
      "\n",
      "<!-- main image tab end -->\n",
      "\n",
      "    <div id=\"content\" class=\"clearfix\">\t\t\n",
      "    <div class=\"xe-widget-wrapper \" style=\"float: left; width: 375px; border: 0px solid rgb(0, 0, 0); margin: 0px; background-image: none; background-position: 0% 0%; background-repeat: repeat repeat;\"><div style=\"*zoom:1;padding:0px 0px 0px 0px !important;\"><div class=\"sidebar-homepage\">\n",
      "<aside class=\"widget-container\">\n",
      "\t<div class=\"widget-wrapper clearfix\">\n",
      "                <h3 class=\"widget-title\"><a href=\"https://cse.koreatech.ac.kr/notice\">공지사항</h3>\n",
      "    <ul class=\"widgetA menu news-sidebar\">\n",
      "                    <li class=\"clearfix\" >\n",
      "                                                                                        <h4><a href=\"https://cse.koreatech.ac.kr/74452\" class=\"title\"><span style=\"font-weight:bold\">[특성화] 지식재산권 출원 신청서 접수 공고</h4>\n",
      "                                                                                                                            <span class=\"date-news\">2015-10-15 15:53 15:53\n",
      "                                    </li>\n",
      "                <li class=\"clearfix\" >\n",
      "                                                                                        <h4><a href=\"https://cse.koreatech.ac.kr/74450\" class=\"title\">[특성화] IT사업단 마일리지 장학금 안내</h4>\n",
      "                                                                                                                            <span class=\"date-news\">2015-10-14 13:31 13:31\n",
      "                                    </li>\n",
      "                <li class=\"clearfix\" >\n",
      "                                                                                        <h4><a href=\"https://cse.koreatech.ac.kr/74437\" class=\"title\">[특성화] 사물인터넷 국제전시회(IoT Korea Exhibition...</h4>\n",
      "                                                                                                                            <span class=\"date-news\">2015-10-13 16:38 16:38\n",
      "                                    </li>\n",
      "                <li class=\"clearfix\" >\n",
      "                                                                                        <h4><a href=\"https://cse.koreatech.ac.kr/74435\" class=\"title\">LG Wearable Big Bang Hackathon 참여하세요</h4>\n",
      "                                                                                                                            <span class=\"date-news\">2015-10-13 12:03 12:03\n",
      "                                    </li>\n",
      "                <li class=\"clearfix\" >\n",
      "                                                                                        <h4><a href=\"https://cse.koreatech.ac.kr/74328\" class=\"title\"><span style=\"font-weight:bold\">[특성화] 제4차 실무프로그래밍 강좌 신청 안내</h4>\n",
      "                                                                                                                            <span class=\"date-news\">2015-10-08 15:37 15:37\n",
      "                                    </li>\n",
      "            </ul>\n",
      "            \n",
      "</aside>\n",
      "\n",
      "<div class=\"xe-widget-wrapper \" style=\"float: left; width: 375px; border: 0px solid rgb(0, 0, 0); margin: 0px; background-image: none; background-position: 0% 0%; background-repeat: repeat repeat;\"><div style=\"*zoom:1;padding:0px 0px 0px 0px !important;\"><div class=\"sidebar-homepage\">\n",
      "<aside class=\"widget-container\">\n",
      "\t<div class=\"widget-wrapper clearfix\">\n",
      "                <h3 class=\"widget-title\"><a href=\"https://cse.koreatech.ac.kr/freeboard\">자유게시판</h3>\n",
      "    <ul class=\"widgetA menu news-sidebar\">\n",
      "                    <li class=\"clearfix\" >\n",
      "                                                                                        <h4><a href=\"https://cse.koreatech.ac.kr/74469\" class=\"title\">(앙클) 산업기능요원 모집 공고 (~10.19월까지)</h4>\n",
      "                                                                                                                            <span class=\"date-news\">2015-10-16 16:25 16:25\n",
      "                                    </li>\n",
      "                <li class=\"clearfix\" >\n",
      "                                                                                        <h4><a href=\"https://cse.koreatech.ac.kr/74465\" class=\"title\">2015년 홈커밍데이 공지입니다 !</h4>\n",
      "                                                                                                                            <span class=\"date-news\">2015-10-16 15:49 15:49\n",
      "                                    </li>\n",
      "                <li class=\"clearfix\" >\n",
      "                                                                                        <h4><a href=\"https://cse.koreatech.ac.kr/74445\" class=\"title\">졸업작품 전시회 투표 결과</h4>\n",
      "                                                                                                                            <span class=\"date-news\">2015-10-13 19:32 19:32\n",
      "                                    </li>\n",
      "                <li class=\"clearfix\" >\n",
      "                                                                                        <h4><a href=\"https://cse.koreatech.ac.kr/74407\" class=\"title\">【장학지원】보건/복지/심리/재활분야 자격증 무료수강...</h4>\n",
      "                                                                                                                            <span class=\"date-news\">2015-10-12 11:42 11:42\n",
      "                                    </li>\n",
      "                <li class=\"clearfix\" >\n",
      "                                                                                        <h4><a href=\"https://cse.koreatech.ac.kr/74065\" class=\"title\">(주) 엔에스이 에서 개발자를 모집합니다.</h4>\n",
      "                                                                                                                            <span class=\"date-news\">2015-09-30 13:30 13:30\n",
      "                                    </li>\n",
      "            </ul>\n",
      "            \n",
      "</aside>\n",
      "\n",
      "<div class=\"xe-widget-wrapper \" style=\"float: left; width: 375px; border: 0px solid rgb(0, 0, 0); margin: 0px; background-image: none; background-position: 0% 0%; background-repeat: repeat repeat;\"><div style=\"*zoom:1;padding:0px 0px 0px 0px !important;\"><div class=\"sidebar-homepage\">\n",
      "<aside class=\"widget-container\">\n",
      "\t<div class=\"widget-wrapper clearfix\">\n",
      "                <h3 class=\"widget-title\"><a href=\"https://cse.koreatech.ac.kr/jobboard\">취업게시판</h3>\n",
      "    <ul class=\"widgetA menu news-sidebar\">\n",
      "                    <li class=\"clearfix\" >\n",
      "                                                                                        <h4><a href=\"https://cse.koreatech.ac.kr/73881\" class=\"title\">[특성화] (주)KMW  인턴사원 모집공고</h4>\n",
      "                                                                                                                            <span class=\"date-news\">2015-09-23 14:31 14:31\n",
      "                                    </li>\n",
      "                <li class=\"clearfix\" >\n",
      "                                                                                        <h4><a href=\"https://cse.koreatech.ac.kr/73170\" class=\"title\">㈜인젠트 기술연구소 전문연구요원 모집</h4>\n",
      "                                                                                                                            <span class=\"date-news\">2015-09-14 11:54 11:54\n",
      "                                    </li>\n",
      "                <li class=\"clearfix\" >\n",
      "                                                                                        <h4><a href=\"https://cse.koreatech.ac.kr/73018\" class=\"title\">펜타인 2015년도 신입사원 채용공고</h4>\n",
      "                                                                                                                            <span class=\"date-news\">2015-09-03 16:16 16:16\n",
      "                                    </li>\n",
      "                <li class=\"clearfix\" >\n",
      "                                                                                        <h4><a href=\"https://cse.koreatech.ac.kr/72978\" class=\"title\">LIG인베니아 (코스닥상장 LIG그룹사 디스플레이장비전...</h4>\n",
      "                                                                                                                            <span class=\"date-news\">2015-09-03 14:01 14:01\n",
      "                                    </li>\n",
      "                <li class=\"clearfix\" >\n",
      "                                                                                        <h4><a href=\"https://cse.koreatech.ac.kr/71878\" class=\"title\">㈜ 한울 소프트웨어 개발자</h4>\n",
      "                                                                                                                            <span class=\"date-news\">2015-06-18 10:28 10:28\n",
      "                                    </li>\n",
      "            </ul>\n",
      "            \n",
      "</aside>\n",
      "\n",
      "<div class=\"xe-widget-wrapper \" style=\"float: left; width: 375px; border: 0px solid rgb(0, 0, 0); margin: 0px; background-image: none; background-position: 0% 0%; background-repeat: repeat repeat;\"><div style=\"*zoom:1;padding:0px 0px 0px 0px !important;\"><div class=\"sidebar-homepage\">\n",
      "<aside class=\"widget-container\">\n",
      "\t<div class=\"widget-wrapper clearfix\">\n",
      "                <h3 class=\"widget-title\"><a href=\"http://www.venturesquare.net/\">VENTURESQUARE</h3>\n",
      "    <ul class=\"widgetA menu news-sidebar\">\n",
      "                    <li class=\"clearfix\" >\n",
      "                                                                                        <h4><a href=\"http://feedproxy.google.com/~r/vs-rss/~3/9Ly0pHjowzI/603733\" class=\"title\">마션의 원작자 앤디 위어의 1년8개월전 구글강연</h4>\n",
      "                                                                                    <span class=\"icon\">\n",
      "                                                                                    <span class=\"date-news\">2015-10-16 15:50 15:50\n",
      "                                    </li>\n",
      "                <li class=\"clearfix\" >\n",
      "                                                                                        <h4><a href=\"http://feedproxy.google.com/~r/vs-rss/~3/LH9mAu5veEQ/603787\" class=\"title\">창조경제타운 모의 크라우드펀딩 콘테스트 성황리 종료</h4>\n",
      "                                                                                    <span class=\"icon\">\n",
      "                                                                                    <span class=\"date-news\">2015-10-16 13:33 13:33\n",
      "                                    </li>\n",
      "                <li class=\"clearfix\" >\n",
      "                                                                                        <h4><a href=\"http://feedproxy.google.com/~r/vs-rss/~3/C5bDH190p3A/603771\" class=\"title\">K-ICT 본투글로벌센터, 인디고고 초청 ‘크라우드 펀딩’...</h4>\n",
      "                                                                                    <span class=\"icon\">\n",
      "                                                                                    <span class=\"date-news\">2015-10-16 12:30 12:30\n",
      "                                    </li>\n",
      "                <li class=\"clearfix\" >\n",
      "                                                                                        <h4><a href=\"http://feedproxy.google.com/~r/vs-rss/~3/MGiBHBzPfQk/603643\" class=\"title\">‘참여감’이 마케터들에게 주는 인사이트</h4>\n",
      "                                                                                    <span class=\"icon\">\n",
      "                                                                                    <span class=\"date-news\">2015-10-16 11:52 11:52\n",
      "                                    </li>\n",
      "                <li class=\"clearfix\" >\n",
      "                                                                                        <h4><a href=\"http://feedproxy.google.com/~r/vs-rss/~3/gnOJv5qXUDs/603753\" class=\"title\">창조경제타운, 모의 크라우드펀딩 콘테스트 시상식 열려</h4>\n",
      "                                                                                    <span class=\"icon\">\n",
      "                                                                                    <span class=\"date-news\">2015-10-16 11:06 11:06\n",
      "                                    </li>\n",
      "            </ul>\n",
      "            \n",
      "</aside>\n",
      "\n",
      "<div class=\"xe-widget-wrapper \" style=\"float: left; width: 375px; border: 0px solid rgb(0, 0, 0); margin: 0px; background-image: none; background-position: 0% 0%; background-repeat: repeat repeat;\"><div style=\"*zoom:1;padding:0px 0px 0px 0px !important;\"><div class=\"sidebar-homepage\">\n",
      "<aside class=\"widget-container\">\n",
      "\t<div class=\"widget-wrapper clearfix\">\n",
      "                <h3 class=\"widget-title\"><a href=\"http://www.etnews.com/\">전자신문</h3>\n",
      "    <ul class=\"widgetA menu news-sidebar\">\n",
      "                    <li class=\"clearfix\" >\n",
      "                                                                                        <h4><a href=\"http://www.etnews.com/20151016000222\" class=\"title\">쏠리드 컨소시엄, 팬택 인수 확정</h4>\n",
      "                                                                                    <span class=\"icon\">\n",
      "                                                                                    <span class=\"date-news\">2015-10-16 14:56 14:56\n",
      "                                    </li>\n",
      "                <li class=\"clearfix\" >\n",
      "                                                                                        <h4><a href=\"http://www.etnews.com/20151016000180\" class=\"title\">[인사동정]최성준 방통위원장, 백령도 자유학기제 미디...</h4>\n",
      "                                                                                    <span class=\"icon\">\n",
      "                                                                                    <span class=\"date-news\">2015-10-16 13:42 13:42\n",
      "                                    </li>\n",
      "                <li class=\"clearfix\" >\n",
      "                                                                                        <h4><a href=\"http://www.etnews.com/20151016000179\" class=\"title\">티브로드, 경기도 안성서 `孝사랑 축제` 열어</h4>\n",
      "                                                                                    <span class=\"icon\">\n",
      "                                                                                    <span class=\"date-news\">2015-10-16 13:41 13:41\n",
      "                                    </li>\n",
      "                <li class=\"clearfix\" >\n",
      "                                                                                        <h4><a href=\"http://www.etnews.com/20151016000167\" class=\"title\">주파수 주도권 확보 위한 총성 없는 전쟁 시작된다···‘...</h4>\n",
      "                                                                                    <span class=\"icon\">\n",
      "                                                                                    <span class=\"date-news\">2015-10-16 13:09 13:09\n",
      "                                    </li>\n",
      "                <li class=\"clearfix\" >\n",
      "                                                                                        <h4><a href=\"http://www.etnews.com/20151015000383\" class=\"title\">SK텔레콤?KT, 와이파이 인더스트리 어워즈 2015 수상</h4>\n",
      "                                                                                    <span class=\"icon\">\n",
      "                                                                                    <span class=\"date-news\">2015-10-15 18:25 18:25\n",
      "                                    </li>\n",
      "            </ul>\n",
      "            \n",
      "</aside>\n",
      "\n",
      "<div class=\"xe-widget-wrapper \" style=\"float: left; width: 375px; border: 0px solid rgb(0, 0, 0); margin: 0px; background-image: none; background-position: 0% 0%; background-repeat: repeat repeat;\"><div style=\"*zoom:1;padding:0px 0px 0px 0px !important;\"><div class=\"sidebar-homepage\">\n",
      "<aside class=\"widget-container\">\n",
      "\t<div class=\"widget-wrapper clearfix\">\n",
      "                <h3 class=\"widget-title\"><a href=\"http://recode.net/\">RE/CODE</h3>\n",
      "    <ul class=\"widgetA menu news-sidebar\">\n",
      "                    <li class=\"clearfix\" >\n",
      "                                                                                        <h4><a href=\"http://recode.net/2015/10/15/samsung-to-work-with-thomson-reuters-to-target-financial-and-legal-markets/\" class=\"title\">Samsung to Work With Thomson Reuters to Target...</h4>\n",
      "                                                                                    <span class=\"icon\">\n",
      "                                                                                    <span class=\"date-news\">2015-10-16 11:50 11:50\n",
      "                                    </li>\n",
      "                <li class=\"clearfix\" >\n",
      "                                                                                        <h4><a href=\"http://recode.net/2015/10/15/nevada-bans-draftkings-fanduel-as-unlicensed-gambling/\" class=\"title\">Nevada Bans DraftKings, FanDuel as Unlicensed ...</h4>\n",
      "                                                                                    <span class=\"icon\">\n",
      "                                                                                    <span class=\"date-news\">2015-10-16 09:03 09:03\n",
      "                                    </li>\n",
      "                <li class=\"clearfix\" >\n",
      "                                                                                        <h4><a href=\"http://recode.net/2015/10/15/android-6-0-marshmallow-review/\" class=\"title\">Android 6.0 Marshmallow Review</h4>\n",
      "                                                                                    <span class=\"icon\">\n",
      "                                                                                    <span class=\"date-news\">2015-10-16 07:43 07:43\n",
      "                                    </li>\n",
      "                <li class=\"clearfix\" >\n",
      "                                                                                        <h4><a href=\"http://recode.net/2015/10/15/theranos-the-hot-biotech-startup-has-a-huge-credibility-problem/\" class=\"title\">Theranos, the Hot Biotech Startup, Has a Huge ...</h4>\n",
      "                                                                                    <span class=\"icon\">\n",
      "                                                                                    <span class=\"date-news\">2015-10-16 07:23 07:23\n",
      "                                    </li>\n",
      "                <li class=\"clearfix\" >\n",
      "                                                                                        <h4><a href=\"http://recode.net/2015/10/15/google-express-loses-another-exec-as-wildfire-co-founders-exit/\" class=\"title\">Google Express Loses Another Executive as Wild...</h4>\n",
      "                                                                                    <span class=\"icon\">\n",
      "                                                                                    <span class=\"date-news\">2015-10-16 07:16 07:16\n",
      "                                    </li>\n",
      "            </ul>\n",
      "            \n",
      "</aside>\n",
      "\n",
      "    \n",
      "\n",
      "<!-- main page footer start -->\n",
      "<footer id=\"main-footer\">\n",
      "    <!--\n",
      "    <div id=\"blur-top\">\n",
      "        <a href=\"#\" id=\"link-back-top\">Back to Top\n",
      "    \n",
      "    <div id=\"slogan-footer\">\n",
      "        <h4>Leading Together <span>for Brighter Future</h4>\n",
      "    \n",
      "    -->\n",
      "    <div id=\"footer-content\" class=\"clearfix\">\n",
      "        <div id=\"footer-container\">\n",
      "            <div id=\"sidebar-footer-left\" class=\"sidebar-footer\">\n",
      "                <aside class=\"widget-container\">\n",
      "                    <div class=\"widget-wrapper clearfix\">\n",
      "                        <h3 class=\"widget-title\">Quick Navigation</h3>\n",
      "                        <ul>\n",
      "                            <li><a href=\"http://www.koreatech.ac.kr\" target=\"_blank\">한국기술교육대학교 홈페이지</li>\n",
      "                            <li><a href=\"https://email.koreatech.ac.kr\" target=\"_blank\">한국기술교육대학교 WEBMAIL</li>\n",
      "                            <li><a href=\"http://www.e-koreatech.ac.kr\" target=\"_blank\">한국기술교육대학교 온라인 평생교육원</li>\n",
      "                            <li><a href=\"http://218.150.181.55\" target=\"_blank\">교육역량강화사업 온라인 컨텐츠</li>\n",
      "                            <!--<li><a href=\"https://cse.koreatech.ac.kr/?mid=portfolio\" target=\"_blank\">컴퓨터공학부 포트폴리오</li>-->\n",
      "                            <li><a href=\"http://itcsw.koreatech.ac.kr\" target=\"_blank\">IT 융합소프트웨어 인력양성사업</li>\n",
      "                        </ul>\n",
      "                    \n",
      "                </aside>\n",
      "            \n",
      "            <div id=\"sidebar-footer-middle\" class=\"sidebar-footer\">\n",
      "                <aside class=\"widget-container\">\n",
      "                    <div class=\"widget-wrapper clearfix\">\n",
      "                        <h3 class=\"widget-title\">Campus Location</h3>\n",
      "                        <article class=\"text-widget \">\n",
      "\t                        <iframe class=\"map-area\" src=\"https://www.google.com/maps/embed?pb=!1m18!1m12!1m3!1d3196.369861062225!2d127.28035150000001!3d36.761693699999995!2m3!1f0!2f0!3f0!3m2!1i1024!2i768!4f13.1!3m3!1m2!1s0x357b2ac0a5190d0f%3A0x24cddeffd416ef74!2z7LKc7JWI7IucIOuzkeyynOuptCDtlZzqta3quLDsiKDqtZDsnKHrjIDtlZnqtZAg6rO17ZWZNOq0gA!5e0!3m2!1sko!2skr!4v1428058842867\" width=\"600\" height=\"450\" frameborder=\"0\" style=\"border:0\"></iframe><br/>\n",
      "                    \n",
      "                </aside>\n",
      "            \n",
      "<div id=\"sidebar-footer-right\" class=\"sidebar-footer\">\n",
      "                <aside class=\"widget-container\">\n",
      "                    <h3 class=\"widget-title\">Contact CSE</h3>\n",
      "                <p>충청남도 천안시 동남구 병천면 충절로 1600<br/>한국기술교육대학교 컴퓨터공학부 학과사무실 <br/>TEL (041) 560 1460~1461<br/> FAX (041) 560 1462\n",
      "                <ul id=\"list-social\" class=\"clearfix\">\n",
      "                    <li id=\"icon-facebook\"><a href=\"https://www.facebook.com/pages/%ED%95%9C%EA%B5%AD%EA%B8%B0%EC%88%A0%EA%B5%90%EC%9C%A1%EB%8C%80%ED%95%99%EA%B5%90-%EC%BB%B4%ED%93%A8%ED%84%B0%EA%B3%B5%ED%95%99%EB%B6%80/288344217903811?fref=nf\">Facebook</li>\n",
      "                    <li id=\"icon-twitter\"><a href=\"#\">Twitter</li>\n",
      "                    <li id=\"icon-gplus\"><a href=\"#\">Google Plus</li>\n",
      "                    <li id=\"icon-linkedin\"><a href=\"#\">Linkedin</li>\n",
      "<!--                    <li id=\"icon-youtube\"><a href=\"#\">Youtube</li>\n",
      "                    <li id=\"icon-flickr\" class=\"last\"><a href=\"#\">Flickr</li>-->\n",
      "                </ul>\n",
      "                </aside>\n",
      "            \n",
      "        \n",
      "    \n",
      "    <div id=\"footer-copyright\">\n",
      "        <div id=\"footer-copyright-content\" class=\"clearfix\">\n",
      "            <a href=\"#\" id=\"logo-footer\"><img src=\"/layouts/cse/images/cse_logo_footer.png\" data-retina=\"images/cse_logo_footer_retina.png\" alt=\"School Fun - University\" />\n",
      "            <p id=\"text-address\">(31253) 충청남도 천안시 동남구 병천면 충절로 1600 (가전리, 한국기술교육대학교) 컴퓨터공학부 </p>\n",
      "            <p id=\"text-copyright\">Copyright © 2015. All rights reserved</p>\n",
      "        \n",
      "    \n",
      "</footer>\n",
      "<!-- main page footer end -->\n",
      "</body>\n",
      "</html>\n",
      "<!-- ETC -->\n",
      "<div class=\"wfsr\">\n",
      "<script src=\"/addons/autolink/autolink.js?20150910092649\"><script src=\"/common/js/plugins/ui/jquery-ui.min.js?20150910092656\"><script src=\"/common/js/plugins/ui/jquery.ui.datepicker-ko.js?20150910092656\"><script src=\"/addons/resize_image/js/resize_image.min.js?20150910092650\"><script src=\"/layouts/cse/script/jquery.flexslider.js?20150805222706\"><script src=\"/layouts/cse/script/jquery.prettyPhoto.js?20150805222706\"><script src=\"/layouts/cse/script/jquery-ui-tabs-rotate.js?20150805222706\"><script src=\"/layouts/cse/script/scripts.js?20150821175206\"><script src=\"/files/cache/js_filter_compiled/5ad07e2b14b79f1c993c3e4b5ca58660.ko.compiled.js?20150910090632\"><script src=\"/files/cache/ruleset/85b80736b3cc92d07570521ad97a31d9.ko.js?20150910090632\"></body>\n",
      "</html>\n",
      "\n"
     ]
    }
   ],
   "source": [
    "for i in range(0,source.count(\"<\")):\n",
    "    if source.find(\"<\") != -1:\n",
    "        source = source.replace(source[source.find(\"<\"):source.find(\">\")+1:],\"\")\n",
    "print source "
   ]
  },
  {
   "cell_type": "code",
   "execution_count": null,
   "metadata": {
    "collapsed": true
   },
   "outputs": [],
   "source": []
  },
  {
   "cell_type": "code",
   "execution_count": null,
   "metadata": {
    "collapsed": true
   },
   "outputs": [],
   "source": []
  },
  {
   "cell_type": "code",
   "execution_count": null,
   "metadata": {
    "collapsed": true
   },
   "outputs": [],
   "source": []
  }
 ],
 "metadata": {
  "kernelspec": {
   "display_name": "Python 2",
   "language": "python",
   "name": "python2"
  },
  "language_info": {
   "codemirror_mode": {
    "name": "ipython",
    "version": 2
   },
   "file_extension": ".py",
   "mimetype": "text/x-python",
   "name": "python",
   "nbconvert_exporter": "python",
   "pygments_lexer": "ipython2",
   "version": "2.7.9"
  }
 },
 "nbformat": 4,
 "nbformat_minor": 0
}
