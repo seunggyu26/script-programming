{
 "cells": [
  {
   "cell_type": "markdown",
   "metadata": {},
   "source": [
    "# Assignment2"
   ]
  },
  {
   "cell_type": "markdown",
   "metadata": {},
   "source": [
    "###1. 다음 6 개의 Expression에 대해 Evaluation 결과 값을 출력하고, 해당 결과가 나온 이유에 대해 설명하시오\n",
    "####1 and 2 and 3 and 4 <br />1 or 2 or 3 or 4<br />1 and 2 or 3 and 4<br />(1 and 2) or (3 and 4)<br />1 or 2 and 3 or 4<br />(1 or 2) and (3 or 4)"
   ]
  },
  {
   "cell_type": "code",
   "execution_count": 3,
   "metadata": {
    "collapsed": false
   },
   "outputs": [
    {
     "name": "stdout",
     "output_type": "stream",
     "text": [
      "4\n",
      "1\n",
      "2\n",
      "2\n",
      "1\n",
      "3\n"
     ]
    }
   ],
   "source": [
    "print 1 and 2 and 3 and 4          #1\n",
    "print 1 or 2 or 3 or 4             #2\n",
    "print 1 and 2 or 3 and 4           #3\n",
    "print (1 and 2) or (3 and 4)       #4\n",
    "print 1 or 2 and 3 or 4            #5\n",
    "print (1 or 2) and (3 or 4)        #6"
   ]
  },
  {
   "cell_type": "markdown",
   "metadata": {},
   "source": [
    "1번 expression에는 and로만 이루어져 있다. 때문에 왼쪽에서부터 차례대로 연산이 이루어진다. 1 and 2의 결과값은 2, 이에 and 3을 하면 결과값은 3, 이에 and 4를 하면 결과값은 4가 나온다. 때문에 1번 식의 값은 4가 출력이 된다. <br />\n",
    "2번 expression에는 or로만 이루어져 있다. 왼쪽에서 부터 연산이 이루어진다. 1 or 2의 결과값은 1, 이에 or 3의 결과값은 1, 이에 or 4를 하면 결과값은 1이 나온다. 때문에 2번 식의 값은 1이 출력된다.<br />\n",
    "3번 expression은 and와 or로 이루어져있다. 이 경우 and 연산 후 or 연산이 진행된다. 때문에 1 and 2와 3 and 4가 먼저 계산되어 각각 2와 4의 결과값이 나온다. 이를 or 연산을 하면(2 or 4) 2가 출력되는 것을 알 수 있다.<br />\n",
    "4번 expression은 ()와 and, or로 이루어져있다. 이 경우 ()안에 있는 연산이 먼저 진행되는데 4번 문장은 3번문장과 동일한 것을 가리키므로 역시 결과값으로 2가 출력되는 것을 알 수 있다.<br />\n",
    "5번 expression은 and와 or로 이루어져있다. 이 경우 and 연산 후 or 연산이 진행된다. 때문에 가운데에 있는 2 and 3이 먼저 계산되어 결과값 3이 나오고 이를 바탕으로 식을 다시보면 1 or 3 or 4 라고 할 수 있다. 이는 or로만 이루어진 식이 되므로 결과값으로 1이 출력되는 것을 알 수 있다.<br />\n",
    "6번 expression은 ()와 and, or로 이루어져있다. 이 경우 ()안에 있는 연산이 먼저 진행된다. 때문에 1 or 2, 3 or 4가 먼저 계산되어 각각 1과 3이라는 값이 나오고 이를 바탕으로 식을 정리하면 1 and 3이 되므로 3이 출력되는 것을 알 수 있다."
   ]
  },
  {
   "cell_type": "markdown",
   "metadata": {},
   "source": [
    "###2. 키보드로 정수값을 입력 받고 그 값이 양수인지 음수인지를 비트 연산자를 이용하여 판단하는 프로그램을 작성하시오.\n",
    "####[참고] 가장 왼쪽에 있는 비트가 0이면 양수이며, 1이면 음수이다.<br />[참고] 수업보충자료 (https://github.com/bluebibi/python-e-learning/blob/master/supplement.ipynb) 를 참고하시오."
   ]
  },
  {
   "cell_type": "code",
   "execution_count": 2,
   "metadata": {
    "collapsed": false
   },
   "outputs": [
    {
     "name": "stdout",
     "output_type": "stream",
     "text": [
      "정수: -125\n",
      "음수\n"
     ]
    }
   ],
   "source": [
    "import math\n",
    "\n",
    "x = input(u\"정수: \")\n",
    "c = x.bit_length()\n",
    "if c==0 :\n",
    "    print \"0\"\n",
    "elif (x >> c) == 0 :\n",
    "    print u\"양수\"\n",
    "else :\n",
    "    print u\"음수\""
   ]
  },
  {
   "cell_type": "markdown",
   "metadata": {},
   "source": [
    "내장함수 input()을 이용하여 변수 x에 정수 값을 입력받도록 하였다. 입력받은 정수를 bit_length()를 이용하여 해당 수치를 표현하기 위한 비트의 개수를 변수 c에 저장시켰다. <br />양수를 비트 연산자를 이용하여 오른쪽으로 이동시키면 왼쪽이 0으로 채워지기 때문에, x에 양수가 입력이 되면 해당 비트수 만큼 오른쪽으로 움직이도록 하여 0이 되게 하였다. 때문에 비트 연산자 후 값이 0이 되면 \"양수\"라고 출력하게 하였고 반대의 경우에는 \"음수\"가 출력되게 하였다."
   ]
  },
  {
   "cell_type": "markdown",
   "metadata": {},
   "source": [
    "###3. 경로에 해당하는 문자열 1개를 입력 받아 그 안에 디렉토리 경로명과 파일명을 분리하여 리스트로 반환하는 함수 div_path(s)를 작성하시오.\n",
    "####인자로 전달하는 문자열은 경로만 들어간다고 가정한다.<br />각 디렉토리와 파일을 구분하는 문자는 '/'로 가정한다.<br />반환하는 리스트의 첫번째 원소는 디렉토리이고 두번째 원소는 파일명이다.<br />다음과 같은 실행 및 출력 결과가 도출되어야 한다.<br />div_path('/usr/local/bin/python')<br />['/usr/local/bin', 'python']<br />div_path('/home/chulsoo/test.txt')<br />['/home/chulsoo', 'test.txt']<br />[참고] 리스트(l) 내에 새로운 정수값 (예를 들어 10)을 넣는 방법은 l.append(10) 이다."
   ]
  },
  {
   "cell_type": "code",
   "execution_count": 2,
   "metadata": {
    "collapsed": false
   },
   "outputs": [
    {
     "name": "stdout",
     "output_type": "stream",
     "text": [
      "['/usr/local/bin', 'python']\n",
      "['/home/chulsoo', 'test.txt']\n"
     ]
    }
   ],
   "source": [
    "def div_path(s) :\n",
    "    L = []\n",
    "    directory = ''\n",
    "    \n",
    "    cnt = s.count('/')\n",
    "    sp = s.split('/')\n",
    "    \n",
    "    for i in range(1, cnt) :\n",
    "        directory= directory + '/'+ ''.join(sp[i]) \n",
    "\n",
    "    L.append(directory)    \n",
    "    L.append(sp[cnt])\n",
    "    \n",
    "    print L\n",
    "\n",
    "    \n",
    "div_path('/usr/local/bin/python')\n",
    "div_path('/home/chulsoo/test.txt')"
   ]
  },
  {
   "cell_type": "markdown",
   "metadata": {},
   "source": [
    "div_path()로 입력받은 문자열은 '/'의 갯수만큼 디렉토리 내의 문자들(ex>>usr, local...)이 있기 때문에 '/'의 수를 세어 문자의 갯수를 변수 cnt에 입력하였다. 또한 입력받은 문자열을 '/'을 기준으로 분리하여 각각을 변수 sp에 입력하였다. <br />\n",
    "s.split('/')의 결과값 중에 sp[0]은 항상 공백('')을 나타내므로 for구문에서 공백을 제외한 1번째 인덱스부터 마지막까지를 범위로 하여 공백문자열을 가지고 있는 변수 directory에 문자열 '/'와 join()을 이용하여 리스트 sp 내부의 각 원소들을 ''로 연결한 문자열을 입력시켜 주었다. 이렇게 합쳐진 문자열을 append()를 이용하여 리스트 L에 삽입시켰고, 디렉토리 내의 파일명을 뽑아내어 append()를 이용하여 다시 L에 삽입시켜주었다."
   ]
  },
  {
   "cell_type": "markdown",
   "metadata": {},
   "source": [
    "###4. 두 개의 리스트를 인자로 받아서 그 두 개의 리스트에 대한 '합집합'을 반환하는 함수 list_union(lista, listb)를 작성하시오.\n",
    "####인자로 전달하는 리스트 2 개에는 정수값만 들어간다고 가정하자.<br />함수 내에서 새로운 리스트를 만들어 그 리스트 내에 인자로 받은 두 리스트의 모든 원소를 넣어 반환한다.<br />반환하는 리스트에는 절대로 중복된 원소가 들어 있으면 안된다 (집합의 조건).<br />반환하는 리스트는 정렬이 되어 있어야 한다.<br />다음과 같은 실행 및 출력 결과가 도출되어야 한다.<br />list_union([1, 2, 3], [1, 2, 4])<br />[1, 2, 3, 4]<br />list_union([-10, -5, 0, -1], [100, 9, 0, 9])<br />[-10, -5, -1, 0, 9, 100]<br />list_union([0, 1, 2], [0, 1, 2])<br />[0, 1, 2]<br />[참고] 리스트(l) 내에 새로운 정수값 (예를 들어 10)을 넣는 방법은 l.append(10) 이다.<br />[참고] 임의의 정수값 (x)이 리스트 (l) 내에 존재하는지 판단하는 방법은 x in l 이다."
   ]
  },
  {
   "cell_type": "code",
   "execution_count": 66,
   "metadata": {
    "collapsed": false
   },
   "outputs": [
    {
     "name": "stdout",
     "output_type": "stream",
     "text": [
      "[1, 2, 3, 4]\n",
      "[-10, -5, -1, 0, 9, 100]\n",
      "[0, 1, 2]\n"
     ]
    }
   ],
   "source": [
    "def list_union(lista, listb) :\n",
    "    L=[]\n",
    "    for i in range(0, len(lista)) :\n",
    "        L.append(lista[i])\n",
    "        \n",
    "    for i in range(0, len(listb)) :\n",
    "        if (listb[i] in L) == False :\n",
    "            L.append(listb[i])\n",
    "    \n",
    "    L.sort()        \n",
    "    print L\n",
    "    \n",
    "\n",
    " \n",
    "list_union([1, 2, 3], [1, 2, 4])\n",
    "list_union([-10, -5, 0, -1], [100, 9, 0, 9])\n",
    "list_union([0, 1, 2], [0, 1, 2])"
   ]
  },
  {
   "cell_type": "markdown",
   "metadata": {},
   "source": [
    "함수 list_union()에 리스트 변수 L을 선언해준다. 이 리스트 변수 L에 lista의 값들을 모두 삽입한다. listb의 값들을 리스트 변수 L에 삽입 시 삽입하려는 값이 L에 있는지를 판별한 후 해당 값이 리스트 L에 존재하지 않으면 리스트 L에 값을 삽입한다. listb까지 모든 값들이 리스트 L에 삽입되었으면 sort()함수를 이용하여 리스트 L을 오름차순으로 정렬해준 후 해당 리스트의 값을 출력시켜준다."
   ]
  },
  {
   "cell_type": "markdown",
   "metadata": {},
   "source": [
    "###5. <br />앞에서부터 읽을 때나 뒤에서부터 읽을 때나 모양이 같은 수를 대칭수(palindrome)라고 부릅니다. <br />두 자리 수를 곱해 만들 수 있는 대칭수 중 가장 큰 수는 9009 (= 91 × 99) 입니다.<br />세 자리 수를 곱해 만들 수 있는 가장 큰 대칭수는 얼마입니까?"
   ]
  },
  {
   "cell_type": "code",
   "execution_count": 4,
   "metadata": {
    "collapsed": false
   },
   "outputs": [
    {
     "name": "stdout",
     "output_type": "stream",
     "text": [
      "906609\n",
      "906609\n"
     ]
    }
   ],
   "source": [
    "x = 100\n",
    "y = 100\n",
    "num = 1\n",
    "NUM = ''\n",
    "\n",
    "for x in reversed(range(100, 1000)) :\n",
    "    for y in reversed(range(100, 1000)) :\n",
    "        num = x * y\n",
    "        if(num>900000) :\n",
    "            NUM = str(num)\n",
    "            if(NUM[0]==NUM[5] and NUM[1]==NUM[4] and NUM[2]==NUM[3]) :\n",
    "                print NUM"
   ]
  },
  {
   "cell_type": "markdown",
   "metadata": {},
   "source": [
    "세자리수를 곱하여 나오는 값들의 자릿수는 최소 5자리부터 최대 6자리입니다. 문제에서는 세 자리 수를 곱해 만들 수 있는 가장 큰 대칭수를 물어보고 있으므로 900000이상에서 대칭수가 나오는지 알아보기로 했습니다. 때문에 for문도 reversed()함수를 이용하여 999부터 곱하기로 했습니다. x와 y의 곱인 변수 num의 값이 900000가 넘는 경우 이를 문자열형태로 변환하여 변수 NUM에 입력하였습니다. 문자열 변수 NUM의 인덱스를 이용하여 1번째 자리와 6번째 자리, 2번째 자리와 5번째 자리, 3번째 자리와 4번째 자리가 각각 같은 경우 해당 값을 출력하도록 하였습니다. 출력 값을 보면 2개의 값이 출력됨을 알 수 있는데 둘의 값은 같은 값을 나타내므로 세 자리 수를 곱해 만들 수 있는 가장 큰 대칭수는 906609임을 알 수 있습니다."
   ]
  },
  {
   "cell_type": "markdown",
   "metadata": {},
   "source": [
    "###6. <br />1 ~ 10 사이의 어떤 수로도 나누어 떨어지는 가장 작은 수는 2520입니다.<br />그러면 1 ~ 20 사이의 어떤 수로도 나누어 떨어지는 가장 작은 수는 얼마입니까?"
   ]
  },
  {
   "cell_type": "code",
   "execution_count": 2,
   "metadata": {
    "collapsed": false
   },
   "outputs": [
    {
     "name": "stdout",
     "output_type": "stream",
     "text": [
      "232792560\n"
     ]
    }
   ],
   "source": [
    "def c_num(x) :\n",
    "    for i in range(1,21) :\n",
    "        if(x%i) != 0 :\n",
    "            return 0\n",
    "    return x\n",
    "\n",
    "\n",
    "\n",
    "x = 21\n",
    "\n",
    "while True :\n",
    "    if(c_num(x) == 0) :\n",
    "        x = x + 1\n",
    "    else :\n",
    "        print x\n",
    "        break"
   ]
  },
  {
   "cell_type": "markdown",
   "metadata": {},
   "source": [
    "c_num()이라는 함수를 정의하여 1~20 사이의 어떤 수로도 나누어 떨어지는 가장 작은 수를 판별하도록 하였습니다.<br />\n",
    "c_num()함수에 숫자를 입력하여 원하는 값이 나올 때까지 while구문을 돌려 원하는 값이 나오면 break하여 탈출하도록 하였습니다.<br />\n",
    "c_num()함수에 변수 x의 값인 21부터 시작하여 해당 값이 1부터 20까지 나누어지는지 확인하여 이 중 하나라도 나누어지지 않으면 변수 x의 값을 1씩 증가시켜 처음으로 1부터 20까지의 수로 나누어지는 값이 나오면 그 값을 return하여 출력하도록 하였습니다.<br />\n",
    "결과값이 매우 큰 숫자라 실행하는데 시간이 오래 걸렸는데 처음부터 변수 x의 값을 크게 잡고 시작하면 약간 더 빠르게 실행되지 않을까 싶습니다."
   ]
  },
  {
   "cell_type": "markdown",
   "metadata": {},
   "source": [
    "###7. <br />1부터 10까지 자연수를 각각 제곱해 더하면 다음과 같습니다 (제곱의 합). <br />12 + 22 + ... + 102 = 385<br />1부터 10을 먼저 더한 다음에 그 결과를 제곱하면 다음과 같습니다 (합의 제곱).<br />(1 + 2 + ... + 10)2 = 552 = 3025<br />따라서 1부터 10까지 자연수에 대해 \"합의 제곱\"과 \"제곱의 합\" 의 차이는 3025 - 385 = 2640 이 됩니다.<br />그러면 1부터 100까지 자연수에 대해 \"합의 제곱\"과 \"제곱의 합\"의 차이는 얼마입니까? "
   ]
  },
  {
   "cell_type": "code",
   "execution_count": 3,
   "metadata": {
    "collapsed": false
   },
   "outputs": [
    {
     "name": "stdout",
     "output_type": "stream",
     "text": [
      "25164150\n"
     ]
    }
   ],
   "source": [
    "sum1 = 0\n",
    "sum2 = 0\n",
    "gap = 0\n",
    "\n",
    "for i in range(1, 101) :\n",
    "    sum1 = sum1 + (i*i)\n",
    "\n",
    "sum2 = pow((100*101/2), 2)\n",
    "\n",
    "gap = sum2 - sum1 if sum2-sum1>0 else sum1 - sum2\n",
    "\n",
    "print gap"
   ]
  },
  {
   "cell_type": "markdown",
   "metadata": {},
   "source": [
    "제곱의 합 결과를 변수 sum1에 입력받고 합의 제곱의 결과를 변수 sum2에 입력받았다.<br />\n",
    "두 수의 차이를 sum2>sum1이면 sum2-sum1의 값을 변수 gap에 입력받고 sum1>sum2이면 sum1-sum2의 값을 변수 gap에 입력받았다."
   ]
  },
  {
   "cell_type": "markdown",
   "metadata": {},
   "source": [
    "###8.<br />[Incremental Project] 웹 URL로 지정된 웹페이지를 문자열로 가져와 1) 모든 HTML 태그를 제외한 순수 텍스트 문자열만을 걸러내고, 2) 그 순수 텍스트 문자열 안에 존재하는 단어가 총 몇개인지 출력하는 프로그램을 작성하시오.\n",
    "\n",
    "####HTML 태그는 다음 조건을 가지는 것이다.<br /><br />\n",
    "\n",
    "< 로 시작하여 >로 끝난다.<br />\n",
    "예를 들어, 아래와 같은 HTML 내용 내에 한 줄이 있다고 가정하자.<br />\n",
    "[label for=\"keep_signed\"]로그인 유지[/label]<br />\n",
    "위 소스에서 HTML 태그를 제외한 순수 텍스트 문자열은 아래와 같다.<br />\n",
    "로그인 유지<br />\n",
    "한편, 아래와 같은 HTML 한 줄이 있다고 가정하자.<br />\n",
    "[link rel=\"stylesheet\" href=\"/common/css/xe.min.css?20150910092654\" /]<br />\n",
    "위 소스는 HTML 태그로만 구성된 것이며 걸러낼 수 있는 순수 텍스 문자열은 존재하지 않는다.<br />\n",
    "단어를 나누는 기준은 오로지 공백문자 (whitespace)이다.<br /><br />\n",
    "\n",
    "즉, 위 순수 텍스트 문자열인 \"로그인 유지\"에서 분리한 단어는 \"로그인\"과 \"유지\"이다.<br />\n",
    "다음은 URL로 지정된 웹페이지를 특정 문자열로 가져오는 코드이다.<br />\n",
    "즉, 숙제 코드는 아래 코드로 부터 시작해야 한다."
   ]
  },
  {
   "cell_type": "code",
   "execution_count": 8,
   "metadata": {
    "collapsed": false,
    "scrolled": true
   },
   "outputs": [],
   "source": [
    "import urllib2\n",
    "\n",
    "source = urllib2.urlopen(\"http://cse.kut.ac.kr/\").read()\n",
    "\n",
    "#print source # 추후 숙제 답안 제출 때엔 왼쪽 라인은 주석처리할 것"
   ]
  },
  {
   "cell_type": "code",
   "execution_count": 3,
   "metadata": {
    "collapsed": false,
    "scrolled": true
   },
   "outputs": [
    {
     "name": "stdout",
     "output_type": "stream",
     "text": [
      "컴퓨터공학부\n"
     ]
    }
   ],
   "source": [
    "pText = ''\n",
    "read = 0\n",
    "i=0\n",
    "\n",
    "#print source[15] == '\\n'\n",
    "for i in source :\n",
    "    if(i == '<') :\n",
    "        read = read + 1\n",
    "    elif(i == '>') :\n",
    "        read = read - 1\n",
    "    \n",
    "    if(read == 0) :\n",
    "        if(i != '>') :\n",
    "            pText = pText + i\n",
    "    \n",
    "for i in pText.split() :\n",
    "    print i,"
   ]
  },
  {
   "cell_type": "code",
   "execution_count": 4,
   "metadata": {
    "collapsed": false
   },
   "outputs": [
    {
     "name": "stdout",
     "output_type": "stream",
     "text": [
      "1\n"
     ]
    }
   ],
   "source": [
    "print len(pText.split())"
   ]
  },
  {
   "cell_type": "markdown",
   "metadata": {},
   "source": [
    "처음 접근 때 감이 오지 않아 우선 source의 type을 살펴보기로 하였다. type(source)를 해서 보니 str형태를 가지고 있다는 것을 알았다. 때문에 일반적인 문자열처럼 하나 하나씩 문자를 비교하여 단어들을 찾아내기로 생각하였다.<br />\n",
    "우선 '<'문자가 나오면 변수 read의 값을 1 증가시켜 '<'의 갯수를 파악하고, '>'문자가 나오면 변수 read의 값을 1 감소시키게 하여 '>'의 갯수와 맞추기로 하였다. 따라서, read가 0이 된 상태일 때부터 문자들을 pText에 하나씩 입력받기로 하였다.<br /> \n",
    "이렇게 하여 순수 텍스트 문자열들은 pText 변수 안에 저장되게끔 하였다. pText안에 있는 문자열들은 오로지 공백문자로만 구별되기 때문에 split()함수를 사용하여 단어들을 분리시켜 주었고 len()함수를 사용하여 분리된 문자열의 갯수가 얼마나 있는지 확인하였다.<br />\n",
    "단어가 한개만 출력된 이유를 찾기위해 HTML 소스를 살펴봤는데 23번째 줄에서 <!--의 짝인 -->가 나오지않아 그 이후부터 괄호의 짝이 일치하지 않아 최초의 단어 1개만 출력이 된 것 같아 아래에서 위와같은 경우를 생각하지 않고 다르게 작성해 보았다."
   ]
  },
  {
   "cell_type": "code",
   "execution_count": 1,
   "metadata": {
    "collapsed": false
   },
   "outputs": [],
   "source": [
    "#pText = ''\n",
    "#read = True\n",
    "#i=0\n",
    "\n",
    "#print source[15] == '\\n'\n",
    "#for i in source :\n",
    "#    if(i == '<') :\n",
    "#        read = False\n",
    "#    elif(i == '>') :\n",
    "#        read = True\n",
    "#    \n",
    "#    if(read == True) :\n",
    "#        if(i != '>') :\n",
    "#            pText = pText + i\n",
    "    \n",
    "#for i in pText.split() :\n",
    "#    print i,"
   ]
  },
  {
   "cell_type": "code",
   "execution_count": 2,
   "metadata": {
    "collapsed": false
   },
   "outputs": [],
   "source": [
    "#print len(pText.split())"
   ]
  },
  {
   "cell_type": "markdown",
   "metadata": {},
   "source": [
    "위와 같은 상황때문에 아래 부분의 순수 문자열들이 나오지 않아 다른 방법으로 작성해보았다. 이 경우 여러개의 순수 문자열들이 나오는 것을 볼 수 있다."
   ]
  },
  {
   "cell_type": "markdown",
   "metadata": {},
   "source": [
    "### 아래가 정답>"
   ]
  },
  {
   "cell_type": "code",
   "execution_count": null,
   "metadata": {
    "collapsed": true
   },
   "outputs": [],
   "source": [
    "for i in range(0, source.count('<!--')):\n",
    "    if source.find(\"<!--\") != -1:\n",
    "        source = source.replace(source[source.find(\"<!--\"):source.find(\"-->\")+3:],\"\")\n",
    "#print source"
   ]
  },
  {
   "cell_type": "code",
   "execution_count": null,
   "metadata": {
    "collapsed": true
   },
   "outputs": [],
   "source": [
    "for i in range(0,source.count(\"<\")):\n",
    "    if source.find(\"<\") != -1:\n",
    "        source = source.replace(source[source.find(\"<\"):source.find(\">\")+1:],\"\")\n",
    "print source    "
   ]
  },
  {
   "cell_type": "code",
   "execution_count": null,
   "metadata": {
    "collapsed": true
   },
   "outputs": [],
   "source": [
    "words = source.split()\n",
    "for word in words:\n",
    "    print word"
   ]
  },
  {
   "cell_type": "markdown",
   "metadata": {},
   "source": [
    "## [소감]"
   ]
  },
  {
   "cell_type": "markdown",
   "metadata": {},
   "source": [
    "이번 문제들을 통해 문자열들을 분리시키고, 조합시키는 능력이 많이 길러진 것 같다. 특히 마지막 문제를 통하여 문자열 내의 모든 문자들을 분리하는 것이 아닌 사용자가 원하는 조건을 만족시키는 문자들을 분리시키기 위해 여러가지 생각을 할 수 있게 되었다. 하지만 앞서 배운 여러 함수들이나 다른 것들을 사용할 때 책을 찾곤 했는데 스스로 좀 더 연습을 하여 빠른 시간내에 사용법 등이 익숙해지도록 해야겠다."
   ]
  }
 ],
 "metadata": {
  "kernelspec": {
   "display_name": "Python 2",
   "language": "python",
   "name": "python2"
  },
  "language_info": {
   "codemirror_mode": {
    "name": "ipython",
    "version": 2
   },
   "file_extension": ".py",
   "mimetype": "text/x-python",
   "name": "python",
   "nbconvert_exporter": "python",
   "pygments_lexer": "ipython2",
   "version": "2.7.9"
  }
 },
 "nbformat": 4,
 "nbformat_minor": 0
}
