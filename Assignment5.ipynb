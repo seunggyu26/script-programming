{
 "cells": [
  {
   "cell_type": "markdown",
   "metadata": {},
   "source": [
    "###1. 클래스와 모듈의 공통점과 차이점에 대해 설명하시오."
   ]
  },
  {
   "cell_type": "markdown",
   "metadata": {},
   "source": [
    "- 공통점 : 클래스와 모듈은 데이터나 함수 등을 정의하고 있는 단위이다.\n",
    "- 차이점 : 모듈은 파일 단위(.py)로 이름 공간을 구성하고 있다. 떄문에 모듈을 사용하는 경우 모듈을 불러오는 키워드인 import를 이용한다. import한 공간 어디에서나 모듈 내에서 정의된 함수나 상수 값들을 사용할 수 있다. 클래스의 경우 클래스 영역 내에 이름 공간을 구성한다. 때문에 클래스를 사용하기 위해선 클래스를 각각 선언한 뒤 내용을 정의해야 하며, 클래스 내부에 정의된 변수나 함수 등은 해당 클래스를 개체로 인스턴스화 해준 곳에서만 사용 가능하다."
   ]
  },
  {
   "cell_type": "markdown",
   "metadata": {},
   "source": [
    "###2. 다형성에 대해 설명하고 다형성을 보여주는 자신만의 파이썬 코드 예제를 제시하시오."
   ]
  },
  {
   "cell_type": "markdown",
   "metadata": {},
   "source": [
    "- 다형성이란 동일한 클래스를 상속받는 각각 객체의 취하는 동작들이 상황에 따라서 달라지는 것이라고 할 수 있다. "
   ]
  },
  {
   "cell_type": "code",
   "execution_count": 1,
   "metadata": {
    "collapsed": false
   },
   "outputs": [
    {
     "name": "stdout",
     "output_type": "stream",
     "text": [
      "draw triangle\n",
      "draw rectangle\n",
      "draw pentagon\n"
     ]
    }
   ],
   "source": [
    "class polygon :\n",
    "    def draw(self) :\n",
    "        print 'draw polygon'\n",
    "        \n",
    "class triangle(polygon) :\n",
    "    def draw(self) :\n",
    "        print 'draw triangle'\n",
    "        \n",
    "class rectangle(polygon) :\n",
    "    def draw(self) :\n",
    "        print 'draw rectangle'\n",
    "\n",
    "class pentagon(polygon) :\n",
    "    def draw(self) :\n",
    "        print 'draw pentagon'\n",
    "        \n",
    "for each in (triangle(), rectangle(), pentagon()) :\n",
    "    each.draw()"
   ]
  },
  {
   "cell_type": "markdown",
   "metadata": {},
   "source": [
    "상위 클래스로 polygon을 선언하였고, polygon 클래스의 메소드로 draw()를 정의하였다. triangle 클래스, rectangle 클래스, pentagon 클래스는 polygon 클래스를 상속받으며 draw 메소드가 각각의 클래스의 상태에 맞게 오버라이드되었다."
   ]
  },
  {
   "cell_type": "markdown",
   "metadata": {},
   "source": [
    "###3. 다음 각 요구사항 모두를 만족시키는 Counter 클래스를 코딩하시오 (정답을 각 요구사항별로 입력할 필요 없이 3번 문제에 대해 1개의 클래스 정의 코드를 제시하면 된다.)\n",
    "\n",
    "- 요구사항 1. 생성자에 count 값과 step 값을 인자로 받을 수 있다.<br />\n",
    "    -- count: Counter 인스턴스가 지니는 초기 정수 값<br />\n",
    "    -- step: Counter 인스턴스의 count가 증가되는 증분 (defalt 값: 1)\n",
    "    > c = Counter(10)<br />\n",
    "    > d = Counter(10, 2) \n",
    "- 요구사항 2. 다음과 같이 Counter의 인스턴스를 출력을 해주는 __str__() 메소드를 Counter 클래스 내에 구현하시오.\n",
    "    > print c <br />[Count (step: 1)] 10 <br />\n",
    "    > print d <br />[Count (step: 2)] 10 \n",
    "- 요구사항 3. 다음과 같이 step에 주어진 증분만큼 count를 증가시키는 incr() 메소드를 Counter 클래스 내에 구현하시오.\n",
    "    > c.incr()<br /> \n",
    "    > d.incr() <br />\n",
    "    > print c <br />\n",
    "    [Count (step: 1)] 11<br /> \n",
    "    > print d <br />\n",
    "    [Count (step: 2)] 12 \n",
    "- 요구사항 4. Counter 클래스 내에 관련 메소드를 추가하여 인스턴스 객체를 직접 호출(call)할 수 있도록 하시오. 인스턴스 객체를 직접 호출했을 때에 내부적으로 incr() 메소드를 호출하는 방법으로 구현하시오.\n",
    "    > c()<br />  \n",
    "    > d()<br />  \n",
    "    > print c<br />  \n",
    "    [Count (step: 1)] 12<br />  \n",
    "    > print d <br /> \n",
    "    [Count (step: 2)] 14 \n",
    "- 요구사항 5. 다음과 같은 두 개의 산술 연산 (+, -)이 수행될 수 있도록 Counter 클래스 내에 관련 메소드를 추가하시오.\n",
    "    > c = c + 5 <br /> \n",
    "    > d = d - 5 <br /> \n",
    "    > print c <br /> \n",
    "    [Count (step: 1)] 17<br />  \n",
    "    > print d <br /> \n",
    "    [Count (step: 2)] 9 \n",
    "- 요구사항 6. 다음과 같은 관계연산 (>, <, ==)이 수행될 수 있도록 Counter 클래스 내에 관련 메소드를 추가하시오.\n",
    "    > print c > 10 <br /> \n",
    "    True <br /> \n",
    "    > print d > 10<br />  \n",
    "    False <br /> \n",
    "    > print c < 10<br />  \n",
    "    False <br /> \n",
    "    > print d < 10 <br /> \n",
    "    True <br /> \n",
    "    > print c == 17 <br /> \n",
    "    True <br /> \n",
    "    > print d != 9 <br /> \n",
    "    False "
   ]
  },
  {
   "cell_type": "code",
   "execution_count": 50,
   "metadata": {
    "collapsed": false
   },
   "outputs": [],
   "source": [
    "class Counter :\n",
    "    def __init__(self, count, step=1) :\n",
    "        self.count = count\n",
    "        self.step = step\n",
    "    def __str__(self) :\n",
    "        return '[Count (step: ' + str(self.step) + ')]' + str(self.count)\n",
    "    def incr(self) :\n",
    "        self.count += self.step\n",
    "    def __call__(self) :\n",
    "        self.incr()\n",
    "    def __add__(self, B) :\n",
    "        return Counter(self.count + B, self.step)\n",
    "    def __sub__(self, B) :\n",
    "        return Counter(self.count - B, self.step)\n",
    "    def __cmp__(self, B) :\n",
    "        return self.count - B"
   ]
  },
  {
   "cell_type": "code",
   "execution_count": 51,
   "metadata": {
    "collapsed": false
   },
   "outputs": [
    {
     "name": "stdout",
     "output_type": "stream",
     "text": [
      "[Count (step: 1)]10\n",
      "[Count (step: 2)]10\n",
      "\n",
      "\n",
      "[Count (step: 1)]11\n",
      "[Count (step: 2)]12\n",
      "\n",
      "\n",
      "[Count (step: 1)]12\n",
      "[Count (step: 2)]14\n",
      "\n",
      "\n",
      "[Count (step: 1)]17\n",
      "[Count (step: 2)]9\n",
      "\n",
      "\n",
      "True\n",
      "False\n",
      "False\n",
      "True\n",
      "True\n",
      "False\n"
     ]
    }
   ],
   "source": [
    "c = Counter(10)\n",
    "d = Counter(10, 2)\n",
    "\n",
    "print c \n",
    "print d \n",
    "print; print;\n",
    "\n",
    "c.incr() \n",
    "d.incr() \n",
    "print c\n",
    "print d\n",
    "print; print;\n",
    "\n",
    "c()\n",
    "d()\n",
    "print c\n",
    "print d\n",
    "print; print;\n",
    "\n",
    "c = c + 5 \n",
    "d = d - 5 \n",
    "print c \n",
    "print d\n",
    "print; print;\n",
    "\n",
    "print c > 10 \n",
    "print d > 10 \n",
    "print c < 10 \n",
    "print d < 10 \n",
    "print c == 17 \n",
    "print d != 9 "
   ]
  },
  {
   "cell_type": "markdown",
   "metadata": {},
   "source": [
    "2개의 인자를 받는 Counter 클래스에 생성자 메소드, 값 증가 메소드(incr()), 호출 메소드, 수치 연산자 메소드, 비교 연산 메소드를 각각의 조건을 만족하도록 재정의하였다."
   ]
  },
  {
   "cell_type": "markdown",
   "metadata": {},
   "source": [
    "###4. 다음은 내장 자료형 list를 서브클래싱하여 만든 MySet 클래스 정의 내용이다. 다음 클래스 정의에서 __init__(), __str()__(), elimicate_duplicate()의 세 개의 메소드 코드 내용을 자신이 다른 사람에게 가르친다고 생각하며 설명해보시오.\n",
    "\n",
    "- MySet은 집합(Set) 자료형을 정의하려는 의도하에 만들어진 클래스이다."
   ]
  },
  {
   "cell_type": "code",
   "execution_count": 3,
   "metadata": {
    "collapsed": false
   },
   "outputs": [
    {
     "name": "stdout",
     "output_type": "stream",
     "text": [
      "MySet: {1 ,2 ,3}\n",
      "MySet: {2 ,3 ,4 ,5 ,6 ,7 ,8 ,9}\n"
     ]
    }
   ],
   "source": [
    "class MySet(list):\n",
    "    def __init__(self, l):\n",
    "        for e in l:\n",
    "            self.append(e)\n",
    "        MySet.eliminate_duplicate(self)\n",
    "    \n",
    "    def __str__(self):\n",
    "        result = \"MySet: {\"\n",
    "        for e in self:\n",
    "            result = result + str(e) + \" ,\"\n",
    "        result = result[0:len(result)-2] + \"}\"\n",
    "        return result\n",
    "\n",
    "    @staticmethod    \n",
    "    def eliminate_duplicate(l):\n",
    "        s = []\n",
    "        for e in l:\n",
    "            if e not in s:\n",
    "                s.append(e)\n",
    "        l[:] = []\n",
    "        for e in s:\n",
    "            l.append(e)\n",
    "\n",
    "    \n",
    "if __name__ == \"__main__\":\n",
    "    s = MySet([1, 2, 2, 3])\n",
    "    print s\n",
    "    t = MySet([2, 3, 4, 5, 6, 7, 8, 8, 8, 8, 8, 9])\n",
    "    print t"
   ]
  },
  {
   "cell_type": "markdown",
   "metadata": {},
   "source": [
    "MySet클래스는 list를 상속받고 있다. 때문에 list 클래스에서 사용되는 함수 등을 MySet클래스에서 사용할 수 있다. --init--함수를 보면 I의 값들을 self에 하나씩 append한 후 정적메소드인 eliminate_duplicate함수를 불러왔다. eliminate_duplicate함수에서는 self(l로 표현)에 있는 값들을 하나씩 검사하여 새로운 리스트인 s에 원소로 존재하는지 확인한 후 존재하지 않을 때에만 append를 하게한다. 그 후 기존에 인자로 받은 l을 유지하며 리스트 내부의 전체 원소들을 없앤 빈(empty) 리스트로 선언하였으며 리스트 s에 있는 값들을 l로 복사하였다. 다음으로 --str--함수를 보면 MySet 객체를 print하였을 때 '{ }'안에 원소가 들어있는 형태로 보여지게 정의되었다."
   ]
  },
  {
   "cell_type": "markdown",
   "metadata": {},
   "source": [
    "###5. 4번 문제에 정의된 MySet 클래스에 메소드를 추가하여 다음 각 요구사항 모두를 만족시키는 코딩을 제시하시오 (정답을 각 요구사항별로 입력할 필요 없이 5번 문제에 대해 1개의 MySet 클래스 정의 코드를 제시하면 된다.)\n",
    "\n",
    "- 정답을 각 요구사항별로 입력할 필요 없이 요구사항 3개 전체에 대해 1개의 MySet 클래스 정의 코드를 제시하고 주석등으로 해당 코드를 설명한다.\n",
    "- 요구사항 1. | 연산으로 두 집합의 합집합을 반환한다.\n",
    "\n",
    "> u = s | t <br />\n",
    "> print u <br />\n",
    "MySet: {1, 2, 3, 4, 5, 6, 7, 8, 9} \n",
    "\n",
    "- 요구사항 2. & 연산으로 두 집합의 교집합을 반환한다.\n",
    "\n",
    "> u = s & t <br />\n",
    "> print u <br />\n",
    "MySet: {2, 3} \n",
    "\n",
    "- 요구사항 3. - 연산으로 두 집합의 차집합을 반환한다.\n",
    "\n",
    "> s = MySet([1, 2, 3]) <br />\n",
    "> t = MySet([3, 4, 5]) <br />\n",
    "> u = s - t <br />\n",
    "> print u <br />\n",
    "MySet: {1, 2} "
   ]
  },
  {
   "cell_type": "code",
   "execution_count": 41,
   "metadata": {
    "collapsed": false
   },
   "outputs": [],
   "source": [
    "class MySet(list):\n",
    "    def __init__(self, l):\n",
    "        for e in l:\n",
    "            self.append(e)\n",
    "        MySet.eliminate_duplicate(self)\n",
    "    \n",
    "    def __str__(self):\n",
    "        result = \"MySet: {\"\n",
    "        for e in self:\n",
    "            result = result + str(e) + \" ,\"\n",
    "        result = result[0:len(result)-2] + \"}\"\n",
    "        return result\n",
    "    \n",
    "    def __or__(self , l) :\n",
    "        result = MySet([])\n",
    "        for e in self :\n",
    "            result.append(e)\n",
    "        for e in l :\n",
    "            if e not in result :\n",
    "                result.append(e)\n",
    "        return result\n",
    "\n",
    "    def __and__(self, l) :\n",
    "        result = MySet([])\n",
    "        for e in self :\n",
    "            if e in l :\n",
    "                result.append(e)\n",
    "        return result\n",
    "    \n",
    "    def __sub__(self, l) :\n",
    "        result = MySet([])\n",
    "        for e in self :\n",
    "            if e in l :\n",
    "                pass\n",
    "            else :\n",
    "                result.append(e)\n",
    "        return result\n",
    "    \n",
    "    @staticmethod    \n",
    "    def eliminate_duplicate(l):\n",
    "        s = []\n",
    "        for e in l:\n",
    "            if e not in s:\n",
    "                s.append(e)\n",
    "        l[:] = []\n",
    "        for e in s:\n",
    "            l.append(e)"
   ]
  },
  {
   "cell_type": "code",
   "execution_count": 43,
   "metadata": {
    "collapsed": false
   },
   "outputs": [
    {
     "name": "stdout",
     "output_type": "stream",
     "text": [
      "MySet: {1 ,2 ,3 ,4 ,5 ,6 ,7 ,8 ,9}\n",
      "\n",
      "\n",
      "MySet: {2 ,3}\n",
      "\n",
      "\n",
      "MySet: {1 ,2}\n"
     ]
    }
   ],
   "source": [
    "if __name__ == \"__main__\":\n",
    "    s = MySet([1, 2, 2, 3])\n",
    "    t = MySet([2, 3, 4, 5, 6, 7, 8, 8, 8, 8, 8, 9])\n",
    "    s = s|t \n",
    "    print s\n",
    "    print; print;\n",
    "    \n",
    "    s = MySet([1,2,3,4])\n",
    "    t = MySet([2,3,5,6])\n",
    "    s = s & t \n",
    "    print s \n",
    "    print; print;\n",
    "    \n",
    "    s = MySet([1, 2, 3]) \n",
    "    t = MySet([3, 4, 5]) \n",
    "    s = s - t \n",
    "    print s"
   ]
  },
  {
   "cell_type": "markdown",
   "metadata": {
    "collapsed": true
   },
   "source": [
    "연산자 '|'을 정의하기 위하여 --or--메소드를 사용하였고, '&'연산자를 정의하기 위하여 --and-- 메소드를,'-'연산자를 정의하기 위해 --sub--메소드를 사용하였다."
   ]
  },
  {
   "cell_type": "markdown",
   "metadata": {},
   "source": [
    "###6. 5번 문제에서 정의한 MySet 클래스에 대해 다음 예제를 수행하면 오류없이 올바르게 동작하는 것을 확인할 수 있다. 다음 예제 내에 있는 len(), bool() 내장함수와 in 키워드 사용 예제가 별다른 메소드 정의를 하지 않았는 데도 올바르게 수행되는 이유를 설명하시오."
   ]
  },
  {
   "cell_type": "code",
   "execution_count": 46,
   "metadata": {
    "collapsed": false
   },
   "outputs": [
    {
     "name": "stdout",
     "output_type": "stream",
     "text": [
      "6\n",
      "True\n",
      "True\n"
     ]
    }
   ],
   "source": [
    "s = MySet([1, 2, 3, 4, 5, 6])\n",
    "\n",
    "print len(s)\n",
    "print bool(s)\n",
    "print 2 in s"
   ]
  },
  {
   "cell_type": "markdown",
   "metadata": {},
   "source": [
    "MySet클래스를 선언할 때 list클래스를 상속받게 하였으므로 MySet클래스는 list클래스에서 사용하는 변수, 함수 등을 사용할 수 있다.<br /> 문제에서 사용된 len(), bool() 내장함수와 in 키워드는 이미 list클래스에서 정의되어 있으므로 MySet클래스에서도 사용할 수 있다."
   ]
  },
  {
   "cell_type": "markdown",
   "metadata": {},
   "source": [
    "###7.  2^(15) = 32768 의 각 자리수를 더하면 3 + 2 + 7 + 6 + 8 = 26 입니다.<br />2^(1000)의 각 자리수를 모두 더하면 얼마입니까?"
   ]
  },
  {
   "cell_type": "code",
   "execution_count": 47,
   "metadata": {
    "collapsed": false
   },
   "outputs": [
    {
     "name": "stdout",
     "output_type": "stream",
     "text": [
      "1366\n"
     ]
    }
   ],
   "source": [
    "number = 2**1000\n",
    "str_sum = 0\n",
    "\n",
    "str_number = str(number)\n",
    "\n",
    "for x in range(0, len(str_number)) :\n",
    "    str_sum += int(str_number[x])\n",
    "    \n",
    "    \n",
    "\n",
    "print str_sum"
   ]
  },
  {
   "cell_type": "markdown",
   "metadata": {},
   "source": [
    "2의 1000승의 값을 문자열로 변환한 뒤 각 자리의 수를 하나씩 읽어 더하였다."
   ]
  },
  {
   "cell_type": "markdown",
   "metadata": {},
   "source": [
    "###8. 1부터 5까지의 숫자를 영어로 쓰면 one, two, three, four, five 이고,<br />각 단어의 길이를 더하면 3 + 3 + 5 + 4 + 4 = 19 이므로 사용된 글자는 모두 19개입니다.<br />1부터 1,000까지 영어로 썼을 때는 모두 몇 개의 글자를 사용해야 할까요?<br /><br />참고: 빈 칸이나 하이픈('-')은 셈에서 제외하며, 단어 사이의 and 는 셈에 넣습니다.<br /> 예를 들어 342를 영어로 쓰면 three hundred and forty-two 가 되어서 23 글자,<br /> 115 = one hundred and fifteen 의 경우에는 20 글자가 됩니다."
   ]
  },
  {
   "cell_type": "code",
   "execution_count": 48,
   "metadata": {
    "collapsed": false
   },
   "outputs": [
    {
     "name": "stdout",
     "output_type": "stream",
     "text": [
      "21124\n"
     ]
    }
   ],
   "source": [
    "eng_num1 = [['one', 'two', 'three', 'four', 'five', 'six', 'seven', 'eight', 'nine', 'ten'],\n",
    "           ['twenty', 'thirty', 'forty', 'fifty', 'sixty', 'seventy', 'eighty', 'ninety', 'hundred', 'thousand']]\n",
    "eng_num2 = ['eleven', 'twelve', 'thirteen', 'fourteen', 'fifteen', 'sixteen', 'seventeen', 'eighteen', 'nineteen']\n",
    "\n",
    "eng_str = ''\n",
    "numofEng = 0\n",
    "\n",
    "#1. 1~10, 20, 30, 40, 50, 60, 70, 80, 90\n",
    "for x in range(2) :\n",
    "    for y in range(10) :\n",
    "        eng_str = eng_num1[x][y]\n",
    "        numofEng += len(eng_str)\n",
    "        #print eng_str\n",
    "#1-2. 100, 200, 300, ..., 900, 1000        \n",
    "for x in range(0,9) :\n",
    "    eng_str = eng_num1[0][x] + eng_num1[1][8]\n",
    "    numofEng += len(eng_str)\n",
    "    #print eng_str\n",
    "eng_str = 'onethousand'; numofEng += len(eng_str);        \n",
    "        \n",
    "#2. 11~19\n",
    "for x in range(9) :\n",
    "    eng_str = eng_num2[x]\n",
    "    numofEng += len(eng_str)\n",
    "    #print eng_str\n",
    "\n",
    "#3. 21~99\n",
    "for x in range(8) :\n",
    "    eng_str = eng_num1[1][x]\n",
    "    for y in range(9) :\n",
    "        eng_str2 = eng_str + eng_num1[0][y]\n",
    "        numofEng += len(eng_str2)\n",
    "        #print eng_str2\n",
    "\n",
    "#4. 110, 120, 130, ..., 970, 980, 990 \n",
    "for x in range(9) :\n",
    "    eng_str = eng_num1[0][x] + eng_num1[1][8] + 'and'\n",
    "    for y in range(8) :\n",
    "        eng_str2 = eng_str + eng_num1[1][y]\n",
    "        numofEng += len(eng_str2)\n",
    "        #print eng_str2\n",
    "for x in range(9) :\n",
    "    eng_str = eng_num1[0][x] + eng_num1[1][8] + 'andten'\n",
    "    numofEng += len(eng_str)\n",
    "    #print eng_str\n",
    "        \n",
    "\n",
    "#5. 121~999\n",
    "for x in range(9) :\n",
    "    eng_str = eng_num1[0][x] + eng_num1[1][8] + 'and'\n",
    "    for y in range(8) :\n",
    "        eng_str2 = eng_str + eng_num1[1][y]\n",
    "        for z in range(9) :\n",
    "            eng_str3 = eng_str2 + eng_num1[0][z]\n",
    "            numofEng += len(eng_str3)\n",
    "            #print eng_str3\n",
    "           \n",
    "#6. 101~109, 201~209, ..., 901~909\n",
    "for x in range(9) :\n",
    "    eng_str = eng_num1[0][x] + eng_num1[1][8] + 'and'\n",
    "    for y in range(9) :\n",
    "        eng_str2 = eng_str + eng_num1[0][y]\n",
    "        numofEng += len(eng_str2)\n",
    "        #print eng_str2\n",
    "\n",
    "#7. 111~119, ... 911~919\n",
    "for x in range(9) :\n",
    "    eng_str = eng_num1[0][x] + eng_num1[1][8] + 'and'\n",
    "    for y in range(len(eng_num2)) :\n",
    "        eng_str2 = eng_str + eng_num2[y]\n",
    "        numofEng += len(eng_str2)\n",
    "        #print eng_str2\n",
    "\n",
    "print numofEng-(len(eng_num1[1][8])+len(eng_num1[1][9])) #hundred, thousand 글자수 제거"
   ]
  },
  {
   "cell_type": "markdown",
   "metadata": {},
   "source": [
    "1부터 10, 11부터 19, 10의 배수들의 알파벳을 리스트에 저장하였다. 다른 방법이 생각나지 않아 글자를 조합할 수 있는 경우를 모두 나누어 각각의 경우들을 더하여 총 알파벳 수를 구하였다."
   ]
  },
  {
   "cell_type": "markdown",
   "metadata": {},
   "source": [
    "###9. 삼각형의 꼭대기부터 아래쪽으로 인접한 숫자를 찾아 내려가면서 합을 구하면, 위의 그림처럼 3 + 7 + 4 + 9 = 23 이 가장 큰 합을 갖는 경로가 됩니다.<br />다음 삼각형에서 합이 최대가 되는 경로를 찾아서 그 합을 구하세요."
   ]
  },
  {
   "cell_type": "code",
   "execution_count": 28,
   "metadata": {
    "collapsed": true
   },
   "outputs": [],
   "source": [
    "str_tri_num=[['75'],\n",
    "        ['95', '64'],\n",
    "        ['17', '47', '82'],\n",
    "        ['18', '35', '87', '10'],\n",
    "        ['20', '04', '82', '47', '65'],\n",
    "        ['19', '01', '23', '75', '03', '34'],\n",
    "        ['88', '02', '77', '73', '07', '63', '67'],\n",
    "        ['99', '65', '04', '28', '06', '16', '70', '92'],\n",
    "        ['41', '41', '26', '56', '83', '40', '80', '70', '33'],\n",
    "        ['41', '48', '72', '33', '47', '32', '37', '16', '94', '29'],\n",
    "        ['53', '71', '44', '65', '25', '43', '91', '52', '97', '51', '14'],\n",
    "        ['70', '11', '33', '28', '77', '73', '17', '78', '39', '68', '17', '57'],\n",
    "        ['91', '71', '52', '38', '17', '14', '91', '43', '58', '50', '27', '29', '48'],\n",
    "        ['63', '66', '04', '68', '89', '53', '67', '30', '73', '16', '69', '87', '40', '31'],\n",
    "        ['04', '62', '98', '27', '23', '09', '70', '98', '73', '93', '38', '53', '60', '04', '23']]"
   ]
  },
  {
   "cell_type": "code",
   "execution_count": 29,
   "metadata": {
    "collapsed": false
   },
   "outputs": [
    {
     "name": "stdout",
     "output_type": "stream",
     "text": [
      "[[75], [95, 64], [17, 47, 82], [18, 35, 87, 10], [20, 4, 82, 47, 65], [19, 1, 23, 75, 3, 34], [88, 2, 77, 73, 7, 63, 67], [99, 65, 4, 28, 6, 16, 70, 92], [41, 41, 26, 56, 83, 40, 80, 70, 33], [41, 48, 72, 33, 47, 32, 37, 16, 94, 29], [53, 71, 44, 65, 25, 43, 91, 52, 97, 51, 14], [70, 11, 33, 28, 77, 73, 17, 78, 39, 68, 17, 57], [91, 71, 52, 38, 17, 14, 91, 43, 58, 50, 27, 29, 48], [63, 66, 4, 68, 89, 53, 67, 30, 73, 16, 69, 87, 40, 31], [4, 62, 98, 27, 23, 9, 70, 98, 73, 93, 38, 53, 60, 4, 23]]\n"
     ]
    }
   ],
   "source": [
    "tri_num = []\n",
    "col = len(str_tri_num)\n",
    "\n",
    "#리스트 내부 문자열 숫자들을 int 숫자로 변환\n",
    "for i in range(col) :\n",
    "    lists = []\n",
    "    for j in range(len(str_tri_num[i])) :\n",
    "        lists.append(int(str_tri_num[i][j]))\n",
    "    tri_num.append(lists)\n",
    "\n",
    "print tri_num"
   ]
  },
  {
   "cell_type": "code",
   "execution_count": 30,
   "metadata": {
    "collapsed": false
   },
   "outputs": [
    {
     "name": "stdout",
     "output_type": "stream",
     "text": [
      "1074\n"
     ]
    }
   ],
   "source": [
    "for i in reversed(range(col-1)) :\n",
    "    for j in range(len(tri_num[i])) :\n",
    "        if(tri_num[i+1][j]>tri_num[i+1][j+1]) :\n",
    "            tri_num[i][j] = tri_num[i][j] + tri_num[i+1][j]\n",
    "        else :\n",
    "            tri_num[i][j] = tri_num[i][j] + tri_num[i+1][j+1]\n",
    "            \n",
    "\n",
    "print tri_num[0][0]"
   ]
  },
  {
   "cell_type": "markdown",
   "metadata": {},
   "source": [
    "숫자가 문자 형태로 입력된 str_tri_num을 우선 int형으로 바꾸어주었다. 처음 문제 풀때는 삼각형의 위부터 아래로 내려가는 형식으로 문제를 풀었는데 내려갈수록 경우의 수가 증가하므로 오류의 확률도 커졌던 것 같다. 때문에 주변의 도움을 받아 다른 접근방법인 삼각형의 아랫부분부터 위로 올라가는 방법을 알게되었습니다. 어떠한 행의 각각 인덱스에 바로 밑에 있는 행에 있는 값들을 더해주어 마지막에 가장 큰 수를 획득하게 하였습니다."
   ]
  },
  {
   "cell_type": "markdown",
   "metadata": {},
   "source": [
    "###10. 다음은 달력에 관한 몇 가지 일반적인 정보입니다 (필요한 경우 좀 더 연구를 해 보셔도 좋습니다). <br />\n",
    "\n",
    "- 1900년 1월 1일은 월요일이다.\n",
    "- 4월, 6월, 9월, 11월은 30일까지 있고, 1월, 3월, 5월, 7월, 8월, 10월, 12월은 31일까지 있다.\n",
    "- 2월은 28일이지만, 윤년에는 29일까지 있다.\n",
    "- 윤년은 연도를 4로 나누어 떨어지는 해를 말한다. 하지만 400으로 나누어 떨어지지 않는 매 100년째는 윤년이 아니며, 400으로 나누어 떨어지면 윤년이다<br />\n",
    "\n",
    "### 20세기 (1901년 1월 1일 ~ 2000년 12월 31일) 에서, 매월 1일이 일요일인 경우는 총 몇 번입니까?"
   ]
  },
  {
   "cell_type": "code",
   "execution_count": 51,
   "metadata": {
    "collapsed": false
   },
   "outputs": [
    {
     "name": "stdout",
     "output_type": "stream",
     "text": [
      "일요일 :  171\n"
     ]
    }
   ],
   "source": [
    "import calendar\n",
    "\n",
    "startYear = 1901\n",
    "endYear = 2000\n",
    "startMonth = 1\n",
    "endMonth = 12\n",
    "count = 0\n",
    "\n",
    "for year in range(startYear, endYear+1) :\n",
    "    for month in range(startMonth, endMonth+1) :\n",
    "        date, day = calendar.monthrange(year, month)\n",
    "        if date==6 :\n",
    "            count += 1\n",
    "            \n",
    "print '일요일 : ',\n",
    "print count"
   ]
  },
  {
   "cell_type": "markdown",
   "metadata": {},
   "source": [
    "파이썬에서는 달력 모듈을 제공한다. 때문에 달력 모듈(calendar)을 사용하였다. monthrange(a, b)함수는 a라는 연도와 b라는 월을 입력받으면 해당 월의 1일이 무슨 요일이고 총 며칠까지 존재하는지를 튜플로 반환한다. 이 때, 일요일은 6으로 반환하므로 date가 6인 경우만 count를 하여 문제를 해결하였다."
   ]
  },
  {
   "cell_type": "markdown",
   "metadata": {},
   "source": [
    "###11. n! 이라는 표기법은 n × (n − 1) × ... × 3 × 2 × 1을 뜻합니다.<br />예를 들자면 10! = 10 × 9 × ... × 3 × 2 × 1 = 3628800 이 되는데, <br />여기서 10!의 각 자리수를 더해 보면 3 + 6 + 2 + 8 + 8 + 0 + 0 = 27 입니다. <br /><br />100! 의 자리수를 모두 더하면 얼마입니까?"
   ]
  },
  {
   "cell_type": "code",
   "execution_count": 52,
   "metadata": {
    "collapsed": false
   },
   "outputs": [
    {
     "name": "stdout",
     "output_type": "stream",
     "text": [
      "648\n"
     ]
    }
   ],
   "source": [
    "def fact(x) :\n",
    "    if x < 0 :\n",
    "        print 'input error'\n",
    "    elif x == 0 or x == 1 :\n",
    "        return 1\n",
    "    else :\n",
    "        return x * fact(x-1)\n",
    "\n",
    "    \n",
    "    \n",
    "num = fact(100)\n",
    "str_num = str(num)\n",
    "tot = 0\n",
    "\n",
    "for x in range(len(str_num)) :\n",
    "    tot += int(str_num[x])\n",
    "\n",
    "print tot"
   ]
  },
  {
   "cell_type": "markdown",
   "metadata": {},
   "source": [
    "팩토리얼 함수를 정의한 후 100!값을 반환받았다. 반환된 값을 문자열 형태로 변환해준 뒤 각 자리수를 하나씩 읽어 더하였다."
   ]
  },
  {
   "cell_type": "markdown",
   "metadata": {},
   "source": [
    "###12. n의 약수들 중에서 자신을 제외한 것의 합을 d(n)으로 정의했을 때, <br />서로 다른 두 정수 a, b에 대하여 d(a) = b 이고 d(b) = a 이면 <br />a, b는 친화쌍이라 하고 a와 b를 각각 친화수(우애수)라고 합니다.<br /><br />예를 들어 220의 약수는 자신을 제외하면 1, 2, 4, 5, 10, 11, 20, 22, 44, 55, 110 이므로 그 합은 d(220) = 284 입니다.<br />또 284의 약수는 자신을 제외하면 1, 2, 4, 71, 142 이므로 d(284) = 220 입니다.<br />따라서 220과 284는 친화쌍이 됩니다.<br /><br />10000 이하의 친화수들을 모두 찾아서 그 합을 구하세요."
   ]
  },
  {
   "cell_type": "code",
   "execution_count": 53,
   "metadata": {
    "collapsed": false
   },
   "outputs": [
    {
     "name": "stdout",
     "output_type": "stream",
     "text": [
      "31626\n"
     ]
    }
   ],
   "source": [
    "#자신을 제외한 약수들을 모두 더한 값을 반환해주는 함수\n",
    "def sumAliquot(num) :\n",
    "    tot = 1\n",
    "    for x in range(2, num) :\n",
    "        if num%x == 0 :\n",
    "            tot += x\n",
    "    return tot\n",
    "\n",
    "num = 1\n",
    "sumAmi = 0\n",
    "\n",
    "while num < 10001 :\n",
    "    num += 1\n",
    "    #d(a) = b, d(b) = a ---> d(d(a)) = a\n",
    "    if(sumAliquot(sumAliquot(num)) == num) :\n",
    "        if(sumAliquot(num) == num) :\n",
    "        #d(a) = a는 쌍이 아니므로 제외한다    \n",
    "            pass\n",
    "        else :\n",
    "            sumAmi += num\n",
    "        \n",
    "print sumAmi"
   ]
  },
  {
   "cell_type": "markdown",
   "metadata": {},
   "source": [
    "친화수는 d(a)=b, d(b)=a를 만족시키는 a와 b를 말한다. 즉 d(d(a))=a를 만족시키는 수를 찾는 것이다. 이 때, 조심해야 하는 부분이 d(a)=a를 만족시키는 수(예로 들면 6)는 친화수가 아니기 때문에 d(d(a))=a를 만족시키는 수들 중에서 d(a)=a인 수를 제외해주어야 한다."
   ]
  },
  {
   "cell_type": "markdown",
   "metadata": {},
   "source": [
    "###13. 이전 Assignment 3 (Assignment 4가 아님)의 마지막 문제는 웹 URL로 지정된 웹페이지를 문자열로 가져와 모든 HTML 태그 및 CSS와 Javascript를 제외한 순수 텍스트를 얻어내고 그 안에 존재하는 단어를 추출하여 각 단어들에 대해 출현빈도를 사전형태({'world': 2, 'hello': 1, 'python': 1})로 저장하여 출력하는 것이었다. 이번에는 Assignment 3을 다시 확장/변형하여 다음과 같은 조건을 만족하도록 구현하시오."
   ]
  },
  {
   "cell_type": "code",
   "execution_count": 84,
   "metadata": {
    "collapsed": false
   },
   "outputs": [],
   "source": [
    "import urllib2\n",
    "import string\n",
    "import operator\n",
    "\n",
    "punc = string.punctuation\n",
    "\n",
    "def urlWordsFrequency(url) :\n",
    "    source = urllib2.urlopen(url).read()\n",
    "    real_source = source\n",
    "    #print source\n",
    "    \n",
    "    for i in range(0, source.count('<script')) :\n",
    "        if source.find('<script') != -1 :\n",
    "            source=source.replace(source[source.find('<script'):source.find('</script>')+9],\"\")\n",
    "        \n",
    "    for i in range(0, source.count('<style')) :\n",
    "        if source.find('<style') != -1 :\n",
    "            source=source.replace(source[source.find('<style'):source.find('</style>')+8],\"\")\n",
    "\n",
    "    for i in range(0, source.count('<!--')):\n",
    "        if source.find(\"<!--\") != -1:\n",
    "            source = source.replace(source[source.find(\"<!--\"):source.find(\"-->\")+3:],\"\")\n",
    "\n",
    "    for i in range(0,source.count(\"<\")):\n",
    "        if source.find(\"<\") != -1:\n",
    "            source = source.replace(source[source.find(\"<\"):source.find(\">\")+1:],\"\")\n",
    "        \n",
    "    words = source.split()\n",
    "\n",
    "    delPuncList = []\n",
    "    puncStr = '' \n",
    "    \n",
    "    # punctuation(구두문자) 제거\n",
    "\n",
    "    for x in words:\n",
    "        puncStr = ''\n",
    "        for y in x:\n",
    "            if y in punc :\n",
    "                puncStr = puncStr + ''\n",
    "            else :\n",
    "                puncStr = puncStr + y\n",
    "        delPuncList.append(puncStr)\n",
    "\n",
    "    # 구두문자 제거 후 출력\n",
    "    #for x in delPuncList :\n",
    "    #    print x\n",
    "\n",
    "    NSpaceList = []\n",
    "\n",
    "    #공백문자 제거\n",
    "    for x in delPuncList :\n",
    "        if x in string.whitespace :\n",
    "            pass\n",
    "        else :\n",
    "            NSpaceList.append(x)\n",
    "\n",
    "    #공백문자 제거 후 출력        \n",
    "    #for x in NSpaceList :\n",
    "    #   print x\n",
    "\n",
    "    #단어 빈도수 확인\n",
    "    url_dic = {}\n",
    "\n",
    "    for x in NSpaceList :\n",
    "        url_dic[x] = NSpaceList.count(x)\n",
    "        \n",
    "    stopWords = [ 'a', 'and', 'are', 'as', 'at', 'be', 'but', 'by', 'for', 'if', 'in', 'into', 'is', 'it', 'no', 'not', 'of', \n",
    "                  'on', 'or', 's', 'such', 't', 'that', 'the', 'their', 'then', 'there', 'these', 'they', 'this', 'to', 'was', \n",
    "                 'will', 'with']\n",
    "\n",
    "    delStopWordList = []\n",
    "\n",
    "    for word in NSpaceList :\n",
    "        if word in stopWords :\n",
    "            pass\n",
    "        else :\n",
    "            delStopWordList.append(word)\n",
    "\n",
    "    #불용성 영어단어 제거        \n",
    "    #for x in delStopWordList :\n",
    "    #    print x\n",
    "\n",
    "    #불용성 영단어 제거 후 단어 빈도수 확인\n",
    "    delStopWord_dic = {}\n",
    "\n",
    "    for x in delStopWordList :\n",
    "        delStopWord_dic[x] = delStopWordList.count(x)\n",
    "    \n",
    "    return delStopWord_dic"
   ]
  },
  {
   "cell_type": "code",
   "execution_count": 15,
   "metadata": {
    "collapsed": false
   },
   "outputs": [],
   "source": [
    "# print getWordsFrequency('http://nytimes.com/')"
   ]
  },
  {
   "cell_type": "markdown",
   "metadata": {},
   "source": [
    "1) 새로운 클래스 WebWordsFrequency를 정의하시오.<br />\n",
    "- 이전 Assignment 4에서 고려했던 pickle 모듈등은 전혀 고려하지 마시오.<br />\n",
    "- 즉, 하드디스크에 저장하고 다시 로드하는 기능은 본 숙제에는 배제하시오.<br />\n",
    "- Assignment 4에서 고려했던 영어 불용어 처리는 적용하시오.<br />\n",
    "- 영어 불용어: [ 'a', 'and', 'are', 'as', 'at', 'be', 'but', 'by', 'for', 'if', 'in', 'into', 'is', 'it', 'no', 'not', 'of', 'on', 'or', 's', 'such', 't', 'that', 'the', 'their', 'then', 'there', 'these', 'they', 'this', 'to', 'was', 'will', 'with']<br />\n",
    "- Assignment 4에서 처럼 국문 사이트가 아닌 영어 사이트만을 고려하여 아래 사항을 코딩하시오.<br /><br />\n",
    "\n",
    "2) 생성자에 URL을 0개에서 임의의 개수를 넣을 수 있도록 생성자 인수를 가변인수로 정의하여 각각의 URL을 리스트 자료형에 유지하시오.<br /><br />\n",
    "\n",
    "3) addUrl() 메소드를 구현하여 인스턴스를 생성한 이후에도 URL을 추가할 수 있도록 한다.\n",
    "- 반드시 1개의 URL을 추가하도록 구현 (즉, 동시에 여러 개의 URL을 추가하는 것은 배제)<br /><br />\n",
    "\n",
    "4) removeUrl() 메소드를 구현하여 URL을 삭제할 수 있도록 한다.\n",
    "- 반드시 1개의 URL을 삭제하도록 구현 (즉, 동시에 여러 개의 URL을 삭제하는 것은 배제)<br /><br />\n",
    "\n",
    "5) listUrls() 메소드를 구현하여 현재 등록된 모든 URL을 출력하는 기능을 추가<br /><br />\n",
    "\n",
    "6) getWordsFrequency() 메소드를 구현하여 각 URL의 웹페이지들을 종합적으로 분석한 단어 출현 빈도 사전을 반환하시오.\n",
    "\n",
    "- 만약 등록된 URL이 없다면 공백 사전을 반환<br /><br />\n",
    "\n",
    "7) getMaxFreqencyWords() 메소드를 구현하여 각 URL의 웹페이지들을 종합적으로 분석한 단어 출현 빈도 사전에서 가장 많이 출현한 단어 리스트를 반환하시오.\n",
    "- 최다 출현 단어의 빈도수가 동일한 경우 모두 출력해주어야 함\n",
    "- 만약 등록된 URL이 없다면 None을 반환"
   ]
  },
  {
   "cell_type": "code",
   "execution_count": 127,
   "metadata": {
    "collapsed": false
   },
   "outputs": [],
   "source": [
    "class WebWordsFrequency() :\n",
    "    def __init__(self, *l) :\n",
    "        self.List = []\n",
    "        for k in l :\n",
    "            self.List.append(k)\n",
    "            \n",
    "    def addUrl(self, l) :\n",
    "        if l not in self.List :\n",
    "            self.List.append(l)    \n",
    "            \n",
    "    def removeUrl(self, l) :\n",
    "        if l in self.List :\n",
    "            self.List.remove(l)\n",
    "            \n",
    "    def listUrls(self) :\n",
    "        for each in self.List :\n",
    "            print each\n",
    "            \n",
    "    def getWordsFrequency(self) :\n",
    "        totalUrlDic = {} \n",
    "        for each in self.List :\n",
    "            urlDic = urlWordsFrequency(each)\n",
    "            for word in urlDic :\n",
    "                if word not in totalUrlDic :\n",
    "                    totalUrlDic[word] = urlDic[word]\n",
    "                else :\n",
    "                    totalUrlDic[word] += urlDic[word]\n",
    "        return totalUrlDic\n",
    "            \n",
    "    def getMaxFrequencyWords(self) :\n",
    "        totalUrlList = []\n",
    "        totalUrlDic = self.getWordsFrequency()\n",
    "        sortDicTuple = sorted(totalUrlDic.items(), key=lambda item:item[1], reverse=True)\n",
    "        \n",
    "        maxFrq = sortDicTuple[0][1]\n",
    "        \n",
    "        if maxFrq == None :\n",
    "            return 'None'\n",
    "        else :\n",
    "            for x in sortDicTuple :\n",
    "                \n",
    "                if x[1] < maxFrq :\n",
    "                    break                   \n",
    "                else :\n",
    "                    totalUrlList.append(x[0])\n",
    "            \n",
    "            return totalUrlList       "
   ]
  },
  {
   "cell_type": "code",
   "execution_count": 132,
   "metadata": {
    "collapsed": false
   },
   "outputs": [
    {
     "name": "stdout",
     "output_type": "stream",
     "text": [
      "http://www.times.com\n",
      "https://www.amazon.com\n",
      "https://github.com\n",
      "\n",
      "http://www.cnn.com\n"
     ]
    }
   ],
   "source": [
    "#조건 2\n",
    "w1 = WebWordsFrequency('http://www.cnn.com', 'http://www.times.com', 'https://www.amazon.com') \n",
    "w2 = WebWordsFrequency('http://www.cnn.com', 'http://www.times.com') \n",
    "w3 = WebWordsFrequency() \n",
    "\n",
    "#조건 3\n",
    "w1.addUrl('https://github.com')\n",
    "w3.addUrl('http://stackoverflow.com')\n",
    "\n",
    "#조건 4\n",
    "w1.removeUrl('http://www.cnn.com')\n",
    "w2.removeUrl('http://www.times.com')\n",
    "\n",
    "#조건 5\n",
    "w1.listUrls()\n",
    "print\n",
    "w2.listUrls()"
   ]
  },
  {
   "cell_type": "code",
   "execution_count": 129,
   "metadata": {
    "collapsed": false,
    "scrolled": true
   },
   "outputs": [
    {
     "name": "stdout",
     "output_type": "stream",
     "text": [
      "{ Appear : 1, NYT : 2, Improvement : 1, Does : 1, Frictionless : 1, Buenos : 1, 6pm : 1, NYC : 3, Warnings : 1, Parenthood : 1, Nytimescom : 1, Cases : 2, Encounter : 1, updated : 1, Key : 1, Getaway : 1, Shook : 1, Stones : 1, Go : 5, Paul : 2, enjoy : 1, direct : 1, Version : 1, 4 : 1, Amazon : 8, new : 2, wwwamazoncomaccess : 1, Made : 4, AustraliaBrazilCanadaChinaFranceGermanyIndiaItalyJapanMexicoNetherlandsSpainUnited : 1, affiliates : 1, studio : 1, Addicted : 1, 100 : 3, Theres : 1, Pushes : 1, Tuesday : 3, Verge : 1, Home : 10, changes : 2, City : 1, Support : 1, Behind : 4, Book : 2, Health : 8, would : 2, deploy—all : 1, Includes : 1, music : 1, Included : 1, Carbon : 1, until : 1, Diabetes : 2, Millimeters : 1, 91 : 1, Hacking : 3, Crowd : 1, Habit : 1, Rubio : 1, SABRINA : 1, movies : 1, Advertisers : 1, La : 2, 554 : 1, Capital : 1, Grocery : 1, Diaperscom : 1, Bruni : 1, Digital : 6, Meets : 2, Editorials : 1, Watching : 1, Killing : 1, Muslims : 1, Jordan : 1, Jungleecom : 1, A : 8, earlier : 1, Interrupted : 1, Sale : 2, wrong : 1, Carlos : 1, Gear : 2, All : 5, Beyond : 2, wind : 1, feedback : 1, JOANNE : 1, murals : 1, ELLEN : 1, KATRIN : 1, His : 4, Cruelty : 1, Soapcom : 1, better : 1, Birth : 1, Sorrentino’s : 1, Path : 2, Him : 1, SAT : 2, them : 1, UsBecome : 1, Pfizer : 1, Bundles : 1, Travels : 1, Cards : 2, Ads© : 1, Attackers : 3, Indie : 2, India : 3, API : 1, Black : 1, went : 1, Plot : 1, hosted : 1, COOPER : 1, open : 2, Navarro’s : 2, Guns : 1, content : 2, reader : 1, Must : 1, Join : 1, Sofa : 1, Work : 2, Abortion : 1, free : 2, campaigns : 1, Circuit : 1, wanted : 1, Melody : 1, Shootings : 2, Clinton : 2, Contributors : 1, starts : 1, privacy : 1, 160160160Baby : 1, AmazonGlobal : 1, Lopsided : 1, features : 2, Prepare : 1, Please : 4, Cell : 1, another : 2, Quilting : 1, service : 1, top : 1, Barria : 1, Press : 1, recent : 1, Search : 4, Rare : 1, FrontRunners : 2, Set : 1, Features : 2, showed : 2, Cyber : 1, Sex : 1, project : 2, Elected : 1, See : 8, Adele : 1, friend : 1, Sea : 1, TAVERNISE : 1, fashion : 1, Easy : 3, wideranging : 1, Chicago : 2, Transgender : 1, Williams : 1, Flight : 2, 1965 : 1, Trends : 2, Computers : 2, optimized : 1, letter : 1, Side : 2, Bernie : 1, Yoyocom : 1, Clothing : 3, Narendra : 1, Election : 1, Want : 1, Morris’s : 1, Its : 2, AmazonInvestor : 1, Albany : 1, Union : 1, lethal : 1, Knitting : 1, menu : 1, Photography : 2, Game : 1, Free : 1, Records : 1, integrate : 1, Furniture : 1, Account : 1, Level : 1, despite : 1, Quick : 1, X : 1, Piece : 1, Looms : 1, Leaders : 1, countries : 1, Over : 2, Washington : 1, ProductsAmazoncom : 1, ALEXANDER : 1, Inheritance : 1, Pet : 2, NoticeInterestBased : 1, John : 1, said : 2, Auto : 1, away : 1, Rise : 2, Choice : 2, previous : 1, terms : 1, Settings : 1, OpEd : 6, improve : 1, climate : 1, McDonald : 1, against : 1, KAUFMAN : 1, Classifieds : 1, Apartment : 2, Whiskers : 1, Amazoncom : 2, Zappos : 1, conference : 1, Sewing : 2, Closely : 1, PoliciesAmazon : 1, families : 1, AmazoncomTodays : 1, craft : 1, Verdict : 2, Stuart : 1, Upper : 1, Into : 1, Manage : 1, CALLIMACHI : 1, Writers : 1, Collectibles : 1, seven : 1, Mens : 1, Bush : 1, Here’s : 1, LEARN : 1, Palley : 1, Main : 1, Obama’s : 2, make : 3, Newman : 1, President : 1, Won’t : 1, Room : 2, Institute : 2, unyielding : 1, characters : 1, AmazonSell : 2, practiced : 1, 1972 : 1, savings : 1, AfterSchoolcom : 1, corporate : 1, left : 1, Sheldon : 1, ReplacementsManage : 1, photo : 1, Passage : 1, Toy : 1, Happy : 1, ‘Aha’ : 1, Oscar : 2, ease : 1, Privacy : 2, had : 1, Undeserving : 1, News : 6, has : 1, Reset : 1, Tinderbox : 1, Wins : 1, Taking : 1, possible : 1, Try : 2, Audible : 1, Wine : 1, Art : 3, Trump : 2, performing : 1, 50 : 1, Are : 1, Newsletters : 1, Puts : 3, people : 1, PaperVideo : 1, GILLIS : 1, Life : 1, creative : 1, Gifts : 1, Dave : 3, Facebook : 1, Ho : 1, collaboration : 3, repository : 1, AirAsia : 1, Place : 1, Bacall’s : 1, First : 5, OS : 1, ShortOrder : 1, commit : 1, efforts : 1, Best : 1, Use : 1, allAmazon : 1, Make : 1, down : 1, Few : 1, right : 1, Draft : 4, ISIS : 2, Hand : 1, Break : 1, way : 1, Shopbop : 1, Baseball : 3, PointsCredit : 1, 19962015 : 1, solar : 1, Emotional : 1, SugarShy : 1, Left : 3, LongHidden : 1, Phenomena : 1, Parking : 1, Counts : 2, panels : 1, Sir : 1, Publishing : 4, Personal : 2, request : 1, Six : 1, OpenBox : 1, Virgin : 1, Begin : 2, Maya : 1, us : 1, handed : 1, ambitious : 1, Pages : 1, onefifth : 1, E : 1, Windows : 1, Hunt : 1, Trial : 3, DealsGift : 1, Airline : 1, AmazonFresh : 1, apologizing : 1, longer : 1, Estate : 4, Win : 1, together : 1, Second : 2, Renminbi : 1, Times : 12, Emily : 1, Title : 1, Desktop : 1, BARBARO : 1, Today : 1, 160160160Women : 1, CORRALES : 1, Kirkman : 1, 0 : 1, Grandpa : 1, Day : 3, Prize : 1, Lookcom : 1, CORAL : 1, Tech : 4, Where : 2, Just : 2, Global : 4, gun : 1, ConverterLet : 1, team : 1, you’ll : 1, Organizer : 1, Debate : 2, Unrepeatable : 1, Savory : 1, Hardened : 1, Subscriptions : 6, Automotive : 1, Notable : 1, Ford : 1, Cruz : 2, Robotic : 1, During : 1, Francis : 1, Peculiar : 1, Ago : 1, water : 1, Woman : 1, groups : 1, Breaker : 1, My : 1, appears : 1, change : 1, Associated : 1, Slipped : 1, Dead : 2, Tomorrow : 1, Legacy : 1, navigation : 1, love : 2, Menus to : 1, When : 2, Aszu : 1, UsePrivacy : 1, Sanders : 1, Customers : 1, Hungarian : 1, Dies : 2, Visa : 1, Designers : 1, Revamped : 1, Benefits : 1, Opera : 1, Orchestra : 1, McKINLEY : 1, Notebook : 6, cases : 1, lowercase : 1, Celebrations : 1, timesvideo : 1, Family : 1, reviews : 1, can : 1, Appliances : 1, Our : 2, Tells : 3, Out : 3, nursing : 1, softcore : 1, Media : 1, Regents : 1, Terms : 3, discussion : 2, Who : 1, Munich : 1, 1 : 1, Spin : 1, Why : 2, product : 1, applications : 1, Become : 1, revealed : 1, Calendar : 1, man : 1, branches : 1, Shoes : 3, Series : 2, so : 1, Ship : 1, exclusive : 1, FOURQUET : 1, Breaking : 1, nbsp : 10, Relevance : 1, Boggess : 2, police : 1, Views : 1, Cruz’s : 1, window : 2, Moving : 1, policy : 1, World : 7, loophole : 1, twohour : 1, Socialist : 1, Choices : 1, 1957 : 1, EDITORIAL : 1, Unusually : 1, now : 1, BeautyBarcom : 1, Insider : 3, Simple : 1, Skip : 3, repositories : 1, Deadline : 1, Live : 1, Added : 2, ‘Hamilton’ : 1, Leftovers : 1, Aires : 1, Consolation : 1, LineShop : 1, Aiming : 1, shows : 1, inevitably : 1, Stone : 1, after : 1, Theater : 2, Carpetbagger : 1, “great : 1, TenMarkscom : 1, Stand : 3, Security : 4, Sunday8217 : 1, Walking : 1, Money : 1, Sign : 5, first : 1, 627 : 1, one : 4, Start : 1, Rates : 1, Stars : 1, Onstage : 2, millions : 1, city : 1, little : 1, Monday : 1, 2 : 2, Nesting : 1, JOHN : 1, Data : 1, TwoDay : 1, IMF : 1, Storage : 1, Enterprise : 2, copy : 2, 13 : 1, Love : 1, World’s : 1, optimism : 1, Analytics : 1, future : 1, Advertise : 1, browser : 1, 360degree : 1, Philadelphia : 1, Valley : 3, Do : 2, Refused : 1, destroy : 1, Articles : 2, multiple : 1, Dealers : 1, Unlike : 1, assault : 1, Depository : 1, GOP : 1, icon : 1, byDepartment : 1, George : 1, raquo : 34, massacres : 1, Groceries : 1, Accounting : 1, Ascent : 2, review : 1, laws : 1, Web : 2, Reuters : 1, Role : 1, AccountSign : 1, We : 2, upgrade : 1, gwftGrdesktopherosoftlines : 1, Handpicked : 1, black : 2, Services : 6, Surprising : 2, get : 1, Magazine : 7, Products : 1, Right : 1, across : 1, 8216Bloody : 1, Education : 4, Apps : 2, Crew : 1, BOARD : 1, calendar : 1, Cred : 2, Worldwide : 1, Shopping : 1, Breaks : 1, enough : 1, Than : 1, screen : 1, Sense : 1, signaled : 1, BERNARD : 1, Marco : 1, Sweetness : 1, Facing : 2, Phones : 2, Primary : 1, Through : 2, Death : 1, Travel : 5, Note : 1, crew : 1, Events : 3, Bets : 1, sensible : 1, arts : 1, Assembly : 1, Electric : 1, Beauty : 4, arty : 1, But : 2, mark : 1, Schools : 1, BURNS : 1, 500 : 1, Lawn : 1, shopping : 1, Learn : 3, Action : 1, former : 1, those : 1, Needed : 2, Commander : 1, Lauren : 1, Woot : 1, Additional : 1, Content : 1, middle : 1, Kids : 2, Compelling : 1, fame : 1, Protesters : 1, Mobile : 2, Vinyl : 1, 7mo : 1, Silver : 3, I : 4, Clear : 1, refusal : 1, Apparel : 1, Patio : 1, DVDs : 1, Is : 13, 2015Today’s : 1, It : 1, TV : 7, Rent : 1, In : 11, DEWALT : 1, Carell : 1, Physical : 1, Loading : 2, Service : 1, being : 1, actress : 1, Wagcom : 1, room” : 1, tools : 2, death : 1, Jobs : 1, Spot : 1, it’s : 1, Applications : 1, treatment : 1, Anonymous : 2, Scores : 2, Approved : 1, Roller : 1, Spoiler : 1, ‘Love’ : 1, Cams : 1, Guilty : 2, Crafts : 1, amp : 1, Trips : 1, Talk : 1, Shop : 6, Beals : 1, Share : 1, SOUTHALL : 1, Streaming : 1, Something : 1, 中文 : 1, ‘A : 1, Dress : 1, Before : 1, Jewelry : 1, West : 1, Mark : 1, DevicesHelp : 1, Printers : 1, Terror : 2, International : 2, MixUp : 1, York’s : 1, Rites : 1, Answers : 1, Projects : 1, Begins : 3, CreateSpace : 1, Comics : 1, communicate : 1, pastors : 1, Outdoors : 1, AccountTryPrimeYourListsCart : 1, Transit : 1, maker’s : 1, OrdersShipping : 1, EkoParty : 1, Story : 2, Heads : 3, No : 2, communication : 1, Away : 1, accounts : 1, UsSell : 1, posters : 1, Meeting : 1, your : 10, Store : 3, BoehnerLike : 1, Week : 1, Tokaji : 1, Hotel : 1, NY : 3, Prestige : 1, Obama : 1, VendorrsaquoSee : 1, J : 1, Kitchen : 3, Known : 1, Medicines’ : 1, Error : 2, Guide : 3, Broadway’s : 1, ‘The : 6, House : 1, Close : 2, agree : 1, Delivered : 1, videos : 2, Dismissed : 2, an : 6, Blog : 1, How : 2, Real : 4, again : 1, Algebra : 2, storage : 1, Helping : 1, 5 : 1, you : 5, Climate : 11, collaborative : 1, includes : 1, Reload : 2, BENNHOLD : 1, Governmentwatchdog : 1, tackle : 1, Addiction : 1, Essay : 1, Credit : 3, nbspComments : 3, Direct : 1, Pantry : 1, Street : 2, Year : 2, HASSAN : 1, all : 2, Dishes : 1, CDs : 1, code : 3, Take : 1, follow : 1, DAVENPORT : 1, apartment : 1, Unlocked : 1, pledges : 1, Training : 1, far : 1, Listings : 2, Alaska : 1, Conversation : 1, fall : 1, Ring : 1, rate : 1, lawyer : 1, East : 1, what : 3, Straying : 1, Released : 2, Cultural : 2, Worked : 1, Pricing : 2, Rhetoric : 1, Short : 1, Clouds : 1, Gift : 2, Tracing : 1, Departments : 1, Patti : 1, Contact : 2, operating : 1, Briefing : 1, Baudelaire’s : 1, Sonnabend : 1, search : 3, ArtsBeat : 2, conviction : 1, allows : 1, experience : 1, healthier : 1, action : 1, Calorie : 2, Style : 4, via : 2, W : 1, Top : 2, Sparkling : 1, Too : 1, Animal : 1, ET : 7, Crash : 1, Explorer : 1, Automobiles : 2, Lives : 1, Russian : 1, more : 13, Philippines : 1, Mass : 2, Found : 1, Looking : 1, include : 1, Menus : 2, Your : 12, Inc : 2, Conference : 1, Different : 1, Laquan : 1, accept : 1, Speaker : 2, Dead’ : 1, occasionally : 1, Fall : 2, Yolanda : 1, Television : 4, plans : 1, Audiobook : 1, 617 : 1, brands : 1, short : 1, DevicesMake : 1, Player : 2, Film : 1, What : 5, help : 1, YouYour : 1, Forces : 1, Supplies : 1, its : 2, 25 : 1, Full : 1, 21 : 1, systems : 1, Sues : 1, Brussels : 3, Blood : 1, Wiz’ : 3, Shenanigans : 1, Bag : 2, PrimeReturns : 1, Muñoz : 1, Off : 2, always : 1, refresh : 2, Fabric : 1, energy : 1, Sports : 6, Joseph : 1, 160160160Boys : 1, Warehouse : 1, Reading : 1, More : 10, try : 1, Door : 1, Kids’ : 1, Packing : 1, Astronomy : 1, Cool : 1, members : 2, Opinion : 14, Male : 1, JUSTIN : 1, Years : 1, Expect : 1, feel : 2, EmailedMost : 1, Dangers : 1, Corruption : 1, story : 2, Becomes : 2, least : 1, Nonprofits : 1, Paolo : 1, crop : 1, Todayrsquos : 2, Road : 2, BestSelling : 2, Puzzle : 2, Toys : 2, terrorism” : 1, BARRY : 1, Yearley : 1, headings : 1, built : 2, Club : 1, AccountYour : 1, also : 2, build : 1, hurling : 1, With : 15, Episode : 1, Attacks : 1, most : 1, sponsored : 1, plan : 2, darts : 1, The : 43, Finds : 1, Google : 2, Eldar : 1, gwftGrdesktopheropiv : 1, Subscribe : 4, Cost : 1, Cloud : 1, PopUp : 1, didn’t : 1, United : 1, Hill : 1, ADEEL : 1, Has : 3, Kingdom : 1, justice : 1, Explore : 1, Sellers : 1, Prime : 6, his : 2, MarketplaceAmazon : 1, Wife : 1, Son’ : 2, Son” : 1, Navarro : 1, him : 1, target : 1, Help : 4, Powerful : 2, Minneapolis : 1, recommendations : 1, Attendance : 1, Plays : 1, Essentials : 1, For : 5, Create : 1, RUKMINI : 1, Negotiators : 1, declined : 1, Questionable : 1, Brainy : 1, matter : 1, Critics : 1, fans : 1, bigots : 1, recently : 1, Could : 1, interface : 1, Dane : 1, Maker : 1, Spurred : 1, Hard : 1, Steve : 1, Mosul : 1, Todd : 1, Happiness : 1, DPReview : 1, hackers : 1, Ballet : 1, community : 1, ProductsSelfPublish : 1, Online : 2, desktop : 1, Play : 2, GitHub : 10, described : 1, create : 1, Shells : 1, political : 1, RevolvingDoor : 1, Most : 2, God : 1, meeting : 1, Card : 1, Women : 1, RelationsAmazon : 1, flight : 1, Textbooks : 1, Polls : 1, gwftGrdesktopherokindleB : 1, gwftGrdesktopherokindleA : 1, lives : 1, Software : 1, Didn8217t : 1, Todays : 3, look : 2, Journeys : 1, Taste : 1, Sales : 1, Booth : 1, HARCOURT : 1, Miss : 1, Market : 3, Concern : 2, Emerges : 1, Sleeping : 2, government : 1, Alert : 1, Extraordinary : 1, 9 : 1, numeral : 1, development : 2, About : 4, Movies : 6, JetBlue : 1, Charged : 1, integrations : 1, ComiXology : 1, Ryazanov : 1, Technology : 1, Food : 5, Rate : 1, Economic : 2, Names : 1, Talks : 4, organization : 1, Tools : 2, know : 1, Living : 2, Handmade : 1, Corporate : 3, Survivors : 1, Internet : 2, Faulty : 1, letting : 1, PERLROTH : 1, loading : 1, VTech : 1, source : 2, GoPro : 1, Brands : 1, input : 1, Marine : 1, Distraction : 1, On : 4, Last : 2, unlimited : 1, Air : 1, Defends : 1, inYour : 2, projects : 4, Contributing : 1, Computing : 1, Cohen : 1, indication : 1, Columnists : 1, Dakota : 1, Fine : 1, Find : 1, world’s : 1, Wearables : 1, Email : 3, HighSalt : 1, Frank : 1, Scalable : 1, Look : 3, Bill : 3, David : 2, gwftGrdesktopheroH : 1, Hello : 1, Bars : 1, Argentines : 3, VineMarketcom : 1, MYHABIT : 1, Young : 1, servers : 1, Everything : 6, USBacked : 1, ACX : 1, Normal : 3, User : 1, Coverage : 1, JOYCE : 1, elsewhere : 1, Deals : 2, link : 1, Opinionator : 1, Christmas’ : 1, directed : 1, Cities : 1, Office : 1, Ditches : 1, up : 4, Murray : 5, Books : 9, Cruise : 1, called : 1, flocked : 1, To : 3, Attack : 1, New : 16, Sierra : 2, Upshot : 2, Manhattan : 1, Map : 1, Murder : 3, Conservatives’ : 1, May : 1, clicking : 1, politicians : 1, 160160160Men : 1, Background : 1, Man : 1, Durst’s : 1, AM : 8, Laughing : 1, Making : 2, Audio : 1, ago : 1, Ad : 1, Weddings : 1, turbines : 1, An : 2, As : 2, protests : 1, 2008 : 1, sounded : 1, Sell : 2, Guardia : 2, gt : 1, Mother’s : 3, Leftovers’ : 1, Saint : 2, go : 1, Rock8221 : 1, contributions : 1, issues : 1, Designer : 4, shackles : 1, Business : 6, send : 1, attackers : 1, Not : 1, Nov : 1, Now : 4, Region : 1, Wheels : 1, Angelou : 1, Emerging : 1, Related : 1, deals : 1, session : 2, Disaffection : 1, Select : 1, CardAmazoncom : 2, Index : 1, Zimmermann : 1, Cameras : 1, Long : 2, State : 3, uncomfortable : 1, Sections : 3, Tshirts : 1, Wounds : 1, access : 1, Assault : 1, America : 2, Lebowitz : 1, Publisher : 3, proliferation : 1, Homeless : 1, explore : 1, Green : 3, Prompt : 3, Is Littered : 1, 32 : 1, ‘Black : 1, Back : 2, Children : 3, suggests : 1, Big : 2, Download : 1, Robert : 2, Multimedia : 2, 330 : 1, private : 1, Stamina : 2, Conditions : 1, Mock : 1, Status : 1, use : 2, from : 5, Sold : 1, seamless : 1, next : 1, few : 1, Membership : 1, 160160160Girls : 1, Lang : 1, started : 1, Editorial : 4, Reward : 1, account : 1, Feedback : 1, Choreographer : 2, Score : 1, Video : 7, Traveler : 1, 8216Humble8217 : 1, Began : 1, Cultured : 1, Details : 1, tab : 2, hit : 1, native : 1, Smartwatches : 1, ViewedRecommended : 1, Paper : 1, Payment : 2, Boarding : 1, Reporter’s : 3, ‘Unsafe : 1, Ryan : 1, Pinups : 1, Outdoor : 1, Letters : 1, lines : 1, One : 2, Politics : 4, software : 4, Expensive : 1, OvertheCounter : 1, Smith : 1, Airbnb : 1, report : 1, Troubling : 1, Final : 1, Strives : 1, perfect : 1, Himself : 2, Scientific : 1, Serena : 1, Brooks : 2, emails : 1, Director : 1, Pressure : 1, Casacom : 1, Luis : 1, 2016 : 3, Blamed : 1, Dissolving : 1, Miami : 2, Car : 1, Loser : 1, day : 1, Accessories : 1, Replica : 1, LAURE : 1, Luxury : 1, Arts : 7, From : 3, 8220School : 1, related : 1, Next : 1, 88 : 1, books : 1, Print : 1, our : 1, 80 : 1, out : 3, Very : 1, Season : 2, Great : 1, China : 4, Baby : 2, memes : 1, Change : 5, supports : 1, Reveal : 1, This : 1, British : 1, Corrections : 1, Topics : 1, Celebrities : 1, Currency : 4, Aces : 1, Review : 5, Pros : 1, Convicted : 1, ‘Youth’ : 1, “Mourning : 1, management : 1, start : 2, Fran : 1, View : 1, Javier : 1, RunnerUp : 1, Portraits : 1, Edition : 1, JESSE : 1, Speed’ : 1, comfortable : 1, Other : 1, Pirelli : 1, have : 3, need : 1, Activities : 1, After : 7, 321 : 3, Focused : 1, NICOLE : 1, Rolling : 1, Ticket : 1, Blogs : 1, who : 3, Solution : 2, delayed : 1, Without : 1, Games : 4, Horizon : 1, Modi : 1, Instruments : 1, Some : 1, Pop : 1, Donald : 1, CardsSellHelp : 1, Father’s : 1, Paris : 11, text : 1, Public : 3, Math : 1, tire : 1, should : 1, Failure : 2, York : 9, Homes : 1, Flags’ : 1, Industrial : 1, THE : 1, River : 1, teams : 2, Broadway : 4, Guarantee : 1, Jurors : 1, Disbelief : 1, officials : 2, progress : 1, bought : 1, Jane’s : 1, Silicon : 3, Race : 2, Precedent : 1, Design : 2, Lawyer : 1, comment : 1, Log : 1, Music : 2, respect : 1, Holiday : 3, quit : 1, Rewards : 1, Get : 3, COHEN : 1, expressed : 1, Obituaries : 2, Ryan’s : 1, Gen : 1, powerful : 1, collaborators : 1, FREE : 1, Face : 1, 2015 : 3, gwftGrdesktopheroprime : 1, Wordplay : 1, 2014 : 2, decades : 1, Number : 1, Dance : 2, Know : 2, AmazonBecome : 1, Any : 1, MORE : 1, UsCareersAbout : 1, You : 3, Beach : 1, CoverUp : 1, Garden : 1, perhaps : 1, landmarks : 1, NYTimescom : 2, largest : 1, Luggage : 1, student : 1, Keeps : 1, States : 1, Have : 1, Need : 1, position : 1, Reformers : 1, usual : 1, Influenced : 1, guitarist : 1, Internationally : 1, Gourmet : 1, Sunday : 2, distant : 1, Weeks : 1, Dark : 1, DeanRex : 1, Company : 1, By : 16, enact : 1, Budget’s : 1, Governor’s : 1, Programs : 1, Shipping : 1, T : 3, Their : 1, Fashion : 5, like : 2, AffiliateAdvertise : 1, Honed : 2, become : 1, Satire : 4, ExAssembly : 1, Quiz : 1, Crossword : 4, Editor : 2, Breach : 1, Newly : 1, “dartboard : 1, ASHLEY : 1, lead : 1, Discounts : 2, Inside : 1, MICHAEL : 2, China’s : 1, Us : 5, Planned : 1, Kindle : 3, about : 3, world : 1, getting : 1, staked : 1, December : 1, US : 6, Americans : 2, Questions : 1, documentary : 1, Mayor : 1, executives : 1, Returns : 3, Alerts : 1, Iraqi : 1, Handwarmers : 2, Thousands : 1, Evolving : 1, Alexa : 1, Secular : 2, Musical : 1, IMDb : 1, Talent : 3, Science : 4, Actionable : 1, It’s : 1, he : 1, made : 1, Contraception : 1, official : 1, Ted : 2, signed : 2, · : 1, problem : 1, Care : 3, Moment’ : 1, » : 2, website : 1, contribute : 2, AbeBooks : 1, Discover : 1, Electronics : 2, shooting : 1, campus : 1, Goodreads : 1, Tarts : 1, Wines : 1, Million : 2, Delivery : 2, details : 1, star : 1, Like : 1, ‘Mourning : 2, BusinessSell : 1, Exams : 2, Page : 1, South : 1, Site : 3, Private : 2, Contributor : 2, Shooting : 1, Orders : 2, }\n"
     ]
    }
   ],
   "source": [
    "#조건 6(w1객체)\n",
    "resultFrq = w1.getWordsFrequency()\n",
    "\n",
    "print '{',\n",
    "for x in resultFrq :\n",
    "    print '%s : %d,' % (x, resultFrq[x]), \n",
    "print '}'"
   ]
  },
  {
   "cell_type": "code",
   "execution_count": 134,
   "metadata": {
    "collapsed": false
   },
   "outputs": [
    {
     "name": "stdout",
     "output_type": "stream",
     "text": [
      "{ Putins : 1, Breaking : 1, EditionUSInternationalArabicEspañolSet : 2, HeroesImpact : 1, suicideCould : 1, GoogleCNN : 1, brink : 1, NewsToggle : 1, unable : 1, Watch : 2, crew : 1, EastAfricaEuropeAmericasVideoMust : 2, preferenceConfirmSearchNewsWorldSportTechnologyEntertainmentStyleTravelMoneyRegionsUSChinaAsiaMiddle : 1, crashAir : 1, 2015 : 1, World : 1, found12 : 1, gave : 1, FacebookCNN : 1, Cable : 1, AZCNN : 3, safe : 1, preferenceConfirmcopy : 1, report : 1, world : 1, Obamas : 1, Trump : 1, ExtrasCNN : 3, found : 1, bodiesPope : 1, malfunction : 1, en : 2, leaders : 1, ArabicCNN : 1, Entertainment : 1, System : 1, dead : 1, EspañolTVTV : 2, edition : 2, usAbout : 1, LeadershipInternational : 1, best : 1, Rights : 1, MobileTools : 3, WorldwideFeaturesTravelAll : 2, ProjectQuick : 1, Republican : 1, FeaturesOpinionsiReportMore…PhotosWeatherCNN : 2, TwitterCNN : 1, full : 1, led : 1, WorldCNN : 1, Freedom : 1, Profiles : 3, ShowsScheduleFaces : 2, Were : 1, LeadershipCNN : 1, climate : 1, PolicyAdChoicesAdvertise : 1, US : 1, surfers : 1, trueGhostly : 1, usWork : 1, ships : 1, crashTop : 1, usContact : 1, Remains : 1, win : 1, Asia : 1, accusation : 1, CNNcomBreaking : 1, UsePrivacy : 1, Network : 1, ISIS : 1, LeadershipPilot : 1, flyIndonesia : 1, flight : 1, releases : 1, usHelpTranscriptsLicense : 1, Broadcasting : 1, News : 3, VideosShowsCNN : 2, SearchInternational : 1, nominationMissing : 1, Video : 1, NewsWorldSportTechnologyEntertainmentStyleTravelMoneyRegionsUSChinaAsiaMiddle : 1, Your : 1, Inc : 1, control : 1, ReservedTerms : 1, LinksPhotosWeatherCNN : 1, FootageCNN : 1, StoriesErdogan : 1, Ill : 1, after : 1, EspañolCNN : 1, MexicoCNN : 1, resign : 1, gifts : 1, plane : 1, CNN : 2, response : 1, All : 1, amp : 3, Newsource : 1, Is : 1, Weather : 1, Turner : 1, }\n"
     ]
    }
   ],
   "source": [
    "#조건6(w2객체)\n",
    "resultFrq = w2.getWordsFrequency()\n",
    "\n",
    "print '{',\n",
    "for x in resultFrq :\n",
    "    print '%s : %d,' % (x, resultFrq[x]), \n",
    "print '}'"
   ]
  },
  {
   "cell_type": "code",
   "execution_count": 133,
   "metadata": {
    "collapsed": false
   },
   "outputs": [
    {
     "name": "stdout",
     "output_type": "stream",
     "text": [
      "['The']\n",
      "['AZCNN', 'ExtrasCNN', 'MobileTools', 'Profiles', 'News', 'amp']\n"
     ]
    }
   ],
   "source": [
    "resultMaxFrq1 = w1.getMaxFrequencyWords()\n",
    "resultMaxFrq2 = w2.getMaxFrequencyWords()\n",
    "\n",
    "print resultMaxFrq1\n",
    "print resultMaxFrq2"
   ]
  },
  {
   "cell_type": "markdown",
   "metadata": {},
   "source": [
    "- 조건 2번부터 5번은 클래스 내에서 메소드 재정의 방법을 통하여 쉽게 기능을 구현할 수 있었다.\n",
    "- 클래스 변수 내에 존재하는 사이트 리스트들의 종합적인 단어 빈도 수를 찾기 위해 기존에 만들어 놓았던 사이트 단어 찾는 소스를 함수화하여 getWordsFrequency()를 정의할 때 사용하였다. 새로운 사전을 만들어 각각의 사이트마다 존재하는 단어들을 합치면서 빈도 수를 파악하였다.\n",
    "- getWordsFrequency 메소드를 사용하여 나온 값들을 튜플화하여 value 값으로 정렬을 하였다. 그 중 첫번째 인덱스가 가리키는 value 값이 가장 빈도수가 큰 값이므로 해당 빈도수의 값 이하가 되기 전까지 최다 빈도수의 단어들을 가진 리스트에 append 시켜주었다."
   ]
  },
  {
   "cell_type": "markdown",
   "metadata": {},
   "source": [
    "###14. 13번 문제에서 정의한 WebWordsFrequency 클래스를 상속하여 OrderedWebWordsFrequency 클래스를 정의하고 슈퍼클래스에 정의된 getWordsFrequency() 메소드를 오버라이드 하여 단어 출현 빈도를 내림 차순으로 정렬하여 리스트로 출력하시오.\n",
    "\n",
    "- 리스트 내의 각 원소는 단어와 빈도를 쌍으로 지니는 튜플이다.\n",
    "- getWordFrequence() 메소드에 reverse 라는 인자를 만들고 true 또는 false를 인자로 받을 수 있도록 한다.\n",
    "\n",
    "    - reverse 인자의 디폴트 값은 false 이며, 기본적으로 내림차순으로 정렬한다.\n",
    "    - reverse 인자에 true를 넣으면 오름차순으로 정렬한다."
   ]
  },
  {
   "cell_type": "code",
   "execution_count": 154,
   "metadata": {
    "collapsed": false
   },
   "outputs": [],
   "source": [
    "class OrderedWebWordsFrequency(WebWordsFrequency) :\n",
    "    def getWordsFrequency(self, reverses=False) :\n",
    "        totalUrlDic = {} \n",
    "        for each in self.List :\n",
    "            urlDic = urlWordsFrequency(each)\n",
    "            for word in urlDic :\n",
    "                if word not in totalUrlDic :\n",
    "                    totalUrlDic[word] = urlDic[word]\n",
    "                else :\n",
    "                    totalUrlDic[word] += urlDic[word]\n",
    "        descendingSort = sorted(totalUrlDic.items(), key=lambda item:item[1], reverse=reverses)\n",
    "        return descendingSort\n",
    "    \n",
    "    def __iter__(self) :\n",
    "        return self.getWordsFrequency(reverse=True)"
   ]
  },
  {
   "cell_type": "code",
   "execution_count": 151,
   "metadata": {
    "collapsed": false,
    "scrolled": true
   },
   "outputs": [
    {
     "name": "stdout",
     "output_type": "stream",
     "text": [
      "[ (Appear, 1), (Improvement, 1), (Does, 1), (Frictionless, 1), (Buenos, 1), (6pm, 1), (Warnings, 1), (Parenthood, 1), (Nytimescom, 1), (Encounter, 1), (updated, 1), (Key, 1), (Getaway, 1), (Shook, 1), (Stones, 1), (enjoy, 1), (direct, 1), (Version, 1), (4, 1), (wwwamazoncomaccess, 1), (AustraliaBrazilCanadaChinaFranceGermanyIndiaItalyJapanMexicoNetherlandsSpainUnited, 1), (affiliates, 1), (studio, 1), (Addicted, 1), (Theres, 1), (Pushes, 1), (Verge, 1), (City, 1), (Support, 1), (deploy—all, 1), (Includes, 1), (music, 1), (Included, 1), (Carbon, 1), (until, 1), (Millimeters, 1), (91, 1), (Crowd, 1), (Habit, 1), (Rubio, 1), (SABRINA, 1), (movies, 1), (Advertisers, 1), (554, 1), (Capital, 1), (Grocery, 1), (Diaperscom, 1), (Bruni, 1), (Editorials, 1), (Watching, 1), (Killing, 1), (Muslims, 1), (Jordan, 1), (Jungleecom, 1), (earlier, 1), (Interrupted, 1), (wrong, 1), (Carlos, 1), (wind, 1), (feedback, 1), (JOANNE, 1), (murals, 1), (ELLEN, 1), (KATRIN, 1), (Cruelty, 1), (Soapcom, 1), (better, 1), (Birth, 1), (Sorrentino’s, 1), (Him, 1), (them, 1), (UsBecome, 1), (Pfizer, 1), (Bundles, 1), (Travels, 1), (Ads©, 1), (API, 1), (Black, 1), (went, 1), (Plot, 1), (hosted, 1), (COOPER, 1), (Guns, 1), (reader, 1), (Must, 1), (Join, 1), (Sofa, 1), (Abortion, 1), (campaigns, 1), (Circuit, 1), (wanted, 1), (Melody, 1), (Contributors, 1), (starts, 1), (privacy, 1), (160160160Baby, 1), (AmazonGlobal, 1), (Lopsided, 1), (Prepare, 1), (Cell, 1), (Quilting, 1), (service, 1), (top, 1), (Barria, 1), (Press, 1), (recent, 1), (Rare, 1), (Set, 1), (Cyber, 1), (Sex, 1), (Elected, 1), (Adele, 1), (friend, 1), (Sea, 1), (TAVERNISE, 1), (fashion, 1), (wideranging, 1), (Transgender, 1), (Williams, 1), (1965, 1), (optimized, 1), (letter, 1), (Bernie, 1), (Yoyocom, 1), (Narendra, 1), (Election, 1), (Want, 1), (Morris’s, 1), (AmazonInvestor, 1), (Albany, 1), (Union, 1), (lethal, 1), (Knitting, 1), (menu, 1), (Game, 1), (Free, 1), (Records, 1), (integrate, 1), (Furniture, 1), (Account, 1), (Level, 1), (despite, 1), (Quick, 1), (X, 1), (Piece, 1), (Looms, 1), (Leaders, 1), (countries, 1), (Washington, 1), (ProductsAmazoncom, 1), (ALEXANDER, 1), (Inheritance, 1), (NoticeInterestBased, 1), (John, 1), (Auto, 1), (away, 1), (previous, 1), (terms, 1), (Settings, 1), (improve, 1), (climate, 1), (McDonald, 1), (against, 1), (KAUFMAN, 1), (Classifieds, 1), (Whiskers, 1), (Zappos, 1), (conference, 1), (Closely, 1), (PoliciesAmazon, 1), (families, 1), (AmazoncomTodays, 1), (craft, 1), (Stuart, 1), (Upper, 1), (Into, 1), (Manage, 1), (CALLIMACHI, 1), (Writers, 1), (Collectibles, 1), (seven, 1), (Mens, 1), (Bush, 1), (Here’s, 1), (LEARN, 1), (Palley, 1), (Main, 1), (Newman, 1), (President, 1), (Won’t, 1), (unyielding, 1), (characters, 1), (practiced, 1), (1972, 1), (savings, 1), (AfterSchoolcom, 1), (corporate, 1), (left, 1), (Sheldon, 1), (ReplacementsManage, 1), (photo, 1), (Passage, 1), (Toy, 1), (Happy, 1), (‘Aha’, 1), (ease, 1), (had, 1), (Undeserving, 1), (has, 1), (Reset, 1), (Tinderbox, 1), (Wins, 1), (Taking, 1), (possible, 1), (Audible, 1), (Wine, 1), (performing, 1), (50, 1), (Are, 1), (Newsletters, 1), (people, 1), (PaperVideo, 1), (GILLIS, 1), (Life, 1), (creative, 1), (Gifts, 1), (Facebook, 1), (Ho, 1), (repository, 1), (AirAsia, 1), (Place, 1), (Bacall’s, 1), (OS, 1), (ShortOrder, 1), (commit, 1), (efforts, 1), (Best, 1), (Use, 1), (allAmazon, 1), (Make, 1), (down, 1), (Few, 1), (right, 1), (Hand, 1), (Break, 1), (way, 1), (Shopbop, 1), (PointsCredit, 1), (19962015, 1), (solar, 1), (Emotional, 1), (SugarShy, 1), (LongHidden, 1), (Phenomena, 1), (Parking, 1), (panels, 1), (Sir, 1), (request, 1), (Six, 1), (OpenBox, 1), (Virgin, 1), (Maya, 1), (us, 1), (handed, 1), (ambitious, 1), (Pages, 1), (onefifth, 1), (E, 1), (Windows, 1), (Hunt, 1), (DealsGift, 1), (Airline, 1), (AmazonFresh, 1), (apologizing, 1), (longer, 1), (Win, 1), (together, 1), (Renminbi, 1), (Emily, 1), (Title, 1), (Desktop, 1), (BARBARO, 1), (Today, 1), (160160160Women, 1), (CORRALES, 1), (Kirkman, 1), (0, 1), (Grandpa, 1), (Prize, 1), (Lookcom, 1), (CORAL, 1), (gun, 1), (ConverterLet, 1), (team, 1), (you’ll, 1), (Organizer, 1), (Unrepeatable, 1), (Savory, 1), (Hardened, 1), (Automotive, 1), (Notable, 1), (Ford, 1), (Robotic, 1), (During, 1), (Francis, 1), (Peculiar, 1), (Ago, 1), (water, 1), (Woman, 1), (groups, 1), (Breaker, 1), (My, 1), (appears, 1), (change, 1), (Associated, 1), (Slipped, 1), (Tomorrow, 1), (Legacy, 1), (navigation, 1), (Menus to, 1), (Aszu, 1), (UsePrivacy, 1), (Sanders, 1), (Customers, 1), (Hungarian, 1), (Visa, 1), (Designers, 1), (Revamped, 1), (Benefits, 1), (Opera, 1), (Orchestra, 1), (McKINLEY, 1), (cases, 1), (lowercase, 1), (Celebrations, 1), (timesvideo, 1), (Family, 1), (reviews, 1), (can, 1), (Appliances, 1), (nursing, 1), (softcore, 1), (Media, 1), (Regents, 1), (Who, 1), (Munich, 1), (1, 1), (Spin, 1), (product, 1), (applications, 1), (Become, 1), (revealed, 1), (Calendar, 1), (man, 1), (branches, 1), (so, 1), (Ship, 1), (exclusive, 1), (FOURQUET, 1), (Breaking, 1), (Relevance, 1), (police, 1), (Views, 1), (Cruz’s, 1), (Moving, 1), (policy, 1), (loophole, 1), (twohour, 1), (Socialist, 1), (Choices, 1), (1957, 1), (EDITORIAL, 1), (Unusually, 1), (now, 1), (BeautyBarcom, 1), (Simple, 1), (repositories, 1), (Deadline, 1), (Live, 1), (‘Hamilton’, 1), (Leftovers, 1), (Aires, 1), (Consolation, 1), (LineShop, 1), (Aiming, 1), (shows, 1), (inevitably, 1), (Stone, 1), (after, 1), (Carpetbagger, 1), (“great, 1), (TenMarkscom, 1), (Sunday8217, 1), (Walking, 1), (Money, 1), (first, 1), (627, 1), (Start, 1), (Rates, 1), (Stars, 1), (millions, 1), (city, 1), (little, 1), (Monday, 1), (Nesting, 1), (JOHN, 1), (Data, 1), (TwoDay, 1), (IMF, 1), (Storage, 1), (13, 1), (Love, 1), (World’s, 1), (optimism, 1), (Analytics, 1), (future, 1), (Advertise, 1), (browser, 1), (360degree, 1), (Philadelphia, 1), (Refused, 1), (destroy, 1), (multiple, 1), (Dealers, 1), (Unlike, 1), (assault, 1), (Depository, 1), (GOP, 1), (icon, 1), (byDepartment, 1), (George, 1), (massacres, 1), (Groceries, 1), (Accounting, 1), (review, 1), (laws, 1), (Reuters, 1), (Role, 1), (AccountSign, 1), (upgrade, 1), (gwftGrdesktopherosoftlines, 1), (Handpicked, 1), (get, 1), (Products, 1), (Right, 1), (across, 1), (8216Bloody, 1), (Crew, 1), (BOARD, 1), (calendar, 1), (Worldwide, 1), (Shopping, 1), (Breaks, 1), (enough, 1), (Than, 1), (screen, 1), (Sense, 1), (signaled, 1), (BERNARD, 1), (Marco, 1), (Sweetness, 1), (Primary, 1), (Death, 1), (Note, 1), (crew, 1), (Bets, 1), (sensible, 1), (arts, 1), (Assembly, 1), (Electric, 1), (arty, 1), (mark, 1), (Schools, 1), (BURNS, 1), (500, 1), (Lawn, 1), (shopping, 1), (Action, 1), (former, 1), (those, 1), (Commander, 1), (Lauren, 1), (Woot, 1), (Additional, 1), (Content, 1), (middle, 1), (Compelling, 1), (fame, 1), (Protesters, 1), (Vinyl, 1), (7mo, 1), (Clear, 1), (refusal, 1), (Apparel, 1), (Patio, 1), (DVDs, 1), (2015Today’s, 1), (It, 1), (Rent, 1), (DEWALT, 1), (Carell, 1), (Physical, 1), (Service, 1), (being, 1), (actress, 1), (Wagcom, 1), (room”, 1), (death, 1), (Jobs, 1), (Spot, 1), (it’s, 1), (Applications, 1), (treatment, 1), (Approved, 1), (Roller, 1), (Spoiler, 1), (‘Love’, 1), (Cams, 1), (Crafts, 1), (amp, 1), (Trips, 1), (Talk, 1), (Beals, 1), (Share, 1), (SOUTHALL, 1), (Streaming, 1), (Something, 1), (中文, 1), (‘A, 1), (Dress, 1), (Before, 1), (Jewelry, 1), (West, 1), (Mark, 1), (DevicesHelp, 1), (Printers, 1), (MixUp, 1), (York’s, 1), (Rites, 1), (Answers, 1), (Projects, 1), (CreateSpace, 1), (Comics, 1), (communicate, 1), (pastors, 1), (Outdoors, 1), (AccountTryPrimeYourListsCart, 1), (Transit, 1), (maker’s, 1), (OrdersShipping, 1), (EkoParty, 1), (communication, 1), (Away, 1), (accounts, 1), (UsSell, 1), (posters, 1), (Meeting, 1), (BoehnerLike, 1), (Week, 1), (Tokaji, 1), (Hotel, 1), (Prestige, 1), (Obama, 1), (VendorrsaquoSee, 1), (J, 1), (Known, 1), (Medicines’, 1), (Broadway’s, 1), (House, 1), (agree, 1), (Delivered, 1), (Blog, 1), (again, 1), (storage, 1), (Helping, 1), (5, 1), (collaborative, 1), (includes, 1), (BENNHOLD, 1), (Governmentwatchdog, 1), (tackle, 1), (Addiction, 1), (Essay, 1), (Direct, 1), (Pantry, 1), (HASSAN, 1), (Dishes, 1), (CDs, 1), (Take, 1), (follow, 1), (DAVENPORT, 1), (apartment, 1), (Unlocked, 1), (pledges, 1), (Training, 1), (far, 1), (Alaska, 1), (Conversation, 1), (fall, 1), (Ring, 1), (rate, 1), (lawyer, 1), (East, 1), (Straying, 1), (Worked, 1), (Rhetoric, 1), (Short, 1), (Clouds, 1), (Tracing, 1), (Departments, 1), (Patti, 1), (operating, 1), (Briefing, 1), (Baudelaire’s, 1), (Sonnabend, 1), (conviction, 1), (allows, 1), (experience, 1), (healthier, 1), (action, 1), (W, 1), (Sparkling, 1), (Too, 1), (Animal, 1), (Crash, 1), (Explorer, 1), (Lives, 1), (Russian, 1), (Philippines, 1), (Found, 1), (Looking, 1), (include, 1), (Conference, 1), (Different, 1), (Laquan, 1), (accept, 1), (Dead’, 1), (occasionally, 1), (Yolanda, 1), (plans, 1), (Audiobook, 1), (617, 1), (brands, 1), (short, 1), (DevicesMake, 1), (Film, 1), (help, 1), (YouYour, 1), (Forces, 1), (Supplies, 1), (25, 1), (Full, 1), (21, 1), (systems, 1), (Sues, 1), (Blood, 1), (Shenanigans, 1), (PrimeReturns, 1), (Muñoz, 1), (always, 1), (Fabric, 1), (energy, 1), (Joseph, 1), (160160160Boys, 1), (Warehouse, 1), (Reading, 1), (try, 1), (Door, 1), (Kids’, 1), (Packing, 1), (Astronomy, 1), (Cool, 1), (Male, 1), (JUSTIN, 1), (Years, 1), (Expect, 1), (EmailedMost, 1), (Dangers, 1), (Corruption, 1), (least, 1), (Nonprofits, 1), (Paolo, 1), (crop, 1), (terrorism”, 1), (BARRY, 1), (Yearley, 1), (headings, 1), (Club, 1), (AccountYour, 1), (build, 1), (hurling, 1), (Episode, 1), (Attacks, 1), (most, 1), (sponsored, 1), (darts, 1), (Finds, 1), (Eldar, 1), (gwftGrdesktopheropiv, 1), (Cost, 1), (Cloud, 1), (PopUp, 1), (didn’t, 1), (United, 1), (Hill, 1), (ADEEL, 1), (Kingdom, 1), (justice, 1), (Explore, 1), (Sellers, 1), (MarketplaceAmazon, 1), (Wife, 1), (Son”, 1), (Navarro, 1), (him, 1), (target, 1), (Minneapolis, 1), (recommendations, 1), (Attendance, 1), (Plays, 1), (Essentials, 1), (Create, 1), (RUKMINI, 1), (Negotiators, 1), (declined, 1), (Questionable, 1), (Brainy, 1), (matter, 1), (Critics, 1), (fans, 1), (bigots, 1), (recently, 1), (Could, 1), (interface, 1), (Dane, 1), (Maker, 1), (Spurred, 1), (Hard, 1), (Steve, 1), (Mosul, 1), (Todd, 1), (Happiness, 1), (DPReview, 1), (hackers, 1), (Ballet, 1), (community, 1), (ProductsSelfPublish, 1), (desktop, 1), (described, 1), (create, 1), (Shells, 1), (political, 1), (RevolvingDoor, 1), (God, 1), (meeting, 1), (Card, 1), (Women, 1), (RelationsAmazon, 1), (flight, 1), (Textbooks, 1), (Polls, 1), (gwftGrdesktopherokindleB, 1), (gwftGrdesktopherokindleA, 1), (lives, 1), (Software, 1), (Didn8217t, 1), (Journeys, 1), (Taste, 1), (Sales, 1), (Booth, 1), (HARCOURT, 1), (Miss, 1), (Emerges, 1), (government, 1), (Alert, 1), (Extraordinary, 1), (9, 1), (numeral, 1), (JetBlue, 1), (Charged, 1), (integrations, 1), (ComiXology, 1), (Ryazanov, 1), (Technology, 1), (Rate, 1), (Names, 1), (organization, 1), (know, 1), (Handmade, 1), (Survivors, 1), (Faulty, 1), (letting, 1), (PERLROTH, 1), (loading, 1), (VTech, 1), (GoPro, 1), (Brands, 1), (input, 1), (Marine, 1), (Distraction, 1), (unlimited, 1), (Air, 1), (Defends, 1), (Contributing, 1), (Computing, 1), (Cohen, 1), (indication, 1), (Columnists, 1), (Dakota, 1), (Fine, 1), (Find, 1), (world’s, 1), (Wearables, 1), (HighSalt, 1), (Frank, 1), (Scalable, 1), (gwftGrdesktopheroH, 1), (Hello, 1), (Bars, 1), (VineMarketcom, 1), (MYHABIT, 1), (Young, 1), (servers, 1), (USBacked, 1), (ACX, 1), (User, 1), (Coverage, 1), (JOYCE, 1), (elsewhere, 1), (link, 1), (Opinionator, 1), (Christmas’, 1), (directed, 1), (Cities, 1), (Office, 1), (Ditches, 1), (Cruise, 1), (called, 1), (flocked, 1), (Attack, 1), (Manhattan, 1), (Map, 1), (Conservatives’, 1), (May, 1), (clicking, 1), (politicians, 1), (160160160Men, 1), (Background, 1), (Man, 1), (Durst’s, 1), (Laughing, 1), (Audio, 1), (ago, 1), (Ad, 1), (Weddings, 1), (turbines, 1), (protests, 1), (2008, 1), (sounded, 1), (gt, 1), (Leftovers’, 1), (go, 1), (Rock8221, 1), (contributions, 1), (issues, 1), (shackles, 1), (send, 1), (attackers, 1), (Not, 1), (Nov, 1), (Region, 1), (Wheels, 1), (Angelou, 1), (Emerging, 1), (Related, 1), (deals, 1), (Disaffection, 1), (Select, 1), (Index, 1), (Zimmermann, 1), (Cameras, 1), (uncomfortable, 1), (Tshirts, 1), (Wounds, 1), (access, 1), (Assault, 1), (Lebowitz, 1), (proliferation, 1), (Homeless, 1), (explore, 1), (Is Littered, 1), (32, 1), (‘Black, 1), (suggests, 1), (Download, 1), (330, 1), (private, 1), (Conditions, 1), (Mock, 1), (Status, 1), (Sold, 1), (seamless, 1), (next, 1), (few, 1), (Membership, 1), (160160160Girls, 1), (Lang, 1), (started, 1), (Reward, 1), (account, 1), (Feedback, 1), (Score, 1), (Traveler, 1), (8216Humble8217, 1), (Began, 1), (Cultured, 1), (Details, 1), (hit, 1), (native, 1), (Smartwatches, 1), (ViewedRecommended, 1), (Paper, 1), (Boarding, 1), (‘Unsafe, 1), (Ryan, 1), (Pinups, 1), (Outdoor, 1), (Letters, 1), (lines, 1), (Expensive, 1), (OvertheCounter, 1), (Smith, 1), (Airbnb, 1), (report, 1), (Troubling, 1), (Final, 1), (Strives, 1), (perfect, 1), (Scientific, 1), (Serena, 1), (emails, 1), (Director, 1), (Pressure, 1), (Casacom, 1), (Luis, 1), (Blamed, 1), (Dissolving, 1), (Car, 1), (Loser, 1), (day, 1), (Accessories, 1), (Replica, 1), (LAURE, 1), (Luxury, 1), (8220School, 1), (related, 1), (Next, 1), (88, 1), (books, 1), (Print, 1), (our, 1), (80, 1), (Very, 1), (Great, 1), (memes, 1), (supports, 1), (Reveal, 1), (This, 1), (British, 1), (Corrections, 1), (Topics, 1), (Celebrities, 1), (Aces, 1), (Pros, 1), (Convicted, 1), (‘Youth’, 1), (“Mourning, 1), (management, 1), (Fran, 1), (View, 1), (Javier, 1), (RunnerUp, 1), (Portraits, 1), (Edition, 1), (JESSE, 1), (Speed’, 1), (comfortable, 1), (Other, 1), (Pirelli, 1), (need, 1), (Activities, 1), (Focused, 1), (NICOLE, 1), (Rolling, 1), (Ticket, 1), (Blogs, 1), (delayed, 1), (Without, 1), (Horizon, 1), (Modi, 1), (Instruments, 1), (Some, 1), (Pop, 1), (Donald, 1), (CardsSellHelp, 1), (Father’s, 1), (text, 1), (Math, 1), (tire, 1), (should, 1), (Homes, 1), (Flags’, 1), (Industrial, 1), (THE, 1), (River, 1), (Guarantee, 1), (Jurors, 1), (Disbelief, 1), (progress, 1), (bought, 1), (Jane’s, 1), (Precedent, 1), (Lawyer, 1), (comment, 1), (Log, 1), (respect, 1), (quit, 1), (Rewards, 1), (COHEN, 1), (expressed, 1), (Ryan’s, 1), (Gen, 1), (powerful, 1), (collaborators, 1), (FREE, 1), (Face, 1), (gwftGrdesktopheroprime, 1), (Wordplay, 1), (decades, 1), (Number, 1), (AmazonBecome, 1), (Any, 1), (MORE, 1), (UsCareersAbout, 1), (Beach, 1), (CoverUp, 1), (Garden, 1), (perhaps, 1), (landmarks, 1), (largest, 1), (Luggage, 1), (student, 1), (Keeps, 1), (States, 1), (Have, 1), (Need, 1), (position, 1), (Reformers, 1), (usual, 1), (Influenced, 1), (guitarist, 1), (Internationally, 1), (Gourmet, 1), (distant, 1), (Weeks, 1), (Dark, 1), (DeanRex, 1), (Company, 1), (enact, 1), (Budget’s, 1), (Governor’s, 1), (Programs, 1), (Shipping, 1), (Their, 1), (AffiliateAdvertise, 1), (become, 1), (ExAssembly, 1), (Quiz, 1), (Breach, 1), (Newly, 1), (“dartboard, 1), (ASHLEY, 1), (lead, 1), (Inside, 1), (China’s, 1), (Planned, 1), (world, 1), (getting, 1), (staked, 1), (December, 1), (Questions, 1), (documentary, 1), (Mayor, 1), (executives, 1), (Alerts, 1), (Iraqi, 1), (Thousands, 1), (Evolving, 1), (Alexa, 1), (Musical, 1), (IMDb, 1), (Actionable, 1), (It’s, 1), (he, 1), (made, 1), (Contraception, 1), (official, 1), (·, 1), (problem, 1), (Moment’, 1), (website, 1), (AbeBooks, 1), (Discover, 1), (shooting, 1), (campus, 1), (Goodreads, 1), (Tarts, 1), (Wines, 1), (details, 1), (star, 1), (Like, 1), (BusinessSell, 1), (Page, 1), (South, 1), (Shooting, 1), (NYT, 2), (Cases, 2), (Paul, 2), (new, 2), (changes, 2), (Book, 2), (would, 2), (Diabetes, 2), (La, 2), (Meets, 2), (Sale, 2), (Gear, 2), (Beyond, 2), (Path, 2), (SAT, 2), (Cards, 2), (Indie, 2), (open, 2), (Navarro’s, 2), (content, 2), (Work, 2), (free, 2), (Shootings, 2), (Clinton, 2), (features, 2), (another, 2), (FrontRunners, 2), (Features, 2), (showed, 2), (project, 2), (Chicago, 2), (Flight, 2), (Trends, 2), (Computers, 2), (Side, 2), (Its, 2), (Photography, 2), (Over, 2), (Pet, 2), (said, 2), (Rise, 2), (Choice, 2), (Apartment, 2), (Amazoncom, 2), (Sewing, 2), (Verdict, 2), (Obama’s, 2), (Room, 2), (Institute, 2), (AmazonSell, 2), (Oscar, 2), (Privacy, 2), (Try, 2), (Trump, 2), (ISIS, 2), (Counts, 2), (Personal, 2), (Begin, 2), (Second, 2), (Where, 2), (Just, 2), (Debate, 2), (Cruz, 2), (Dead, 2), (love, 2), (When, 2), (Dies, 2), (Our, 2), (discussion, 2), (Why, 2), (Series, 2), (Boggess, 2), (window, 2), (Added, 2), (Theater, 2), (Onstage, 2), (2, 2), (Enterprise, 2), (copy, 2), (Do, 2), (Articles, 2), (Ascent, 2), (Web, 2), (We, 2), (black, 2), (Surprising, 2), (Apps, 2), (Cred, 2), (Facing, 2), (Phones, 2), (Through, 2), (But, 2), (Needed, 2), (Kids, 2), (Mobile, 2), (Loading, 2), (tools, 2), (Anonymous, 2), (Scores, 2), (Guilty, 2), (Terror, 2), (International, 2), (Story, 2), (No, 2), (Error, 2), (Close, 2), (videos, 2), (Dismissed, 2), (How, 2), (Algebra, 2), (Reload, 2), (Street, 2), (Year, 2), (all, 2), (Listings, 2), (Released, 2), (Cultural, 2), (Pricing, 2), (Gift, 2), (Contact, 2), (ArtsBeat, 2), (Calorie, 2), (via, 2), (Top, 2), (Automobiles, 2), (Mass, 2), (Menus, 2), (Inc, 2), (Speaker, 2), (Fall, 2), (Player, 2), (its, 2), (Bag, 2), (Off, 2), (refresh, 2), (members, 2), (feel, 2), (story, 2), (Becomes, 2), (Todayrsquos, 2), (Road, 2), (BestSelling, 2), (Puzzle, 2), (Toys, 2), (built, 2), (also, 2), (plan, 2), (Google, 2), (his, 2), (Son’, 2), (Powerful, 2), (Online, 2), (Play, 2), (Most, 2), (look, 2), (Concern, 2), (Sleeping, 2), (development, 2), (Economic, 2), (Tools, 2), (Living, 2), (Internet, 2), (source, 2), (Last, 2), (inYour, 2), (David, 2), (Deals, 2), (Sierra, 2), (Upshot, 2), (Making, 2), (An, 2), (As, 2), (Sell, 2), (Guardia, 2), (Saint, 2), (session, 2), (CardAmazoncom, 2), (Long, 2), (America, 2), (Back, 2), (Big, 2), (Robert, 2), (Multimedia, 2), (Stamina, 2), (use, 2), (Choreographer, 2), (tab, 2), (Payment, 2), (One, 2), (Himself, 2), (Brooks, 2), (Miami, 2), (Season, 2), (Baby, 2), (start, 2), (Solution, 2), (Failure, 2), (teams, 2), (officials, 2), (Race, 2), (Design, 2), (Music, 2), (Obituaries, 2), (2014, 2), (Dance, 2), (Know, 2), (NYTimescom, 2), (Sunday, 2), (like, 2), (Honed, 2), (Editor, 2), (Discounts, 2), (MICHAEL, 2), (Americans, 2), (Handwarmers, 2), (Secular, 2), (Ted, 2), (signed, 2), (», 2), (contribute, 2), (Electronics, 2), (Million, 2), (Delivery, 2), (‘Mourning, 2), (Exams, 2), (Private, 2), (Contributor, 2), (Orders, 2), (NYC, 3), (100, 3), (Tuesday, 3), (Hacking, 3), (Attackers, 3), (India, 3), (Easy, 3), (Clothing, 3), (make, 3), (Art, 3), (Puts, 3), (Dave, 3), (collaboration, 3), (Baseball, 3), (Left, 3), (Trial, 3), (Day, 3), (Tells, 3), (Out, 3), (Terms, 3), (Shoes, 3), (Insider, 3), (Skip, 3), (Stand, 3), (Valley, 3), (Events, 3), (Learn, 3), (Silver, 3), (Begins, 3), (Heads, 3), (Store, 3), (NY, 3), (Kitchen, 3), (Guide, 3), (Credit, 3), (nbspComments, 3), (code, 3), (what, 3), (search, 3), (Brussels, 3), (Wiz’, 3), (Has, 3), (Todays, 3), (Market, 3), (Corporate, 3), (Email, 3), (Look, 3), (Bill, 3), (Argentines, 3), (Normal, 3), (To, 3), (Murder, 3), (Mother’s, 3), (State, 3), (Sections, 3), (Publisher, 3), (Green, 3), (Prompt, 3), (Children, 3), (Reporter’s, 3), (2016, 3), (From, 3), (out, 3), (have, 3), (321, 3), (who, 3), (Public, 3), (Silicon, 3), (Holiday, 3), (Get, 3), (2015, 3), (You, 3), (T, 3), (Kindle, 3), (about, 3), (Returns, 3), (Talent, 3), (Care, 3), (Site, 3), (Made, 4), (Behind, 4), (His, 4), (Please, 4), (Search, 4), (Draft, 4), (Publishing, 4), (Estate, 4), (Tech, 4), (Global, 4), (Security, 4), (one, 4), (Education, 4), (Beauty, 4), (I, 4), (Real, 4), (Style, 4), (Television, 4), (Subscribe, 4), (Help, 4), (About, 4), (Talks, 4), (On, 4), (projects, 4), (up, 4), (Designer, 4), (Now, 4), (Editorial, 4), (Politics, 4), (software, 4), (China, 4), (Currency, 4), (Games, 4), (Broadway, 4), (Satire, 4), (Crossword, 4), (Science, 4), (Go, 5), (All, 5), (First, 5), (Sign, 5), (Travel, 5), (you, 5), (What, 5), (For, 5), (Food, 5), (Murray, 5), (from, 5), (Change, 5), (Review, 5), (Fashion, 5), (Us, 5), (Digital, 6), (OpEd, 6), (News, 6), (Subscriptions, 6), (Notebook, 6), (Services, 6), (Shop, 6), (‘The, 6), (an, 6), (Sports, 6), (Prime, 6), (Movies, 6), (Everything, 6), (Business, 6), (US, 6), (World, 7), (Magazine, 7), (TV, 7), (ET, 7), (Video, 7), (Arts, 7), (After, 7), (Amazon, 8), (Health, 8), (A, 8), (See, 8), (AM, 8), (Books, 9), (York, 9), (Home, 10), (nbsp, 10), (your, 10), (More, 10), (GitHub, 10), (In, 11), (Climate, 11), (Paris, 11), (Times, 12), (Your, 12), (Is, 13), (more, 13), (Opinion, 14), (With, 15), (New, 16), (By, 16), (raquo, 34), (The, 43), ]\n"
     ]
    }
   ],
   "source": [
    "w4 = OrderedWebWordsFrequency('http://www.times.com', 'https://www.amazon.com', 'https://github.com')\n",
    "\n",
    "# reverse=false , default값\n",
    "result = w4.getWordsFrequency()\n",
    "\n",
    "\n",
    "print '[',\n",
    "for x in result :\n",
    "    print '(%s, %d),' % (x[0], x[1]), \n",
    "print ']'"
   ]
  },
  {
   "cell_type": "code",
   "execution_count": 152,
   "metadata": {
    "collapsed": false
   },
   "outputs": [
    {
     "name": "stdout",
     "output_type": "stream",
     "text": [
      "[ (The, 43), (raquo, 34), (New, 16), (By, 16), (With, 15), (Opinion, 14), (Is, 13), (more, 13), (Times, 12), (Your, 12), (In, 11), (Climate, 11), (Paris, 11), (Home, 10), (nbsp, 10), (your, 10), (More, 10), (GitHub, 10), (Books, 9), (York, 9), (Amazon, 8), (Health, 8), (A, 8), (See, 8), (AM, 8), (World, 7), (Magazine, 7), (TV, 7), (ET, 7), (Video, 7), (Arts, 7), (After, 7), (Digital, 6), (OpEd, 6), (News, 6), (Subscriptions, 6), (Notebook, 6), (Services, 6), (Shop, 6), (‘The, 6), (an, 6), (Sports, 6), (Prime, 6), (Movies, 6), (Everything, 6), (Business, 6), (US, 6), (Go, 5), (All, 5), (First, 5), (Sign, 5), (Travel, 5), (you, 5), (What, 5), (For, 5), (Food, 5), (Murray, 5), (from, 5), (Change, 5), (Review, 5), (Fashion, 5), (Us, 5), (Made, 4), (Behind, 4), (His, 4), (Please, 4), (Search, 4), (Draft, 4), (Publishing, 4), (Estate, 4), (Tech, 4), (Global, 4), (Security, 4), (one, 4), (Education, 4), (Beauty, 4), (I, 4), (Real, 4), (Style, 4), (Television, 4), (Subscribe, 4), (Help, 4), (About, 4), (Talks, 4), (On, 4), (projects, 4), (up, 4), (Designer, 4), (Now, 4), (Editorial, 4), (Politics, 4), (software, 4), (China, 4), (Currency, 4), (Games, 4), (Broadway, 4), (Satire, 4), (Crossword, 4), (Science, 4), (NYC, 3), (100, 3), (Tuesday, 3), (Hacking, 3), (Attackers, 3), (India, 3), (Easy, 3), (Clothing, 3), (make, 3), (Art, 3), (Puts, 3), (Dave, 3), (collaboration, 3), (Baseball, 3), (Left, 3), (Trial, 3), (Day, 3), (Tells, 3), (Out, 3), (Terms, 3), (Shoes, 3), (Insider, 3), (Skip, 3), (Stand, 3), (Valley, 3), (Events, 3), (Learn, 3), (Silver, 3), (Begins, 3), (Heads, 3), (Store, 3), (NY, 3), (Kitchen, 3), (Guide, 3), (Credit, 3), (nbspComments, 3), (code, 3), (what, 3), (search, 3), (Brussels, 3), (Wiz’, 3), (Has, 3), (Todays, 3), (Market, 3), (Corporate, 3), (Email, 3), (Look, 3), (Bill, 3), (Argentines, 3), (Normal, 3), (To, 3), (Murder, 3), (Mother’s, 3), (State, 3), (Sections, 3), (Publisher, 3), (Green, 3), (Prompt, 3), (Children, 3), (Reporter’s, 3), (2016, 3), (From, 3), (out, 3), (have, 3), (321, 3), (who, 3), (Public, 3), (Silicon, 3), (Holiday, 3), (Get, 3), (2015, 3), (You, 3), (T, 3), (Kindle, 3), (about, 3), (Returns, 3), (Talent, 3), (Care, 3), (Site, 3), (NYT, 2), (Cases, 2), (Paul, 2), (new, 2), (changes, 2), (Book, 2), (would, 2), (Diabetes, 2), (La, 2), (Meets, 2), (Sale, 2), (Gear, 2), (Beyond, 2), (Path, 2), (SAT, 2), (Cards, 2), (Indie, 2), (open, 2), (Navarro’s, 2), (content, 2), (Work, 2), (free, 2), (Shootings, 2), (Clinton, 2), (features, 2), (another, 2), (FrontRunners, 2), (Features, 2), (showed, 2), (project, 2), (Chicago, 2), (Flight, 2), (Trends, 2), (Computers, 2), (Side, 2), (Its, 2), (Photography, 2), (Over, 2), (Pet, 2), (said, 2), (Rise, 2), (Choice, 2), (Apartment, 2), (Amazoncom, 2), (Sewing, 2), (Verdict, 2), (Obama’s, 2), (Room, 2), (Institute, 2), (AmazonSell, 2), (Oscar, 2), (Privacy, 2), (Try, 2), (Trump, 2), (ISIS, 2), (Counts, 2), (Personal, 2), (Begin, 2), (Second, 2), (Where, 2), (Just, 2), (Debate, 2), (Cruz, 2), (Dead, 2), (love, 2), (When, 2), (Dies, 2), (Our, 2), (discussion, 2), (Why, 2), (Series, 2), (Boggess, 2), (window, 2), (Added, 2), (Theater, 2), (Onstage, 2), (2, 2), (Enterprise, 2), (copy, 2), (Do, 2), (Articles, 2), (Ascent, 2), (Web, 2), (We, 2), (black, 2), (Surprising, 2), (Apps, 2), (Cred, 2), (Facing, 2), (Phones, 2), (Through, 2), (But, 2), (Needed, 2), (Kids, 2), (Mobile, 2), (Loading, 2), (tools, 2), (Anonymous, 2), (Scores, 2), (Guilty, 2), (Terror, 2), (International, 2), (Story, 2), (No, 2), (Error, 2), (Close, 2), (videos, 2), (Dismissed, 2), (How, 2), (Algebra, 2), (Reload, 2), (Street, 2), (Year, 2), (all, 2), (Listings, 2), (Released, 2), (Cultural, 2), (Pricing, 2), (Gift, 2), (Contact, 2), (ArtsBeat, 2), (Calorie, 2), (via, 2), (Top, 2), (Automobiles, 2), (Mass, 2), (Menus, 2), (Inc, 2), (Speaker, 2), (Fall, 2), (Player, 2), (its, 2), (Bag, 2), (Off, 2), (refresh, 2), (members, 2), (feel, 2), (story, 2), (Becomes, 2), (Todayrsquos, 2), (Road, 2), (BestSelling, 2), (Puzzle, 2), (Toys, 2), (built, 2), (also, 2), (plan, 2), (Google, 2), (his, 2), (Son’, 2), (Powerful, 2), (Online, 2), (Play, 2), (Most, 2), (look, 2), (Concern, 2), (Sleeping, 2), (development, 2), (Economic, 2), (Tools, 2), (Living, 2), (Internet, 2), (source, 2), (Last, 2), (inYour, 2), (David, 2), (Deals, 2), (Sierra, 2), (Upshot, 2), (Making, 2), (An, 2), (As, 2), (Sell, 2), (Guardia, 2), (Saint, 2), (session, 2), (CardAmazoncom, 2), (Long, 2), (America, 2), (Back, 2), (Big, 2), (Robert, 2), (Multimedia, 2), (Stamina, 2), (use, 2), (Choreographer, 2), (tab, 2), (Payment, 2), (One, 2), (Himself, 2), (Brooks, 2), (Miami, 2), (Season, 2), (Baby, 2), (start, 2), (Solution, 2), (Failure, 2), (teams, 2), (officials, 2), (Race, 2), (Design, 2), (Music, 2), (Obituaries, 2), (2014, 2), (Dance, 2), (Know, 2), (NYTimescom, 2), (Sunday, 2), (like, 2), (Honed, 2), (Editor, 2), (Discounts, 2), (MICHAEL, 2), (Americans, 2), (Handwarmers, 2), (Secular, 2), (Ted, 2), (signed, 2), (», 2), (contribute, 2), (Electronics, 2), (Million, 2), (Delivery, 2), (‘Mourning, 2), (Exams, 2), (Private, 2), (Contributor, 2), (Orders, 2), (Appear, 1), (Improvement, 1), (Does, 1), (Frictionless, 1), (Buenos, 1), (6pm, 1), (Warnings, 1), (Parenthood, 1), (Nytimescom, 1), (Encounter, 1), (updated, 1), (Key, 1), (Getaway, 1), (Shook, 1), (Stones, 1), (enjoy, 1), (direct, 1), (Version, 1), (4, 1), (wwwamazoncomaccess, 1), (AustraliaBrazilCanadaChinaFranceGermanyIndiaItalyJapanMexicoNetherlandsSpainUnited, 1), (affiliates, 1), (studio, 1), (Addicted, 1), (Theres, 1), (Pushes, 1), (Verge, 1), (City, 1), (Support, 1), (deploy—all, 1), (Includes, 1), (music, 1), (Included, 1), (Carbon, 1), (until, 1), (Millimeters, 1), (91, 1), (Crowd, 1), (Habit, 1), (Rubio, 1), (SABRINA, 1), (movies, 1), (Advertisers, 1), (554, 1), (Capital, 1), (Grocery, 1), (Diaperscom, 1), (Bruni, 1), (Editorials, 1), (Watching, 1), (Killing, 1), (Muslims, 1), (Jordan, 1), (Jungleecom, 1), (earlier, 1), (Interrupted, 1), (wrong, 1), (Carlos, 1), (wind, 1), (feedback, 1), (JOANNE, 1), (murals, 1), (ELLEN, 1), (KATRIN, 1), (Cruelty, 1), (Soapcom, 1), (better, 1), (Birth, 1), (Sorrentino’s, 1), (Him, 1), (them, 1), (UsBecome, 1), (Pfizer, 1), (Bundles, 1), (Travels, 1), (Ads©, 1), (API, 1), (Black, 1), (went, 1), (Plot, 1), (hosted, 1), (COOPER, 1), (Guns, 1), (reader, 1), (Must, 1), (Join, 1), (Sofa, 1), (Abortion, 1), (campaigns, 1), (Circuit, 1), (wanted, 1), (Melody, 1), (Contributors, 1), (starts, 1), (privacy, 1), (160160160Baby, 1), (AmazonGlobal, 1), (Lopsided, 1), (Prepare, 1), (Cell, 1), (Quilting, 1), (service, 1), (top, 1), (Barria, 1), (Press, 1), (recent, 1), (Rare, 1), (Set, 1), (Cyber, 1), (Sex, 1), (Elected, 1), (Adele, 1), (friend, 1), (Sea, 1), (TAVERNISE, 1), (fashion, 1), (wideranging, 1), (Transgender, 1), (Williams, 1), (1965, 1), (optimized, 1), (letter, 1), (Bernie, 1), (Yoyocom, 1), (Narendra, 1), (Election, 1), (Want, 1), (Morris’s, 1), (AmazonInvestor, 1), (Albany, 1), (Union, 1), (lethal, 1), (Knitting, 1), (menu, 1), (Game, 1), (Free, 1), (Records, 1), (integrate, 1), (Furniture, 1), (Account, 1), (Level, 1), (despite, 1), (Quick, 1), (X, 1), (Piece, 1), (Looms, 1), (Leaders, 1), (countries, 1), (Washington, 1), (ProductsAmazoncom, 1), (ALEXANDER, 1), (Inheritance, 1), (NoticeInterestBased, 1), (John, 1), (Auto, 1), (away, 1), (previous, 1), (terms, 1), (Settings, 1), (improve, 1), (climate, 1), (McDonald, 1), (against, 1), (KAUFMAN, 1), (Classifieds, 1), (Whiskers, 1), (Zappos, 1), (conference, 1), (Closely, 1), (PoliciesAmazon, 1), (families, 1), (AmazoncomTodays, 1), (craft, 1), (Stuart, 1), (Upper, 1), (Into, 1), (Manage, 1), (CALLIMACHI, 1), (Writers, 1), (Collectibles, 1), (seven, 1), (Mens, 1), (Bush, 1), (Here’s, 1), (LEARN, 1), (Palley, 1), (Main, 1), (Newman, 1), (President, 1), (Won’t, 1), (unyielding, 1), (characters, 1), (practiced, 1), (1972, 1), (savings, 1), (AfterSchoolcom, 1), (corporate, 1), (left, 1), (Sheldon, 1), (ReplacementsManage, 1), (photo, 1), (Passage, 1), (Toy, 1), (Happy, 1), (‘Aha’, 1), (ease, 1), (had, 1), (Undeserving, 1), (has, 1), (Reset, 1), (Tinderbox, 1), (Wins, 1), (Taking, 1), (possible, 1), (Audible, 1), (Wine, 1), (performing, 1), (50, 1), (Are, 1), (Newsletters, 1), (people, 1), (PaperVideo, 1), (GILLIS, 1), (Life, 1), (creative, 1), (Gifts, 1), (Facebook, 1), (Ho, 1), (repository, 1), (AirAsia, 1), (Place, 1), (Bacall’s, 1), (OS, 1), (ShortOrder, 1), (commit, 1), (efforts, 1), (Best, 1), (Use, 1), (allAmazon, 1), (Make, 1), (down, 1), (Few, 1), (right, 1), (Hand, 1), (Break, 1), (way, 1), (Shopbop, 1), (PointsCredit, 1), (19962015, 1), (solar, 1), (Emotional, 1), (SugarShy, 1), (LongHidden, 1), (Phenomena, 1), (Parking, 1), (panels, 1), (Sir, 1), (request, 1), (Six, 1), (OpenBox, 1), (Virgin, 1), (Maya, 1), (us, 1), (handed, 1), (ambitious, 1), (Pages, 1), (onefifth, 1), (E, 1), (Windows, 1), (Hunt, 1), (DealsGift, 1), (Airline, 1), (AmazonFresh, 1), (apologizing, 1), (longer, 1), (Win, 1), (together, 1), (Renminbi, 1), (Emily, 1), (Title, 1), (Desktop, 1), (BARBARO, 1), (Today, 1), (160160160Women, 1), (CORRALES, 1), (Kirkman, 1), (0, 1), (Grandpa, 1), (Prize, 1), (Lookcom, 1), (CORAL, 1), (gun, 1), (ConverterLet, 1), (team, 1), (you’ll, 1), (Organizer, 1), (Unrepeatable, 1), (Savory, 1), (Hardened, 1), (Automotive, 1), (Notable, 1), (Ford, 1), (Robotic, 1), (During, 1), (Francis, 1), (Peculiar, 1), (Ago, 1), (water, 1), (Woman, 1), (groups, 1), (Breaker, 1), (My, 1), (appears, 1), (change, 1), (Associated, 1), (Slipped, 1), (Tomorrow, 1), (Legacy, 1), (navigation, 1), (Menus to, 1), (Aszu, 1), (UsePrivacy, 1), (Sanders, 1), (Customers, 1), (Hungarian, 1), (Visa, 1), (Designers, 1), (Revamped, 1), (Benefits, 1), (Opera, 1), (Orchestra, 1), (McKINLEY, 1), (cases, 1), (lowercase, 1), (Celebrations, 1), (timesvideo, 1), (Family, 1), (reviews, 1), (can, 1), (Appliances, 1), (nursing, 1), (softcore, 1), (Media, 1), (Regents, 1), (Who, 1), (Munich, 1), (1, 1), (Spin, 1), (product, 1), (applications, 1), (Become, 1), (revealed, 1), (Calendar, 1), (man, 1), (branches, 1), (so, 1), (Ship, 1), (exclusive, 1), (FOURQUET, 1), (Breaking, 1), (Relevance, 1), (police, 1), (Views, 1), (Cruz’s, 1), (Moving, 1), (policy, 1), (loophole, 1), (twohour, 1), (Socialist, 1), (Choices, 1), (1957, 1), (EDITORIAL, 1), (Unusually, 1), (now, 1), (BeautyBarcom, 1), (Simple, 1), (repositories, 1), (Deadline, 1), (Live, 1), (‘Hamilton’, 1), (Leftovers, 1), (Aires, 1), (Consolation, 1), (LineShop, 1), (Aiming, 1), (shows, 1), (inevitably, 1), (Stone, 1), (after, 1), (Carpetbagger, 1), (“great, 1), (TenMarkscom, 1), (Sunday8217, 1), (Walking, 1), (Money, 1), (first, 1), (627, 1), (Start, 1), (Rates, 1), (Stars, 1), (millions, 1), (city, 1), (little, 1), (Monday, 1), (Nesting, 1), (JOHN, 1), (Data, 1), (TwoDay, 1), (IMF, 1), (Storage, 1), (13, 1), (Love, 1), (World’s, 1), (optimism, 1), (Analytics, 1), (future, 1), (Advertise, 1), (browser, 1), (360degree, 1), (Philadelphia, 1), (Refused, 1), (destroy, 1), (multiple, 1), (Dealers, 1), (Unlike, 1), (assault, 1), (Depository, 1), (GOP, 1), (icon, 1), (byDepartment, 1), (George, 1), (massacres, 1), (Groceries, 1), (Accounting, 1), (review, 1), (laws, 1), (Reuters, 1), (Role, 1), (AccountSign, 1), (upgrade, 1), (gwftGrdesktopherosoftlines, 1), (Handpicked, 1), (get, 1), (Products, 1), (Right, 1), (across, 1), (8216Bloody, 1), (Crew, 1), (BOARD, 1), (calendar, 1), (Worldwide, 1), (Shopping, 1), (Breaks, 1), (enough, 1), (Than, 1), (screen, 1), (Sense, 1), (signaled, 1), (BERNARD, 1), (Marco, 1), (Sweetness, 1), (Primary, 1), (Death, 1), (Note, 1), (crew, 1), (Bets, 1), (sensible, 1), (arts, 1), (Assembly, 1), (Electric, 1), (arty, 1), (mark, 1), (Schools, 1), (BURNS, 1), (500, 1), (Lawn, 1), (shopping, 1), (Action, 1), (former, 1), (those, 1), (Commander, 1), (Lauren, 1), (Woot, 1), (Additional, 1), (Content, 1), (middle, 1), (Compelling, 1), (fame, 1), (Protesters, 1), (Vinyl, 1), (7mo, 1), (Clear, 1), (refusal, 1), (Apparel, 1), (Patio, 1), (DVDs, 1), (2015Today’s, 1), (It, 1), (Rent, 1), (DEWALT, 1), (Carell, 1), (Physical, 1), (Service, 1), (being, 1), (actress, 1), (Wagcom, 1), (room”, 1), (death, 1), (Jobs, 1), (Spot, 1), (it’s, 1), (Applications, 1), (treatment, 1), (Approved, 1), (Roller, 1), (Spoiler, 1), (‘Love’, 1), (Cams, 1), (Crafts, 1), (amp, 1), (Trips, 1), (Talk, 1), (Beals, 1), (Share, 1), (SOUTHALL, 1), (Streaming, 1), (Something, 1), (中文, 1), (‘A, 1), (Dress, 1), (Before, 1), (Jewelry, 1), (West, 1), (Mark, 1), (DevicesHelp, 1), (Printers, 1), (MixUp, 1), (York’s, 1), (Rites, 1), (Answers, 1), (Projects, 1), (CreateSpace, 1), (Comics, 1), (communicate, 1), (pastors, 1), (Outdoors, 1), (AccountTryPrimeYourListsCart, 1), (Transit, 1), (maker’s, 1), (OrdersShipping, 1), (EkoParty, 1), (communication, 1), (Away, 1), (accounts, 1), (UsSell, 1), (posters, 1), (Meeting, 1), (BoehnerLike, 1), (Week, 1), (Tokaji, 1), (Hotel, 1), (Prestige, 1), (Obama, 1), (VendorrsaquoSee, 1), (J, 1), (Known, 1), (Medicines’, 1), (Broadway’s, 1), (House, 1), (agree, 1), (Delivered, 1), (Blog, 1), (again, 1), (storage, 1), (Helping, 1), (5, 1), (collaborative, 1), (includes, 1), (BENNHOLD, 1), (Governmentwatchdog, 1), (tackle, 1), (Addiction, 1), (Essay, 1), (Direct, 1), (Pantry, 1), (HASSAN, 1), (Dishes, 1), (CDs, 1), (Take, 1), (follow, 1), (DAVENPORT, 1), (apartment, 1), (Unlocked, 1), (pledges, 1), (Training, 1), (far, 1), (Alaska, 1), (Conversation, 1), (fall, 1), (Ring, 1), (rate, 1), (lawyer, 1), (East, 1), (Straying, 1), (Worked, 1), (Rhetoric, 1), (Short, 1), (Clouds, 1), (Tracing, 1), (Departments, 1), (Patti, 1), (operating, 1), (Briefing, 1), (Baudelaire’s, 1), (Sonnabend, 1), (conviction, 1), (allows, 1), (experience, 1), (healthier, 1), (action, 1), (W, 1), (Sparkling, 1), (Too, 1), (Animal, 1), (Crash, 1), (Explorer, 1), (Lives, 1), (Russian, 1), (Philippines, 1), (Found, 1), (Looking, 1), (include, 1), (Conference, 1), (Different, 1), (Laquan, 1), (accept, 1), (Dead’, 1), (occasionally, 1), (Yolanda, 1), (plans, 1), (Audiobook, 1), (617, 1), (brands, 1), (short, 1), (DevicesMake, 1), (Film, 1), (help, 1), (YouYour, 1), (Forces, 1), (Supplies, 1), (25, 1), (Full, 1), (21, 1), (systems, 1), (Sues, 1), (Blood, 1), (Shenanigans, 1), (PrimeReturns, 1), (Muñoz, 1), (always, 1), (Fabric, 1), (energy, 1), (Joseph, 1), (160160160Boys, 1), (Warehouse, 1), (Reading, 1), (try, 1), (Door, 1), (Kids’, 1), (Packing, 1), (Astronomy, 1), (Cool, 1), (Male, 1), (JUSTIN, 1), (Years, 1), (Expect, 1), (EmailedMost, 1), (Dangers, 1), (Corruption, 1), (least, 1), (Nonprofits, 1), (Paolo, 1), (crop, 1), (terrorism”, 1), (BARRY, 1), (Yearley, 1), (headings, 1), (Club, 1), (AccountYour, 1), (build, 1), (hurling, 1), (Episode, 1), (Attacks, 1), (most, 1), (sponsored, 1), (darts, 1), (Finds, 1), (Eldar, 1), (gwftGrdesktopheropiv, 1), (Cost, 1), (Cloud, 1), (PopUp, 1), (didn’t, 1), (United, 1), (Hill, 1), (ADEEL, 1), (Kingdom, 1), (justice, 1), (Explore, 1), (Sellers, 1), (MarketplaceAmazon, 1), (Wife, 1), (Son”, 1), (Navarro, 1), (him, 1), (target, 1), (Minneapolis, 1), (recommendations, 1), (Attendance, 1), (Plays, 1), (Essentials, 1), (Create, 1), (RUKMINI, 1), (Negotiators, 1), (declined, 1), (Questionable, 1), (Brainy, 1), (matter, 1), (Critics, 1), (fans, 1), (bigots, 1), (recently, 1), (Could, 1), (interface, 1), (Dane, 1), (Maker, 1), (Spurred, 1), (Hard, 1), (Steve, 1), (Mosul, 1), (Todd, 1), (Happiness, 1), (DPReview, 1), (hackers, 1), (Ballet, 1), (community, 1), (ProductsSelfPublish, 1), (desktop, 1), (described, 1), (create, 1), (Shells, 1), (political, 1), (RevolvingDoor, 1), (God, 1), (meeting, 1), (Card, 1), (Women, 1), (RelationsAmazon, 1), (flight, 1), (Textbooks, 1), (Polls, 1), (gwftGrdesktopherokindleB, 1), (gwftGrdesktopherokindleA, 1), (lives, 1), (Software, 1), (Didn8217t, 1), (Journeys, 1), (Taste, 1), (Sales, 1), (Booth, 1), (HARCOURT, 1), (Miss, 1), (Emerges, 1), (government, 1), (Alert, 1), (Extraordinary, 1), (9, 1), (numeral, 1), (JetBlue, 1), (Charged, 1), (integrations, 1), (ComiXology, 1), (Ryazanov, 1), (Technology, 1), (Rate, 1), (Names, 1), (organization, 1), (know, 1), (Handmade, 1), (Survivors, 1), (Faulty, 1), (letting, 1), (PERLROTH, 1), (loading, 1), (VTech, 1), (GoPro, 1), (Brands, 1), (input, 1), (Marine, 1), (Distraction, 1), (unlimited, 1), (Air, 1), (Defends, 1), (Contributing, 1), (Computing, 1), (Cohen, 1), (indication, 1), (Columnists, 1), (Dakota, 1), (Fine, 1), (Find, 1), (world’s, 1), (Wearables, 1), (HighSalt, 1), (Frank, 1), (Scalable, 1), (gwftGrdesktopheroH, 1), (Hello, 1), (Bars, 1), (VineMarketcom, 1), (MYHABIT, 1), (Young, 1), (servers, 1), (USBacked, 1), (ACX, 1), (User, 1), (Coverage, 1), (JOYCE, 1), (elsewhere, 1), (link, 1), (Opinionator, 1), (Christmas’, 1), (directed, 1), (Cities, 1), (Office, 1), (Ditches, 1), (Cruise, 1), (called, 1), (flocked, 1), (Attack, 1), (Manhattan, 1), (Map, 1), (Conservatives’, 1), (May, 1), (clicking, 1), (politicians, 1), (160160160Men, 1), (Background, 1), (Man, 1), (Durst’s, 1), (Laughing, 1), (Audio, 1), (ago, 1), (Ad, 1), (Weddings, 1), (turbines, 1), (protests, 1), (2008, 1), (sounded, 1), (gt, 1), (Leftovers’, 1), (go, 1), (Rock8221, 1), (contributions, 1), (issues, 1), (shackles, 1), (send, 1), (attackers, 1), (Not, 1), (Nov, 1), (Region, 1), (Wheels, 1), (Angelou, 1), (Emerging, 1), (Related, 1), (deals, 1), (Disaffection, 1), (Select, 1), (Index, 1), (Zimmermann, 1), (Cameras, 1), (uncomfortable, 1), (Tshirts, 1), (Wounds, 1), (access, 1), (Assault, 1), (Lebowitz, 1), (proliferation, 1), (Homeless, 1), (explore, 1), (Is Littered, 1), (32, 1), (‘Black, 1), (suggests, 1), (Download, 1), (330, 1), (private, 1), (Conditions, 1), (Mock, 1), (Status, 1), (Sold, 1), (seamless, 1), (next, 1), (few, 1), (Membership, 1), (160160160Girls, 1), (Lang, 1), (started, 1), (Reward, 1), (account, 1), (Feedback, 1), (Score, 1), (Traveler, 1), (8216Humble8217, 1), (Began, 1), (Cultured, 1), (Details, 1), (hit, 1), (native, 1), (Smartwatches, 1), (ViewedRecommended, 1), (Paper, 1), (Boarding, 1), (‘Unsafe, 1), (Ryan, 1), (Pinups, 1), (Outdoor, 1), (Letters, 1), (lines, 1), (Expensive, 1), (OvertheCounter, 1), (Smith, 1), (Airbnb, 1), (report, 1), (Troubling, 1), (Final, 1), (Strives, 1), (perfect, 1), (Scientific, 1), (Serena, 1), (emails, 1), (Director, 1), (Pressure, 1), (Casacom, 1), (Luis, 1), (Blamed, 1), (Dissolving, 1), (Car, 1), (Loser, 1), (day, 1), (Accessories, 1), (Replica, 1), (LAURE, 1), (Luxury, 1), (8220School, 1), (related, 1), (Next, 1), (88, 1), (books, 1), (Print, 1), (our, 1), (80, 1), (Very, 1), (Great, 1), (memes, 1), (supports, 1), (Reveal, 1), (This, 1), (British, 1), (Corrections, 1), (Topics, 1), (Celebrities, 1), (Aces, 1), (Pros, 1), (Convicted, 1), (‘Youth’, 1), (“Mourning, 1), (management, 1), (Fran, 1), (View, 1), (Javier, 1), (RunnerUp, 1), (Portraits, 1), (Edition, 1), (JESSE, 1), (Speed’, 1), (comfortable, 1), (Other, 1), (Pirelli, 1), (need, 1), (Activities, 1), (Focused, 1), (NICOLE, 1), (Rolling, 1), (Ticket, 1), (Blogs, 1), (delayed, 1), (Without, 1), (Horizon, 1), (Modi, 1), (Instruments, 1), (Some, 1), (Pop, 1), (Donald, 1), (CardsSellHelp, 1), (Father’s, 1), (text, 1), (Math, 1), (tire, 1), (should, 1), (Homes, 1), (Flags’, 1), (Industrial, 1), (THE, 1), (River, 1), (Guarantee, 1), (Jurors, 1), (Disbelief, 1), (progress, 1), (bought, 1), (Jane’s, 1), (Precedent, 1), (Lawyer, 1), (comment, 1), (Log, 1), (respect, 1), (quit, 1), (Rewards, 1), (COHEN, 1), (expressed, 1), (Ryan’s, 1), (Gen, 1), (powerful, 1), (collaborators, 1), (FREE, 1), (Face, 1), (gwftGrdesktopheroprime, 1), (Wordplay, 1), (decades, 1), (Number, 1), (AmazonBecome, 1), (Any, 1), (MORE, 1), (UsCareersAbout, 1), (Beach, 1), (CoverUp, 1), (Garden, 1), (perhaps, 1), (landmarks, 1), (largest, 1), (Luggage, 1), (student, 1), (Keeps, 1), (States, 1), (Have, 1), (Need, 1), (position, 1), (Reformers, 1), (usual, 1), (Influenced, 1), (guitarist, 1), (Internationally, 1), (Gourmet, 1), (distant, 1), (Weeks, 1), (Dark, 1), (DeanRex, 1), (Company, 1), (enact, 1), (Budget’s, 1), (Governor’s, 1), (Programs, 1), (Shipping, 1), (Their, 1), (AffiliateAdvertise, 1), (become, 1), (ExAssembly, 1), (Quiz, 1), (Breach, 1), (Newly, 1), (“dartboard, 1), (ASHLEY, 1), (lead, 1), (Inside, 1), (China’s, 1), (Planned, 1), (world, 1), (getting, 1), (staked, 1), (December, 1), (Questions, 1), (documentary, 1), (Mayor, 1), (executives, 1), (Alerts, 1), (Iraqi, 1), (Thousands, 1), (Evolving, 1), (Alexa, 1), (Musical, 1), (IMDb, 1), (Actionable, 1), (It’s, 1), (he, 1), (made, 1), (Contraception, 1), (official, 1), (·, 1), (problem, 1), (Moment’, 1), (website, 1), (AbeBooks, 1), (Discover, 1), (shooting, 1), (campus, 1), (Goodreads, 1), (Tarts, 1), (Wines, 1), (details, 1), (star, 1), (Like, 1), (BusinessSell, 1), (Page, 1), (South, 1), (Shooting, 1), ]\n"
     ]
    }
   ],
   "source": [
    "result = w4.getWordsFrequency(reverses=True)\n",
    "\n",
    "\n",
    "print '[',\n",
    "for x in result :\n",
    "    print '(%s, %d),' % (x[0], x[1]), \n",
    "print ']'"
   ]
  },
  {
   "cell_type": "markdown",
   "metadata": {},
   "source": [
    "WebWordsFrequency을 상속받아 클래스 OrderedWebWordsFrequency를 선언하였다. WebWordsFrequency에 있던 기존의 메소드 getWordsFrequency에서 기본적으로 전체 단어의 빈도수를 찾아주는 역할을 하므로 빈도수의 내림차순으로 정렬하는 기능만 추가하였다. WebWordsFrequency클래스에서 최대 빈도수 단어를 찾을 때 사전을 내림차순으로 정렬하였는데, 그 때 사용한 방식을 그대로 적용하여 전체 단어의 빈도수 별로 출력을 해주는 getWordsFrequency메소드를 재정의 해주었다."
   ]
  },
  {
   "cell_type": "markdown",
   "metadata": {},
   "source": [
    "###15. 다음과 같은 코딩이 가능하도록 OrderedWebWordsFrequency 안에 반복자와 관련된 메소드를 추가하시오.\n",
    "\n",
    ">for i in w4: <br />\n",
    "    >print i <br /><br />\n",
    "('site, 12) <br />\n",
    "('science', 11) <br />\n",
    "('hello', 8) <br />\n",
    "('world', 2) <br />\n",
    "('program', 1) <br />\n",
    "('python', 1) <br />"
   ]
  },
  {
   "cell_type": "code",
   "execution_count": 156,
   "metadata": {
    "collapsed": false
   },
   "outputs": [
    {
     "ename": "TypeError",
     "evalue": "iteration over non-sequence",
     "output_type": "error",
     "traceback": [
      "\u001b[1;31m---------------------------------------------------------------------------\u001b[0m",
      "\u001b[1;31mTypeError\u001b[0m                                 Traceback (most recent call last)",
      "\u001b[1;32m<ipython-input-156-f0d928daf6fd>\u001b[0m in \u001b[0;36m<module>\u001b[1;34m()\u001b[0m\n\u001b[1;32m----> 1\u001b[1;33m \u001b[1;32mfor\u001b[0m \u001b[0mi\u001b[0m \u001b[1;32min\u001b[0m \u001b[0mw4\u001b[0m\u001b[1;33m:\u001b[0m\u001b[1;33m\u001b[0m\u001b[0m\n\u001b[0m\u001b[0;32m      2\u001b[0m     \u001b[1;32mprint\u001b[0m \u001b[0mi\u001b[0m\u001b[1;33m.\u001b[0m\u001b[0mnext\u001b[0m\u001b[1;33m(\u001b[0m\u001b[1;33m)\u001b[0m\u001b[1;33m\u001b[0m\u001b[0m\n",
      "\u001b[1;31mTypeError\u001b[0m: iteration over non-sequence"
     ]
    }
   ],
   "source": [
    "for i in w4:\n",
    "    print i.next()"
   ]
  },
  {
   "cell_type": "code",
   "execution_count": null,
   "metadata": {
    "collapsed": true
   },
   "outputs": [],
   "source": []
  }
 ],
 "metadata": {
  "kernelspec": {
   "display_name": "Python 2",
   "language": "python",
   "name": "python2"
  },
  "language_info": {
   "codemirror_mode": {
    "name": "ipython",
    "version": 2
   },
   "file_extension": ".py",
   "mimetype": "text/x-python",
   "name": "python",
   "nbconvert_exporter": "python",
   "pygments_lexer": "ipython2",
   "version": "2.7.9"
  }
 },
 "nbformat": 4,
 "nbformat_minor": 0
}
